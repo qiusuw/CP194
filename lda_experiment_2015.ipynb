{
 "cells": [
  {
   "cell_type": "markdown",
   "metadata": {},
   "source": [
    "This notebook uses LDA to extract topics from the curriculum texts and uses pyLDAvis for visualization.\n",
    "\n",
    "LDA considers each document as a collection of topics in a certain proportion. It rearranges the topics distribution within the documents and keywords distribution within the topics to obtain a good composition of topic-keywords distribution.\n"
   ]
  },
  {
   "cell_type": "markdown",
   "metadata": {},
   "source": [
    "### Import Libraries and Data"
   ]
  },
  {
   "cell_type": "code",
   "execution_count": 16,
   "metadata": {},
   "outputs": [],
   "source": [
    "import pandas as pd\n",
    "import numpy as np\n",
    "import spacy\n",
    "nlp = spacy.load('en_core_web_lg')\n",
    "\n",
    "import gensim\n",
    "import gensim.corpora as corpora\n",
    "from gensim.utils import simple_preprocess\n",
    "from gensim.models import CoherenceModel\n",
    "\n",
    "import pyLDAvis\n",
    "import pyLDAvis.gensim\n",
    "import matplotlib.pyplot as plt\n",
    "from pprint import pprint"
   ]
  },
  {
   "cell_type": "code",
   "execution_count": 17,
   "metadata": {},
   "outputs": [],
   "source": [
    "df = pd.read_csv('text-similarity-2.csv', index_col=0)"
   ]
  },
  {
   "cell_type": "code",
   "execution_count": 18,
   "metadata": {},
   "outputs": [],
   "source": [
    "df['text_parsed'] = list(nlp.pipe(df['text']))"
   ]
  },
  {
   "cell_type": "code",
   "execution_count": 19,
   "metadata": {},
   "outputs": [],
   "source": [
    "# remove stopwords and punctuations\n",
    "df['tokenized'] = df['text_parsed'].apply(lambda doc: [str(t) for t in doc if not t.is_punct and not t.is_stop])"
   ]
  },
  {
   "cell_type": "code",
   "execution_count": 20,
   "metadata": {},
   "outputs": [],
   "source": [
    "# with nouns\n",
    "df['text_nouns'] = df['text_parsed'].apply(lambda doc: nlp(\" \".join([str(t) for t in doc if t.pos_ in ['NOUN', 'PROPN']])))"
   ]
  },
  {
   "cell_type": "code",
   "execution_count": 21,
   "metadata": {},
   "outputs": [],
   "source": [
    "data_words = list(df['tokenized'])"
   ]
  },
  {
   "cell_type": "code",
   "execution_count": 22,
   "metadata": {},
   "outputs": [],
   "source": [
    "data_nouns = list(df['text_nouns'])"
   ]
  },
  {
   "cell_type": "markdown",
   "metadata": {},
   "source": [
    "### Create bigrams and trigram models"
   ]
  },
  {
   "cell_type": "code",
   "execution_count": 23,
   "metadata": {},
   "outputs": [
    {
     "name": "stdout",
     "output_type": "stream",
     "text": [
      "['Practise', 'refine', 'technical', 'expressive', 'skills', 'develop', 'proficiency', 'genre', 'style', 'specific', 'techniques']\n"
     ]
    }
   ],
   "source": [
    "# Build the bigram and trigram models\n",
    "bigram = gensim.models.Phrases(df['tokenized'], min_count=5, threshold=50) # higher threshold fewer phrases.\n",
    "trigram = gensim.models.Phrases(bigram[df['tokenized']], threshold=50)  \n",
    "\n",
    "# Faster way to get a sentence clubbed as a trigram/bigram\n",
    "bigram_mod = gensim.models.phrases.Phraser(bigram)\n",
    "trigram_mod = gensim.models.phrases.Phraser(trigram)\n",
    "\n",
    "# See trigram example\n",
    "print(trigram_mod[bigram_mod[df['tokenized'][0]]])"
   ]
  },
  {
   "cell_type": "markdown",
   "metadata": {},
   "source": [
    "### Remove Stopwords, Make Bigrams and Lemmatize"
   ]
  },
  {
   "cell_type": "code",
   "execution_count": 24,
   "metadata": {},
   "outputs": [],
   "source": [
    "# Define functions for stopwords, bigrams, trigrams and lemmatization\n",
    "\n",
    "def make_bigrams(texts):\n",
    "    return [bigram_mod[doc] for doc in texts]\n",
    "\n",
    "def make_trigrams(texts):\n",
    "    return [trigram_mod[bigram_mod[doc]] for doc in texts]\n",
    "\n",
    "def lemmatization(texts, allowed_postags=['NOUN', 'ADJ', 'VERB', 'ADV']):\n",
    "    texts_out = []\n",
    "    for sent in texts:\n",
    "        doc = nlp(\" \".join(sent)) \n",
    "        texts_out.append([token.lemma_ for token in doc if token.pos_ in allowed_postags])\n",
    "    return texts_out"
   ]
  },
  {
   "cell_type": "code",
   "execution_count": 25,
   "metadata": {},
   "outputs": [
    {
     "name": "stdout",
     "output_type": "stream",
     "text": [
      "[['practise', 'refine', 'technical', 'expressive', 'skill', 'develop', 'proficiency', 'genre', 'style', 'specific', 'technique']]\n"
     ]
    }
   ],
   "source": [
    "# Form Bigrams\n",
    "data_words_bigrams = make_bigrams(data_words)\n",
    "nlp = spacy.load('en_core_web_lg', disable=['parser', 'ner'])\n",
    "\n",
    "# Do lemmatization keeping only noun, adj, vb, adv\n",
    "data_lemmatized = lemmatization(data_words_bigrams, allowed_postags=['NOUN', 'ADJ', 'VERB', 'ADV'])\n",
    "\n",
    "print(data_lemmatized[:1])"
   ]
  },
  {
   "cell_type": "markdown",
   "metadata": {},
   "source": [
    "### Create the Dictionary and Corpus needed for Topic Modeling\n",
    "\n",
    "Gensim creates a unique id for each word in the document. The produced corpus shown above is a mapping of (word_id, word_frequency)."
   ]
  },
  {
   "cell_type": "code",
   "execution_count": 26,
   "metadata": {},
   "outputs": [
    {
     "name": "stdout",
     "output_type": "stream",
     "text": [
      "[[(0, 1), (1, 1), (2, 1), (3, 1), (4, 1), (5, 1), (6, 1), (7, 1), (8, 1), (9, 1), (10, 1)]]\n"
     ]
    }
   ],
   "source": [
    "# The two main inputs to the LDA topic model are the dictionary(id2word) and the corpus.\n",
    "# Create Dictionary\n",
    "id2word = corpora.Dictionary(data_lemmatized)\n",
    "\n",
    "# Create Corpus\n",
    "texts = data_lemmatized\n",
    "\n",
    "# Term Document Frequency\n",
    "corpus = [id2word.doc2bow(text) for text in texts]\n",
    "\n",
    "# View\n",
    "print(corpus[:1])"
   ]
  },
  {
   "cell_type": "code",
   "execution_count": 27,
   "metadata": {},
   "outputs": [
    {
     "data": {
      "text/plain": [
       "[[('develop', 1),\n",
       "  ('expressive', 1),\n",
       "  ('genre', 1),\n",
       "  ('practise', 1),\n",
       "  ('proficiency', 1),\n",
       "  ('refine', 1),\n",
       "  ('skill', 1),\n",
       "  ('specific', 1),\n",
       "  ('style', 1),\n",
       "  ('technical', 1),\n",
       "  ('technique', 1)]]"
      ]
     },
     "execution_count": 27,
     "metadata": {},
     "output_type": "execute_result"
    }
   ],
   "source": [
    "[[(id2word[id], freq) for id, freq in cp] for cp in corpus[:1]]"
   ]
  },
  {
   "cell_type": "markdown",
   "metadata": {},
   "source": [
    "### Building the Topic Model\n",
    "\n",
    "alpha affects sparsity of the topics. According to the Gensim docs, defaults to 1.0/num_topics prior.\n",
    "\n",
    "chunksize is the number of documents to be used in each training chunk. \n",
    "update_every determines how often the model parameters should be updated and passes is the total number of training passes."
   ]
  },
  {
   "cell_type": "code",
   "execution_count": 28,
   "metadata": {},
   "outputs": [],
   "source": [
    "# Build LDA model\n",
    "lda_model = gensim.models.ldamodel.LdaModel(corpus=corpus,\n",
    "                                           id2word=id2word,\n",
    "                                           num_topics=8, \n",
    "                                           random_state=100,\n",
    "                                           update_every=1,\n",
    "                                           chunksize=50,\n",
    "                                           passes=10,\n",
    "                                           alpha='asymmetric',\n",
    "                                           per_word_topics=True)"
   ]
  },
  {
   "cell_type": "code",
   "execution_count": 29,
   "metadata": {},
   "outputs": [
    {
     "name": "stdout",
     "output_type": "stream",
     "text": [
      "[(0,\n",
      "  '0.029*\"different\" + 0.027*\"evaluate\" + 0.027*\"text\" + 0.025*\"range\" + '\n",
      "  '0.019*\"context\" + 0.018*\"explore\" + 0.018*\"design\" + 0.017*\"develop\" + '\n",
      "  '0.016*\"structure\" + 0.015*\"create\"'),\n",
      " (1,\n",
      "  '0.063*\"system\" + 0.019*\"perspective\" + 0.017*\"operation\" + 0.016*\"health\" + '\n",
      "  '0.016*\"apply\" + 0.015*\"compare\" + 0.015*\"rely\" + 0.015*\"universe\" + '\n",
      "  '0.015*\"magnet\" + 0.015*\"coordinate\"'),\n",
      " (2,\n",
      "  '0.050*\"explain\" + 0.050*\"include\" + 0.035*\"influence\" + 0.024*\"people\" + '\n",
      "  '0.024*\"global\" + 0.024*\"different\" + 0.023*\"government\" + 0.022*\"response\" '\n",
      "  '+ 0.022*\"society\" + 0.022*\"value\"'),\n",
      " (3,\n",
      "  '0.026*\"scientific\" + 0.024*\"technology\" + 0.024*\"information\" + '\n",
      "  '0.023*\"chemical\" + 0.019*\"appropriate\" + 0.019*\"include\" + 0.018*\"datum\" + '\n",
      "  '0.018*\"environment\" + 0.016*\"time\" + 0.015*\"connect\"'),\n",
      " (4,\n",
      "  '0.056*\"place\" + 0.032*\"cause\" + 0.027*\"simple\" + 0.026*\"living\" + '\n",
      "  '0.020*\"nature\" + 0.019*\"contribute\" + 0.018*\"link\" + 0.017*\"consequence\" + '\n",
      "  '0.017*\"predict\" + 0.014*\"country\"'),\n",
      " (5,\n",
      "  '0.047*\"effect\" + 0.037*\"significant\" + 0.030*\"evaluate\" + 0.027*\"change\" + '\n",
      "  '0.023*\"pattern\" + 0.022*\"task\" + 0.018*\"analyse\" + 0.018*\"activity\" + '\n",
      "  '0.016*\"time\" + 0.015*\"live\"'),\n",
      " (6,\n",
      "  '0.049*\"involve\" + 0.025*\"relationship\" + 0.025*\"energy\" + 0.024*\"strategy\" '\n",
      "  '+ 0.022*\"solve\" + 0.019*\"reaction\" + 0.017*\"investigate\" + '\n",
      "  '0.016*\"component\" + 0.016*\"process\" + 0.014*\"transfer\"'),\n",
      " (7,\n",
      "  '0.042*\"event\" + 0.039*\"development\" + 0.026*\"scientific\" + '\n",
      "  '0.021*\"political\" + 0.019*\"advance\" + 0.018*\"atom\" + 0.017*\"diversity\" + '\n",
      "  '0.017*\"world\" + 0.015*\"shape\" + 0.014*\"examine\"')]\n"
     ]
    }
   ],
   "source": [
    "# Print the Keyword in the 10 topics\n",
    "pprint(lda_model.print_topics())\n",
    "doc_lda = lda_model[corpus]"
   ]
  },
  {
   "cell_type": "markdown",
   "metadata": {},
   "source": [
    "### Compute Model Perplexity and Coherence Score\n",
    "\n",
    "Perplexity metric measures how probable some new unseen data is given the model that was learned earlier. That is to say, how well does the model represent or reproduce the statistics of the held-out data.\n",
    "\n",
    "Topic Coherence measures score a single topic by measuring the degree of semantic similarity between high scoring words in the topic."
   ]
  },
  {
   "cell_type": "code",
   "execution_count": 30,
   "metadata": {},
   "outputs": [
    {
     "name": "stdout",
     "output_type": "stream",
     "text": [
      "\n",
      "Perplexity:  -7.015899725880804\n",
      "\n",
      "Coherence Score:  0.4622975898245669\n"
     ]
    }
   ],
   "source": [
    "# Perplexity\n",
    "print('\\nPerplexity: ', lda_model.log_perplexity(corpus))  \n",
    "\n",
    "# Coherence Score\n",
    "coherence_model_lda = CoherenceModel(model=lda_model, texts=data_lemmatized, dictionary=id2word, coherence='c_v')\n",
    "coherence_lda = coherence_model_lda.get_coherence()\n",
    "print('\\nCoherence Score: ', coherence_lda)"
   ]
  },
  {
   "cell_type": "markdown",
   "metadata": {},
   "source": [
    "### Visualize the topics-keywords\n",
    "Examine the produced topics and the associated keywords. \n",
    "\n",
    "Each bubble represents a topic. The larger the bubble, the more prevalent is that topic. A good topic model will have fairly big, non-overlapping bubbles scattered throughout the chart instead of being clustered in one quadrant."
   ]
  },
  {
   "cell_type": "code",
   "execution_count": 31,
   "metadata": {},
   "outputs": [
    {
     "name": "stderr",
     "output_type": "stream",
     "text": [
      "/usr/local/lib/python3.7/site-packages/pyLDAvis/_prepare.py:257: FutureWarning: Sorting because non-concatenation axis is not aligned. A future version\n",
      "of pandas will change to not sort by default.\n",
      "\n",
      "To accept the future behavior, pass 'sort=False'.\n",
      "\n",
      "To retain the current behavior and silence the warning, pass 'sort=True'.\n",
      "\n",
      "  return pd.concat([default_term_info] + list(topic_dfs))\n"
     ]
    },
    {
     "data": {
      "text/html": [
       "\n",
       "<link rel=\"stylesheet\" type=\"text/css\" href=\"https://cdn.rawgit.com/bmabey/pyLDAvis/files/ldavis.v1.0.0.css\">\n",
       "\n",
       "\n",
       "<div id=\"ldavis_el416148398098166557544435\"></div>\n",
       "<script type=\"text/javascript\">\n",
       "\n",
       "var ldavis_el416148398098166557544435_data = {\"mdsDat\": {\"x\": [0.19450718736273945, 0.2065493553336478, -0.12954019940629333, -0.0729131441120975, 0.006774769091019667, -0.05361938184613276, -0.14202186118203564, -0.009736725240847679], \"y\": [-0.18223310065154877, 0.130030018252051, -0.17496035252100364, 0.010990439601554637, 0.059208227610757974, -0.04295866248101001, 0.10608115135400617, 0.09384227883519274], \"topics\": [1, 2, 3, 4, 5, 6, 7, 8], \"cluster\": [1, 1, 1, 1, 1, 1, 1, 1], \"Freq\": [31.29117202758789, 16.062240600585938, 11.109234809875488, 9.03982925415039, 8.621739387512207, 8.521198272705078, 8.354705810546875, 6.999883651733398]}, \"tinfo\": {\"Category\": [\"Default\", \"Default\", \"Default\", \"Default\", \"Default\", \"Default\", \"Default\", \"Default\", \"Default\", \"Default\", \"Default\", \"Default\", \"Default\", \"Default\", \"Default\", \"Default\", \"Default\", \"Default\", \"Default\", \"Default\", \"Default\", \"Default\", \"Default\", \"Default\", \"Default\", \"Default\", \"Default\", \"Default\", \"Default\", \"Default\", \"Topic1\", \"Topic1\", \"Topic1\", \"Topic1\", \"Topic1\", \"Topic1\", \"Topic1\", \"Topic1\", \"Topic1\", \"Topic1\", \"Topic1\", \"Topic1\", \"Topic1\", \"Topic1\", \"Topic1\", \"Topic1\", \"Topic1\", \"Topic1\", \"Topic1\", \"Topic1\", \"Topic1\", \"Topic1\", \"Topic1\", \"Topic1\", \"Topic1\", \"Topic1\", \"Topic1\", \"Topic1\", \"Topic1\", \"Topic1\", \"Topic1\", \"Topic1\", \"Topic1\", \"Topic1\", \"Topic1\", \"Topic1\", \"Topic1\", \"Topic1\", \"Topic1\", \"Topic1\", \"Topic2\", \"Topic2\", \"Topic2\", \"Topic2\", \"Topic2\", \"Topic2\", \"Topic2\", \"Topic2\", \"Topic2\", \"Topic2\", \"Topic2\", \"Topic2\", \"Topic2\", \"Topic2\", \"Topic2\", \"Topic2\", \"Topic2\", \"Topic2\", \"Topic2\", \"Topic2\", \"Topic2\", \"Topic2\", \"Topic2\", \"Topic2\", \"Topic2\", \"Topic2\", \"Topic2\", \"Topic2\", \"Topic2\", \"Topic2\", \"Topic2\", \"Topic2\", \"Topic2\", \"Topic2\", \"Topic2\", \"Topic2\", \"Topic2\", \"Topic2\", \"Topic2\", \"Topic2\", \"Topic3\", \"Topic3\", \"Topic3\", \"Topic3\", \"Topic3\", \"Topic3\", \"Topic3\", \"Topic3\", \"Topic3\", \"Topic3\", \"Topic3\", \"Topic3\", \"Topic3\", \"Topic3\", \"Topic3\", \"Topic3\", \"Topic3\", \"Topic3\", \"Topic3\", \"Topic3\", \"Topic3\", \"Topic3\", \"Topic3\", \"Topic3\", \"Topic3\", \"Topic3\", \"Topic3\", \"Topic3\", \"Topic3\", \"Topic3\", \"Topic3\", \"Topic3\", \"Topic3\", \"Topic3\", \"Topic3\", \"Topic3\", \"Topic3\", \"Topic3\", \"Topic3\", \"Topic3\", \"Topic4\", \"Topic4\", \"Topic4\", \"Topic4\", \"Topic4\", \"Topic4\", \"Topic4\", \"Topic4\", \"Topic4\", \"Topic4\", \"Topic4\", \"Topic4\", \"Topic4\", \"Topic4\", \"Topic4\", \"Topic4\", \"Topic4\", \"Topic4\", \"Topic4\", \"Topic4\", \"Topic4\", \"Topic4\", \"Topic4\", \"Topic4\", \"Topic4\", \"Topic4\", \"Topic4\", \"Topic4\", \"Topic4\", \"Topic4\", \"Topic4\", \"Topic4\", \"Topic4\", \"Topic4\", \"Topic4\", \"Topic4\", \"Topic4\", \"Topic5\", \"Topic5\", \"Topic5\", \"Topic5\", \"Topic5\", \"Topic5\", \"Topic5\", \"Topic5\", \"Topic5\", \"Topic5\", \"Topic5\", \"Topic5\", \"Topic5\", \"Topic5\", \"Topic5\", \"Topic5\", \"Topic5\", \"Topic5\", \"Topic5\", \"Topic5\", \"Topic5\", \"Topic5\", \"Topic5\", \"Topic5\", \"Topic5\", \"Topic5\", \"Topic5\", \"Topic5\", \"Topic5\", \"Topic5\", \"Topic5\", \"Topic5\", \"Topic5\", \"Topic5\", \"Topic5\", \"Topic5\", \"Topic5\", \"Topic5\", \"Topic6\", \"Topic6\", \"Topic6\", \"Topic6\", \"Topic6\", \"Topic6\", \"Topic6\", \"Topic6\", \"Topic6\", \"Topic6\", \"Topic6\", \"Topic6\", \"Topic6\", \"Topic6\", \"Topic6\", \"Topic6\", \"Topic6\", \"Topic6\", \"Topic6\", \"Topic6\", \"Topic6\", \"Topic6\", \"Topic6\", \"Topic6\", \"Topic6\", \"Topic6\", \"Topic6\", \"Topic6\", \"Topic6\", \"Topic6\", \"Topic6\", \"Topic6\", \"Topic6\", \"Topic6\", \"Topic6\", \"Topic6\", \"Topic6\", \"Topic6\", \"Topic6\", \"Topic6\", \"Topic6\", \"Topic6\", \"Topic6\", \"Topic7\", \"Topic7\", \"Topic7\", \"Topic7\", \"Topic7\", \"Topic7\", \"Topic7\", \"Topic7\", \"Topic7\", \"Topic7\", \"Topic7\", \"Topic7\", \"Topic7\", \"Topic7\", \"Topic7\", \"Topic7\", \"Topic7\", \"Topic7\", \"Topic7\", \"Topic7\", \"Topic7\", \"Topic7\", \"Topic7\", \"Topic7\", \"Topic7\", \"Topic7\", \"Topic7\", \"Topic7\", \"Topic7\", \"Topic7\", \"Topic7\", \"Topic7\", \"Topic7\", \"Topic7\", \"Topic7\", \"Topic7\", \"Topic7\", \"Topic7\", \"Topic7\", \"Topic7\", \"Topic8\", \"Topic8\", \"Topic8\", \"Topic8\", \"Topic8\", \"Topic8\", \"Topic8\", \"Topic8\", \"Topic8\", \"Topic8\", \"Topic8\", \"Topic8\", \"Topic8\", \"Topic8\", \"Topic8\", \"Topic8\", \"Topic8\", \"Topic8\", \"Topic8\", \"Topic8\", \"Topic8\", \"Topic8\", \"Topic8\", \"Topic8\", \"Topic8\", \"Topic8\", \"Topic8\", \"Topic8\", \"Topic8\", \"Topic8\", \"Topic8\", \"Topic8\", \"Topic8\", \"Topic8\", \"Topic8\", \"Topic8\", \"Topic8\", \"Topic8\", \"Topic8\"], \"Freq\": [25.0, 17.0, 16.0, 17.0, 43.0, 39.0, 13.0, 21.0, 41.0, 9.0, 27.0, 21.0, 10.0, 13.0, 9.0, 9.0, 19.0, 12.0, 12.0, 11.0, 9.0, 8.0, 9.0, 11.0, 11.0, 9.0, 12.0, 7.0, 10.0, 24.0, 26.61253547668457, 18.435819625854492, 17.6007022857666, 15.902485847473145, 15.055859565734863, 14.453533172607422, 12.511798858642578, 12.264996528625488, 12.287699699401855, 12.20438289642334, 11.97504997253418, 10.88847541809082, 10.676548957824707, 10.582921981811523, 9.874713897705078, 9.7618408203125, 9.710886001586914, 9.60525131225586, 9.284976959228516, 9.262084007263184, 8.301770210266113, 8.221479415893555, 7.846953392028809, 7.845049858093262, 7.863956928253174, 7.488966941833496, 7.13043212890625, 7.100506782531738, 6.8359479904174805, 6.213088035583496, 17.46469497680664, 24.93856430053711, 15.037139892578125, 29.08350944519043, 26.80477523803711, 16.341651916503906, 14.770514488220215, 8.48160171508789, 11.225603103637695, 10.350781440734863, 25.20273780822754, 12.159833908081055, 11.57038688659668, 11.19172191619873, 11.012530326843262, 10.974096298217773, 10.037217140197754, 9.487464904785156, 7.376655101776123, 7.022947788238525, 6.513780117034912, 6.244762897491455, 6.17887020111084, 5.493119716644287, 5.443020820617676, 5.422335147857666, 5.14158821105957, 5.102458477020264, 4.76968240737915, 4.76311731338501, 4.702925682067871, 4.467788219451904, 4.465608596801758, 4.428715229034424, 3.7281014919281006, 17.949811935424805, 2.9630706310272217, 2.9630706310272217, 2.962345600128174, 2.962345600128174, 25.19202423095703, 12.333544731140137, 7.370594501495361, 7.883705139160156, 10.707756996154785, 6.3969879150390625, 12.119906425476074, 7.589939594268799, 5.809126377105713, 5.011998176574707, 17.099315643310547, 8.6973295211792, 8.610485076904297, 8.449605941772461, 5.57904052734375, 4.950570106506348, 4.8444952964782715, 4.493977069854736, 3.973825454711914, 3.6593360900878906, 3.6585121154785156, 3.524951219558716, 3.361374855041504, 3.3088574409484863, 7.6468353271484375, 3.134079694747925, 3.127213716506958, 2.8941330909729004, 2.894015312194824, 2.893639326095581, 2.893639326095581, 2.7599048614501953, 2.554032564163208, 2.554032564163208, 2.445897340774536, 2.445897340774536, 2.443025827407837, 2.1305785179138184, 2.1302430629730225, 2.1302430629730225, 4.5210041999816895, 5.482532978057861, 6.665586948394775, 5.872102737426758, 3.4959332942962646, 4.334493160247803, 3.500553846359253, 2.8813133239746094, 3.0605926513671875, 3.49392032623291, 15.924890518188477, 9.149842262268066, 7.612270355224609, 7.291632175445557, 5.608023166656494, 5.32525634765625, 5.070033073425293, 4.762825965881348, 4.734577178955078, 3.6315360069274902, 3.0188827514648438, 2.808190107345581, 2.7612199783325195, 2.7587695121765137, 2.444135904312134, 2.4273195266723633, 2.3890395164489746, 2.3001506328582764, 2.269721746444702, 2.1995272636413574, 2.114436149597168, 1.746500849723816, 1.7460956573486328, 1.7437744140625, 1.6617854833602905, 1.625008463859558, 3.9456822872161865, 1.4688223600387573, 1.380083680152893, 1.3801227807998657, 3.3826210498809814, 2.3096165657043457, 3.697587490081787, 2.5686287879943848, 2.376573324203491, 3.297236442565918, 2.8382065296173096, 12.820547103881836, 10.049392700195312, 6.346407413482666, 5.979714870452881, 4.872107028961182, 4.183279991149902, 3.842820882797241, 3.7488389015197754, 3.5279462337493896, 3.083129405975342, 2.9245212078094482, 2.5732691287994385, 2.5732691287994385, 2.5732691287994385, 2.57281756401062, 2.57281756401062, 2.57281756401062, 2.57281756401062, 2.57281756401062, 2.57281756401062, 2.4887351989746094, 2.388634443283081, 2.4409658908843994, 2.1532862186431885, 2.1532862186431885, 2.1531496047973633, 1.9777113199234009, 1.977440595626831, 1.7494477033615112, 1.7020397186279297, 2.8199992179870605, 7.464878559112549, 4.265308856964111, 8.296849250793457, 4.885822296142578, 3.2664804458618164, 3.7790369987487793, 2.9800314903259277, 5.182819366455078, 4.719727993011475, 4.036406993865967, 3.720123052597046, 3.7091379165649414, 3.6707465648651123, 6.47482967376709, 2.9804625511169434, 2.748534679412842, 2.6868817806243896, 2.6397368907928467, 2.318293571472168, 2.2997090816497803, 2.2997090816497803, 2.2997090816497803, 2.299461603164673, 2.2992281913757324, 2.2992281913757324, 2.2992281913757324, 2.2992281913757324, 2.2992208003997803, 2.297287702560425, 2.1887171268463135, 1.7322032451629639, 1.732116460800171, 1.6489192247390747, 1.6097006797790527, 1.5875723361968994, 1.4530673027038574, 1.2473903894424438, 6.5886735916137695, 4.832676887512207, 3.030214786529541, 7.129848957061768, 6.285067081451416, 4.419937610626221, 3.3989267349243164, 2.9307589530944824, 3.9782955646514893, 5.085438251495361, 2.9315569400787354, 2.5594184398651123, 2.3939037322998047, 16.523897171020508, 4.5956830978393555, 4.330195426940918, 4.27774715423584, 3.966834306716919, 3.8871285915374756, 3.8870418071746826, 3.8865413665771484, 3.886505126953125, 3.7167179584503174, 3.650545597076416, 2.8997581005096436, 2.7979235649108887, 2.7120766639709473, 2.588808059692383, 2.504642963409424, 2.3716390132904053, 2.131263494491577, 1.9786014556884766, 1.9786014556884766, 1.9786014556884766, 1.9786014556884766, 1.9786014556884766, 1.9786014556884766, 1.9786014556884766, 1.9786014556884766, 1.9786014556884766, 1.9786014556884766, 1.9786014556884766, 1.9786014556884766, 5.018957614898682, 3.8881030082702637, 3.7734932899475098, 3.576202154159546, 2.4354500770568848, 2.2018063068389893, 2.647153854370117, 2.0085058212280273, 2.0327401161193848, 1.9788988828659058, 9.307857513427734, 8.635618209838867, 4.562279224395752, 4.116591930389404, 3.829742431640625, 2.655266284942627, 2.403873920440674, 2.0955166816711426, 2.0955166816711426, 2.0955166816711426, 2.0955166816711426, 2.0955166816711426, 2.0955166816711426, 2.0955166816711426, 2.0952506065368652, 2.0952506065368652, 2.0952506065368652, 2.0952506065368652, 2.095273733139038, 2.0950005054473877, 2.0398623943328857, 1.6101202964782715, 3.7243082523345947, 1.2849985361099243, 1.2406394481658936, 1.1364102363586426, 1.0568853616714478, 1.0502421855926514, 0.9073208570480347, 2.5797808170318604, 2.730100154876709, 4.069021701812744, 5.7784013748168945, 2.6234378814697266, 3.132946014404297, 3.242464542388916, 2.0950539112091064, 2.703495979309082, 2.478158712387085], \"Term\": [\"explain\", \"system\", \"place\", \"involve\", \"include\", \"evaluate\", \"effect\", \"influence\", \"different\", \"event\", \"text\", \"change\", \"significant\", \"scientific\", \"development\", \"cause\", \"people\", \"global\", \"government\", \"response\", \"relationship\", \"simple\", \"energy\", \"society\", \"value\", \"strategy\", \"chemical\", \"living\", \"technology\", \"analyse\", \"text\", \"context\", \"explore\", \"structure\", \"create\", \"community\", \"experience\", \"element\", \"individual\", \"purpose\", \"language\", \"group\", \"plan\", \"concept\", \"digital\", \"ethical\", \"understanding\", \"audience\", \"skill\", \"natural\", \"refine\", \"specific\", \"conflict\", \"circuit\", \"particular\", \"new\", \"work\", \"personal\", \"visual\", \"style\", \"design\", \"range\", \"idea\", \"different\", \"evaluate\", \"develop\", \"analyse\", \"form\", \"movement\", \"include\", \"explain\", \"global\", \"government\", \"response\", \"society\", \"value\", \"factor\", \"right\", \"environmental\", \"discuss\", \"way\", \"australian\", \"describe\", \"responsibility\", \"law\", \"non\", \"relation\", \"decision\", \"economic\", \"connection\", \"management\", \"belief\", \"independent\", \"current\", \"policy\", \"influence\", \"formation\", \"party\", \"positive\", \"ability\", \"include\", \"people\", \"identify\", \"social\", \"change\", \"role\", \"different\", \"movement\", \"cultural\", \"shape\", \"involve\", \"relationship\", \"energy\", \"strategy\", \"component\", \"transfer\", \"problem\", \"model\", \"critique\", \"respectful\", \"product\", \"property\", \"outcome\", \"need\", \"solve\", \"linear\", \"formula\", \"representative\", \"diverse\", \"team\", \"leadership\", \"characteristics\", \"explanation\", \"description\", \"force\", \"motion\", \"refined\", \"heat\", \"exchange\", \"physics\", \"algebraic\", \"process\", \"reaction\", \"investigate\", \"solution\", \"develop\", \"chemical\", \"equation\", \"identify\", \"evaluate\", \"place\", \"cause\", \"simple\", \"living\", \"nature\", \"contribute\", \"link\", \"consequence\", \"predict\", \"take\", \"reason\", \"intend\", \"benefit\", \"safety\", \"variation\", \"interconnect\", \"content\", \"action\", \"possible\", \"unintended\", \"quality\", \"enlist\", \"fight\", \"settlement\", \"engage\", \"emerge\", \"country\", \"economy\", \"analysis\", \"nation\", \"war\", \"scale\", \"perspective\", \"datum\", \"solution\", \"investigate\", \"idea\", \"effect\", \"significant\", \"pattern\", \"task\", \"activity\", \"live\", \"future\", \"understand\", \"continuity\", \"evolution\", \"drama\", \"geological\", \"plate\", \"tectonic\", \"contribution\", \"achievement\", \"goal\", \"improvement\", \"peer\", \"recommendation\", \"achieve\", \"term\", \"implication\", \"century\", \"twentieth\", \"turn\", \"reference\", \"point\", \"physical\", \"play\", \"international\", \"change\", \"time\", \"evaluate\", \"analyse\", \"role\", \"people\", \"theory\", \"appropriate\", \"environment\", \"connect\", \"behaviour\", \"object\", \"characteristic\", \"information\", \"test\", \"useful\", \"maintain\", \"research\", \"source\", \"occur\", \"rate\", \"balanced\", \"contestable\", \"multicellular\", \"internal\", \"organism\", \"respond\", \"effective\", \"focus\", \"data\", \"interest\", \"graphical\", \"improve\", \"map\", \"algorithms\", \"geographical\", \"programming\", \"technology\", \"datum\", \"type\", \"scientific\", \"chemical\", \"time\", \"equation\", \"represent\", \"investigate\", \"include\", \"change\", \"reaction\", \"range\", \"system\", \"operation\", \"health\", \"apply\", \"compare\", \"universe\", \"magnet\", \"coordinate\", \"interdependent\", \"interpretation\", \"wellbeing\", \"support\", \"provide\", \"debate\", \"device\", \"feedback\", \"evidence\", \"region\", \"synapsis\", \"cord\", \"animal\", \"electrical\", \"brain\", \"central\", \"impulse\", \"transmit\", \"nervous\", \"neuron\", \"spinal\", \"stimulus\", \"perspective\", \"rely\", \"interaction\", \"theory\", \"situation\", \"plot\", \"feature\", \"generation\", \"use\", \"matter\", \"event\", \"development\", \"political\", \"advance\", \"diversity\", \"compose\", \"question\", \"nucleus\", \"proton\", \"electrons\\u037e\", \"neutron\", \"radioactivity\", \"decay\", \"arise\", \"heritable\", \"transmission\", \"dna\", \"gene\", \"discovery\", \"choice\", \"identity\", \"sequence\", \"world\", \"media\", \"area\", \"reasoning\", \"attitude\", \"beliefs\", \"water\", \"technological\", \"impact\", \"atom\", \"scientific\", \"generation\", \"examine\", \"shape\", \"matter\", \"influence\", \"include\"], \"Total\": [25.0, 17.0, 16.0, 17.0, 43.0, 39.0, 13.0, 21.0, 41.0, 9.0, 27.0, 21.0, 10.0, 13.0, 9.0, 9.0, 19.0, 12.0, 12.0, 11.0, 9.0, 8.0, 9.0, 11.0, 11.0, 9.0, 12.0, 7.0, 10.0, 24.0, 27.221481323242188, 19.044862747192383, 18.209732055664062, 16.511348724365234, 15.665122985839844, 15.065649032592773, 13.121737480163574, 12.873669624328613, 12.89755630493164, 12.813233375549316, 12.58420181274414, 11.499585151672363, 11.28589153289795, 11.192225456237793, 10.485848426818848, 10.371477127075195, 10.324077606201172, 10.214096069335938, 9.893651962280273, 9.879218101501465, 8.910757064819336, 8.830072402954102, 8.455706596374512, 8.454670906066895, 8.475961685180664, 8.098091125488281, 7.739719867706299, 7.709809303283691, 7.444575309753418, 6.82176399230957, 19.89720344543457, 30.632919311523438, 18.37653160095215, 41.70750427246094, 39.0376091003418, 21.20980453491211, 24.239988327026367, 9.717422485351562, 19.319549560546875, 43.45454406738281, 25.850566864013672, 12.805706024169922, 12.215710639953613, 11.838738441467285, 11.658414840698242, 11.62009048461914, 10.683615684509277, 10.133172988891602, 8.022294044494629, 7.66854190826416, 7.15952205657959, 6.890499114990234, 6.826470851898193, 6.138989448547363, 6.089613437652588, 6.0687665939331055, 5.789698600769043, 5.749135494232178, 5.416418075561523, 5.409770965576172, 5.348707675933838, 5.113604545593262, 5.111301422119141, 5.0750837326049805, 4.373806953430176, 21.224506378173828, 3.6087121963500977, 3.6087121963500977, 3.6086294651031494, 3.6086294651031494, 43.45454406738281, 19.42881202697754, 11.002021789550781, 13.529215812683105, 21.576814651489258, 10.217455863952637, 41.70750427246094, 19.319549560546875, 10.752028465270996, 8.825904846191406, 17.77490234375, 9.37332820892334, 9.28645133972168, 9.125548362731934, 6.256023406982422, 5.625781059265137, 5.519710063934326, 5.17502498626709, 4.650270938873291, 4.335224151611328, 4.3351335525512695, 4.201165199279785, 4.037254333496094, 3.9858558177948, 9.228933334350586, 3.809318780899048, 3.808995485305786, 3.570488452911377, 3.5706799030303955, 3.570438861846924, 3.570438861846924, 3.4359049797058105, 3.229257822036743, 3.229257822036743, 3.120940923690796, 3.120940923690796, 3.120807409286499, 2.805555582046509, 2.805570602416992, 2.805570602416992, 6.175349712371826, 10.811518669128418, 16.2774658203125, 16.933502197265625, 6.438728332519531, 21.20980453491211, 12.447834968566895, 6.873406410217285, 11.002021789550781, 39.0376091003418, 16.567163467407227, 9.791977882385254, 8.257153511047363, 7.935640335083008, 6.251810550689697, 5.969079494476318, 5.713632106781006, 5.404718399047852, 5.378342151641846, 4.273826599121094, 3.6605072021484375, 3.4507415294647217, 3.4039459228515625, 3.402968406677246, 3.0857739448547363, 3.069312334060669, 3.031794786453247, 2.941986322402954, 2.9127211570739746, 2.8415167331695557, 2.7572338581085205, 2.3880670070648193, 2.387932300567627, 2.3872897624969482, 2.305924415588379, 2.266892433166504, 5.60895299911499, 2.110870361328125, 2.0224125385284424, 2.022505283355713, 5.082015514373779, 4.0131144523620605, 9.289107322692871, 7.9625163078308105, 6.438728332519531, 16.933502197265625, 18.37653160095215, 13.480268478393555, 10.70942211151123, 7.005667686462402, 6.639053821563721, 5.531418323516846, 4.8436198234558105, 4.503291606903076, 4.408198833465576, 4.187350749969482, 3.7438182830810547, 3.5840864181518555, 3.232753276824951, 3.232753276824951, 3.232753276824951, 3.2325618267059326, 3.2325618267059326, 3.2325618267059326, 3.2325618267059326, 3.2325618267059326, 3.2325618267059326, 3.1483192443847656, 3.0485870838165283, 3.1692306995391846, 2.812579393386841, 2.812579393386841, 2.8125600814819336, 2.6368587017059326, 2.636838436126709, 2.408644676208496, 2.361496686935425, 4.016839981079102, 21.576814651489258, 9.262962341308594, 39.0376091003418, 24.239988327026367, 10.217455863952637, 19.42881202697754, 9.361604690551758, 5.852863788604736, 5.389342784881592, 4.707917213439941, 4.391963005065918, 4.380179405212402, 4.340421676635742, 7.695980072021484, 3.6495420932769775, 3.4251818656921387, 3.3560142517089844, 3.3092026710510254, 2.987670421600342, 2.9689245223999023, 2.9689245223999023, 2.9689245223999023, 2.968874454498291, 2.9686648845672607, 2.9686648845672607, 2.9686648845672607, 2.9686648845672607, 2.9688398838043213, 2.9690980911254883, 2.8583972454071045, 2.4013257026672363, 2.4013304710388184, 2.319286584854126, 2.279109001159668, 2.256528854370117, 2.121999502182007, 1.9162639379501343, 10.654570579528809, 7.9625163078308105, 4.81111478805542, 13.504342079162598, 12.447834968566895, 9.262962341308594, 6.873406410217285, 5.916937828063965, 16.933502197265625, 43.45454406738281, 21.576814651489258, 16.2774658203125, 30.632919311523438, 17.20564842224121, 5.277900218963623, 5.011185169219971, 4.95889949798584, 4.647781848907471, 4.567473888397217, 4.567458629608154, 4.5674357414245605, 4.5674238204956055, 4.39724588394165, 4.331099033355713, 3.5807833671569824, 3.480246067047119, 3.392793893814087, 3.2699413299560547, 3.1875810623168945, 3.0523157119750977, 2.811912775039673, 2.6589276790618896, 2.6589276790618896, 2.6589276790618896, 2.6589276790618896, 2.6589276790618896, 2.6589276790618896, 2.6589276790618896, 2.6589276790618896, 2.6589276790618896, 2.6589276790618896, 2.6589276790618896, 2.6589276790618896, 9.289107322692871, 6.588363170623779, 6.631168365478516, 9.361604690551758, 4.774596691131592, 3.645172119140625, 10.072746276855469, 5.237946033477783, 12.476924896240234, 4.679914474487305, 9.98504638671875, 9.312853813171387, 5.241196155548096, 4.792901039123535, 4.506494522094727, 3.33141827583313, 3.081665277481079, 2.7716500759124756, 2.7716500759124756, 2.7716500759124756, 2.7716500759124756, 2.7716500759124756, 2.7716500759124756, 2.7716500759124756, 2.7715506553649902, 2.7715506553649902, 2.7715506553649902, 2.7715506553649902, 2.771646022796631, 2.7715072631835938, 2.716078042984009, 2.2864017486572266, 5.485515594482422, 1.964052677154541, 1.918730616569519, 1.812567949295044, 1.7333033084869385, 1.7267231941223145, 1.5835210084915161, 4.540827751159668, 5.291476249694824, 8.687756538391113, 13.504342079162598, 5.237946033477783, 7.4800262451171875, 8.825904846191406, 4.679914474487305, 21.224506378173828, 43.45454406738281], \"loglift\": [30.0, 29.0, 28.0, 27.0, 26.0, 25.0, 24.0, 23.0, 22.0, 21.0, 20.0, 19.0, 18.0, 17.0, 16.0, 15.0, 14.0, 13.0, 12.0, 11.0, 10.0, 9.0, 8.0, 7.0, 6.0, 5.0, 4.0, 3.0, 2.0, 1.0, 1.13919997215271, 1.1292999982833862, 1.1277999877929688, 1.1243000030517578, 1.1222000122070312, 1.1203999519348145, 1.1141999959945679, 1.1133999824523926, 1.1133999824523926, 1.1131999492645264, 1.1122000217437744, 1.107200026512146, 1.1062999963760376, 1.1059000492095947, 1.1017999649047852, 1.1013000011444092, 1.100600004196167, 1.1003999710083008, 1.0982999801635742, 1.0973000526428223, 1.090999960899353, 1.090399980545044, 1.0871000289916992, 1.0870000123977661, 1.086899995803833, 1.0836000442504883, 1.079800009727478, 1.0794999599456787, 1.0765000581741333, 1.0684000253677368, 1.0313999652862549, 0.9562000036239624, 0.9613000154495239, 0.8012999892234802, 0.7858999967575073, 0.9010999798774719, 0.6664999723434448, 1.0257999897003174, 0.6189000010490417, -0.2727999985218048, 1.8033000230789185, 1.776900053024292, 1.774399995803833, 1.7725000381469727, 1.7717000246047974, 1.7714999914169312, 1.7662999629974365, 1.7628999948501587, 1.7447999715805054, 1.7408000230789185, 1.7342000007629395, 1.730299949645996, 1.7289999723434448, 1.7174999713897705, 1.7164000272750854, 1.7160999774932861, 1.7100000381469727, 1.7094000577926636, 1.7015000581741333, 1.7014000415802002, 1.7000000476837158, 1.6936999559402466, 1.6936999559402466, 1.6924999952316284, 1.6690000295639038, 1.6611000299453735, 1.631600022315979, 1.631600022315979, 1.6313999891281128, 1.6313999891281128, 1.2834999561309814, 1.3743000030517578, 1.4280999898910522, 1.288599967956543, 1.128000020980835, 1.3603999614715576, 0.5928999781608582, 0.8944000005722046, 1.2130000591278076, 1.2627999782562256, 2.158600091934204, 2.122499942779541, 2.121799945831299, 2.1203999519348145, 2.082900047302246, 2.069499969482422, 2.0669000148773193, 2.056299924850464, 2.0401999950408936, 2.027899980545044, 2.0276999473571777, 2.021899938583374, 2.01419997215271, 2.011199951171875, 2.0092999935150146, 2.0023000240325928, 2.000200033187866, 1.9874000549316406, 1.9873000383377075, 1.9872000217437744, 1.9872000217437744, 1.9782999753952026, 1.9628000259399414, 1.9628000259399414, 1.9536999464035034, 1.9536999464035034, 1.9524999856948853, 1.9221999645233154, 1.9220000505447388, 1.9220000505447388, 1.885599970817566, 1.5183000564575195, 1.3046000003814697, 1.1382999420166016, 1.5866999626159668, 0.609499990940094, 0.9287999868392944, 1.3279999494552612, 0.917900025844574, -0.21610000729560852, 2.364000082015991, 2.335700035095215, 2.322200059890747, 2.3189001083374023, 2.2948999404907227, 2.289400100708008, 2.2839999198913574, 2.277100086212158, 2.2760000228881836, 2.2407000064849854, 2.2107999324798584, 2.197499990463257, 2.1942999362945557, 2.193700075149536, 2.1703999042510986, 2.1689000129699707, 2.165299892425537, 2.157399892807007, 2.154099941253662, 2.14739990234375, 2.1380999088287354, 2.0906999111175537, 2.0905001163482666, 2.089400053024292, 2.075900077819824, 2.0706000328063965, 2.051800012588501, 2.0408999919891357, 2.021399974822998, 2.021399974822998, 1.996500015258789, 1.8509999513626099, 1.4823999404907227, 1.2721999883651733, 1.4069000482559204, 0.767300009727478, 0.5356000065803528, 2.400700092315674, 2.3873000144958496, 2.352099895477295, 2.346299886703491, 2.3239998817443848, 2.30430006980896, 2.29229998588562, 2.2888998985290527, 2.2795000076293945, 2.256700038909912, 2.247499942779541, 2.2227001190185547, 2.2227001190185547, 2.2227001190185547, 2.222599983215332, 2.222599983215332, 2.222599983215332, 2.222599983215332, 2.222599983215332, 2.222599983215332, 2.2158000469207764, 2.206899881362915, 2.1898000240325928, 2.183799982070923, 2.183799982070923, 2.1837000846862793, 2.1631999015808105, 2.163100004196167, 2.1310999393463135, 2.1233999729156494, 2.097100019454956, 1.3895000219345093, 1.6754000186920166, 0.9021999835968018, 0.8492000102996826, 1.3105000257492065, 0.8136000037193298, 1.3062000274658203, 2.3410000801086426, 2.329900026321411, 2.3087000846862793, 2.296600103378296, 2.296299934387207, 2.2950000762939453, 2.289799928665161, 2.2600998878479004, 2.242500066757202, 2.2402000427246094, 2.236599922180176, 2.2090001106262207, 2.207200050354004, 2.207200050354004, 2.207200050354004, 2.2070999145507812, 2.2070999145507812, 2.2070999145507812, 2.2070999145507812, 2.2070999145507812, 2.2070000171661377, 2.2060999870300293, 2.19569993019104, 2.135999917984009, 2.1359000205993652, 2.121500015258789, 2.1149001121520996, 2.1110000610351562, 2.083899974822998, 2.0332999229431152, 1.9819999933242798, 1.9632999897003174, 2.0002999305725098, 1.8238999843597412, 1.7791999578475952, 1.7226999998092651, 1.7583999633789062, 1.76010000705719, 1.01419997215271, 0.3172999918460846, 0.46650001406669617, 0.6126000285148621, -0.08649999648332596, 2.4419000148773193, 2.343899965286255, 2.3362998962402344, 2.3345999717712402, 2.323899984359741, 2.3210999965667725, 2.321000099182129, 2.3208999633789062, 2.3208999633789062, 2.314199924468994, 2.3113999366760254, 2.271399974822998, 2.2641000747680664, 2.2583999633789062, 2.248800039291382, 2.2411999702453613, 2.2300000190734863, 2.205199956893921, 2.186800003051758, 2.186800003051758, 2.186800003051758, 2.186800003051758, 2.186800003051758, 2.186800003051758, 2.186800003051758, 2.186800003051758, 2.186800003051758, 2.186800003051758, 2.186800003051758, 2.186800003051758, 1.8667000532150269, 1.9550000429153442, 1.9185999631881714, 1.5199999809265137, 1.8092000484466553, 1.9781999588012695, 1.1460000276565552, 1.523800015449524, 0.6678000092506409, 1.6216000318527222, 2.5889999866485596, 2.5838000774383545, 2.5204999446868896, 2.507200002670288, 2.4965999126434326, 2.4323999881744385, 2.410900115966797, 2.3796000480651855, 2.3796000480651855, 2.3796000480651855, 2.3796000480651855, 2.3796000480651855, 2.3796000480651855, 2.3796000480651855, 2.379499912261963, 2.379499912261963, 2.379499912261963, 2.379499912261963, 2.379499912261963, 2.3794000148773193, 2.372999906539917, 2.3085999488830566, 2.2720000743865967, 2.234999895095825, 2.2232000827789307, 2.1923999786376953, 2.164599895477295, 2.162100076675415, 2.102400064468384, 2.093899965286255, 1.997499942779541, 1.9007999897003174, 1.8104000091552734, 1.9678000211715698, 1.7890000343322754, 1.6578999757766724, 1.8555999994277954, 0.5986999869346619, -0.20489999651908875], \"logprob\": [30.0, 29.0, 28.0, 27.0, 26.0, 25.0, 24.0, 23.0, 22.0, 21.0, 20.0, 19.0, 18.0, 17.0, 16.0, 15.0, 14.0, 13.0, 12.0, 11.0, 10.0, 9.0, 8.0, 7.0, 6.0, 5.0, 4.0, 3.0, 2.0, 1.0, -3.6150999069213867, -3.9821999073028564, -4.028600215911865, -4.130000114440918, -4.184700012207031, -4.225599765777588, -4.369800090789795, -4.389699935913086, -4.387899875640869, -4.394700050354004, -4.413700103759766, -4.508800029754639, -4.52839994430542, -4.537300109863281, -4.606500148773193, -4.618000030517578, -4.623199939727783, -4.634200096130371, -4.668099880218506, -4.670599937438965, -4.78000020980835, -4.789700031280518, -4.836400032043457, -4.836599826812744, -4.834199905395508, -4.8831000328063965, -4.93209981918335, -4.936299800872803, -4.974299907684326, -5.069799900054932, -4.036300182342529, -3.6800999641418457, -4.185999870300293, -3.5262999534606934, -3.6078999042510986, -4.102799892425537, -4.20389986038208, -4.758600234985352, -4.478300094604492, -4.5594000816345215, -3.002700090408325, -3.7314999103546143, -3.7811999320983887, -3.814500093460083, -3.8306000232696533, -3.8341000080108643, -3.92330002784729, -3.9797000885009766, -4.231299877166748, -4.280399799346924, -4.3557000160217285, -4.397900104522705, -4.4085001945495605, -4.526100158691406, -4.535299777984619, -4.539100170135498, -4.592299938201904, -4.599899768829346, -4.667300224304199, -4.668700218200684, -4.681399822235107, -4.732699871063232, -4.7332000732421875, -4.741499900817871, -4.913700103759766, -3.3420000076293945, -5.143400192260742, -5.143400192260742, -5.143599987030029, -5.143599987030029, -3.0030999183654785, -3.7172999382019043, -4.232100009918213, -4.16480016708374, -3.8587000370025635, -4.373799800872803, -3.734800100326538, -4.2027997970581055, -4.470200061798096, -4.617800235748291, -3.021899938583374, -3.6979000568389893, -3.7079999446868896, -3.726799964904785, -4.141900062561035, -4.26140022277832, -4.283100128173828, -4.3582000732421875, -4.481200218200684, -4.563700199127197, -4.563899993896484, -4.601099967956543, -4.648600101470947, -4.664299964904785, -3.8266000747680664, -4.718599796295166, -4.720799922943115, -4.7982001304626465, -4.798299789428711, -4.798399925231934, -4.798399925231934, -4.845699787139893, -4.923299789428711, -4.923299789428711, -4.9664998054504395, -4.9664998054504395, -4.967700004577637, -5.104499816894531, -5.104700088500977, -5.104700088500977, -4.352200031280518, -4.15939998626709, -3.9639999866485596, -4.090700149536133, -4.609300136566162, -4.3942999839782715, -4.607999801635742, -4.802700042724609, -4.742300033569336, -4.609899997711182, -2.886899948120117, -3.4410998821258545, -3.625, -3.668100118637085, -3.9305999279022217, -3.982300043106079, -4.031400203704834, -4.093999862670898, -4.099899768829346, -4.365099906921387, -4.549900054931641, -4.622300148010254, -4.639100074768066, -4.639999866485596, -4.761099815368652, -4.76800012588501, -4.783899784088135, -4.821800231933594, -4.835100173950195, -4.866600036621094, -4.906000137329102, -5.0971999168396, -5.097400188446045, -5.098700046539307, -5.146900177001953, -5.169300079345703, -4.282199859619141, -5.270299911499023, -5.332699775695801, -5.332600116729736, -4.436100006103516, -4.817699909210205, -4.347099781036377, -4.711400032043457, -4.789100170135498, -4.461699962615967, -4.611599922180176, -3.0564000606536865, -3.2999000549316406, -3.7595999240875244, -3.8190999031066895, -4.023900032043457, -4.176300048828125, -4.261199951171875, -4.285999774932861, -4.346700191497803, -4.481500148773193, -4.534299850463867, -4.662300109863281, -4.662300109863281, -4.662300109863281, -4.662399768829346, -4.662399768829346, -4.662399768829346, -4.662399768829346, -4.662399768829346, -4.662399768829346, -4.695700168609619, -4.736700057983398, -4.715099811553955, -4.840400218963623, -4.840400218963623, -4.8404998779296875, -4.92549991607666, -4.925600051879883, -5.048099994659424, -5.0756001472473145, -4.570700168609619, -3.5971999168395996, -4.156899929046631, -3.4916000366210938, -4.021100044250488, -4.423699855804443, -4.2779998779296875, -4.515500068664551, -3.9504001140594482, -4.044000148773193, -4.200399875640869, -4.2820000648498535, -4.284900188446045, -4.295300006866455, -3.727799892425537, -4.503600120544434, -4.58459997177124, -4.6072998046875, -4.625, -4.754899978637695, -4.762899875640869, -4.762899875640869, -4.762899875640869, -4.763000011444092, -4.7631001472473145, -4.7631001472473145, -4.7631001472473145, -4.7631001472473145, -4.7631001472473145, -4.763999938964844, -4.812399864196777, -5.046299934387207, -5.04640007019043, -5.095600128173828, -5.119699954986572, -5.133500099182129, -5.2220001220703125, -5.37470006942749, -3.710400104522705, -4.020299911499023, -4.487100124359131, -3.6314001083374023, -3.757499933242798, -4.109600067138672, -4.372300148010254, -4.520500183105469, -4.214900016784668, -3.9693000316619873, -4.520199775695801, -4.655900001525879, -4.722799777984619, -2.771199941635132, -4.050899982452393, -4.110400199890137, -4.122600078582764, -4.197999954223633, -4.218299865722656, -4.218299865722656, -4.218500137329102, -4.218500137329102, -4.2631001472473145, -4.281099796295166, -4.51140022277832, -4.547100067138672, -4.5782999992370605, -4.624800205230713, -4.657800197601318, -4.712399959564209, -4.819300174713135, -4.893599987030029, -4.893599987030029, -4.893599987030029, -4.893599987030029, -4.893599987030029, -4.893599987030029, -4.893599987030029, -4.893599987030029, -4.893599987030029, -4.893599987030029, -4.893599987030029, -4.893599987030029, -3.9628000259399414, -4.218100070953369, -4.248000144958496, -4.301700115203857, -4.6859002113342285, -4.7866997718811035, -4.602499961853027, -4.878600120544434, -4.866600036621094, -4.893400192260742, -3.1682000160217285, -3.2432000637054443, -3.881200075149536, -3.9839999675750732, -4.056300163269043, -4.422500133514404, -4.521999835968018, -4.659299850463867, -4.659299850463867, -4.659299850463867, -4.659299850463867, -4.659299850463867, -4.659299850463867, -4.659299850463867, -4.65939998626709, -4.65939998626709, -4.65939998626709, -4.65939998626709, -4.65939998626709, -4.6595001220703125, -4.686200141906738, -4.922699928283691, -4.084199905395508, -5.1483001708984375, -5.1834001541137695, -5.271200180053711, -5.343699932098389, -5.349999904632568, -5.496300220489502, -4.451300144195557, -4.394700050354004, -3.9955999851226807, -3.64490008354187, -4.434599876403809, -4.2571001052856445, -4.222700119018555, -4.6595001220703125, -4.4045000076293945, -4.491499900817871]}, \"token.table\": {\"Topic\": [2, 5, 5, 4, 5, 8, 3, 6, 6, 1, 2, 5, 8, 4, 7, 7, 6, 8, 8, 1, 8, 8, 1, 2, 6, 6, 2, 8, 4, 7, 4, 7, 5, 2, 5, 6, 6, 3, 1, 3, 6, 8, 1, 1, 7, 3, 8, 1, 1, 6, 2, 4, 4, 6, 1, 5, 4, 5, 7, 7, 2, 4, 1, 3, 1, 2, 2, 6, 4, 6, 7, 8, 2, 2, 3, 1, 4, 1, 3, 8, 7, 1, 2, 1, 8, 2, 3, 8, 8, 5, 2, 4, 5, 6, 7, 8, 1, 4, 3, 4, 4, 6, 2, 3, 6, 1, 1, 3, 5, 8, 7, 5, 2, 8, 3, 1, 2, 3, 1, 2, 1, 7, 7, 4, 6, 3, 1, 5, 2, 3, 5, 8, 7, 8, 6, 5, 2, 5, 2, 6, 1, 7, 3, 8, 1, 4, 2, 3, 8, 3, 4, 8, 5, 6, 5, 7, 1, 2, 6, 8, 2, 1, 2, 8, 4, 6, 4, 3, 7, 4, 7, 6, 6, 2, 5, 7, 2, 3, 4, 6, 3, 1, 2, 3, 3, 4, 5, 4, 7, 6, 2, 6, 7, 8, 8, 3, 3, 1, 2, 6, 4, 1, 4, 3, 7, 7, 8, 1, 2, 8, 6, 6, 7, 6, 3, 1, 2, 5, 5, 1, 2, 5, 1, 4, 7, 5, 3, 4, 1, 5, 5, 3, 7, 5, 2, 8, 2, 4, 4, 3, 1, 3, 6, 3, 6, 3, 8, 7, 1, 4, 8, 8, 1, 3, 6, 8, 6, 1, 3, 6, 4, 8, 5, 5, 1, 3, 7, 2, 3, 7, 8, 1, 6, 3, 6, 3, 6, 2, 2, 2, 2, 5, 4, 4, 5, 6, 8, 8, 4, 2, 8, 5, 4, 1, 7, 1, 1, 2, 2, 3, 4, 3, 6, 6, 1, 7, 7, 3, 1, 1, 7, 7, 7, 4, 5, 3, 2, 8, 1, 4, 6, 5, 5, 6, 1, 5, 6, 7, 5, 6, 3, 8, 7, 5, 5, 1, 6, 5, 1, 4, 7, 1, 3, 7, 6, 2, 4, 1, 4, 7, 8, 2, 7, 1, 3, 8], \"Freq\": [0.8313405513763428, 0.6352595686912537, 0.9280564785003662, 0.6798127889633179, 0.9039272665977478, 0.8345676064491272, 0.8096707463264465, 0.16193415224552155, 0.8863170742988586, 0.6188122034072876, 0.08250828832387924, 0.2062707245349884, 0.08250828832387924, 0.49445897340774536, 0.7521829009056091, 0.8066306114196777, 0.8542826771736145, 0.5211778879165649, 0.7215918302536011, 0.46041804552078247, 0.46041804552078247, 0.5769330859184265, 0.9790391325950623, 0.8707641959190369, 0.6736446022987366, 0.9107545018196106, 0.782227098941803, 0.5791316032409668, 0.8813300728797913, 0.7521829009056091, 0.9191197156906128, 0.7521829009056091, 0.7110910415649414, 0.5098064541816711, 0.32442229986190796, 0.13903813064098358, 0.9215694665908813, 0.8731324076652527, 0.16067050397396088, 0.32134100794792175, 0.4820115268230438, 0.7216290235519409, 0.9462225437164307, 0.9292663335800171, 0.8606255650520325, 0.9590756893157959, 0.9005173444747925, 0.9828251004219055, 0.9461066126823425, 0.8496326208114624, 0.924253523349762, 0.925117552280426, 0.6596752405166626, 0.6736559867858887, 0.9451367855072021, 0.9552579522132874, 0.8376501202583313, 0.9280564785003662, 0.8757649064064026, 0.7521829009056091, 0.1782863885164261, 0.7131455540657043, 0.9575411677360535, 0.8601649403572083, 0.3720228374004364, 0.5580342411994934, 0.7881643176078796, 0.6996927857398987, 0.37676531076431274, 0.6279422044754028, 0.8842270374298096, 0.7215918302536011, 0.8696959614753723, 0.87893146276474, 0.929006040096283, 0.8543913960456848, 0.10051663964986801, 0.7543681263923645, 0.18859203159809113, 0.9664062261581421, 0.9174476265907288, 0.6953185200691223, 0.2877179980278015, 0.9536662697792053, 0.7215928435325623, 0.9128202199935913, 0.8401761054992676, 0.8876078724861145, 0.7216176986694336, 0.8370333909988403, 0.923119306564331, 0.4737382233142853, 0.964372456073761, 0.6736637949943542, 0.7521829009056091, 0.7215918302536011, 0.9321351647377014, 0.8822650909423828, 0.9691538214683533, 0.8673311471939087, 0.8374974131584167, 0.9277569055557251, 0.8725683689117432, 0.4364648163318634, 0.4364648163318634, 0.9641827940940857, 0.6916407346725464, 0.07684896886348724, 0.20493058860301971, 0.901347815990448, 0.6552402377128601, 0.8013209700584412, 0.5347574949264526, 0.4010681211948395, 0.7128674387931824, 0.9907224774360657, 0.9670968055725098, 0.929006040096283, 0.9884824156761169, 0.9360126852989197, 0.6949445605278015, 0.2978333830833435, 0.9411525130271912, 0.8375446796417236, 0.67360520362854, 0.6408323645591736, 0.8232635855674744, 0.1029079481959343, 0.8313214778900146, 0.7876092195510864, 0.8882391452789307, 0.7216176986694336, 0.38182905316352844, 0.5727435946464539, 0.4712536334991455, 0.9280015230178833, 0.9370822906494141, 0.9280564785003662, 0.9823415279388428, 0.8328716158866882, 0.9565562605857849, 0.7982143759727478, 0.712871253490448, 0.7216176986694336, 0.8162584900856018, 0.16325169801712036, 0.6362466812133789, 0.27267715334892273, 0.7363558411598206, 0.18898317217826843, 0.18898317217826843, 0.5669495463371277, 0.6310679912567139, 0.862334132194519, 0.9280564785003662, 0.7521829009056091, 0.2301255315542221, 0.5753138065338135, 0.11506276577711105, 0.0460251048207283, 0.7825795412063599, 0.9304088354110718, 0.8480762839317322, 0.1413460373878479, 0.12993796169757843, 0.779627799987793, 0.8693783283233643, 0.3016059696674347, 0.6032119393348694, 0.6516117453575134, 0.8757672309875488, 0.8328732848167419, 0.6737035512924194, 0.24895191192626953, 0.7468557357788086, 0.909660279750824, 0.17716358602046967, 0.35432717204093933, 0.17716358602046967, 0.23621810972690582, 0.9564046859741211, 0.9535765647888184, 0.8210701942443848, 0.8402328491210938, 0.7875424027442932, 0.8751000761985779, 0.8258286714553833, 0.8820964097976685, 0.875760555267334, 0.8939175605773926, 0.9348052740097046, 0.8775359392166138, 0.4273582398891449, 0.4273582398891449, 0.5091513395309448, 0.7729431390762329, 0.6408323645591736, 0.5693714618682861, 0.41408833861351013, 0.6737035512924194, 0.4944362938404083, 0.9110032916069031, 0.9597219824790955, 0.7526614665985107, 0.7521829009056091, 0.7521829009056091, 0.7215918302536011, 0.8644012212753296, 0.8238906264305115, 0.7215918302536011, 0.9132046103477478, 0.6736446022987366, 0.9473464488983154, 0.6737035512924194, 0.7430792450904846, 0.9438456892967224, 0.8313214778900146, 0.8564494252204895, 0.9280564785003662, 0.15440985560417175, 0.617639422416687, 0.205879807472229, 0.9079342484474182, 0.43061187863349915, 0.5382648706436157, 0.8303424715995789, 0.7128674387931824, 0.9657658338546753, 0.9746682643890381, 0.9280015230178833, 0.8469204902648926, 0.27433547377586365, 0.5486709475517273, 0.7584840655326843, 0.9145351052284241, 0.9539806842803955, 0.8313405513763428, 0.686643123626709, 0.9296544790267944, 0.9058446884155273, 0.2774818241596222, 0.4624697268009186, 0.1849878877401352, 0.9226936101913452, 0.5218487977981567, 0.9521167874336243, 0.7215918302536011, 0.8620080351829529, 0.9365317821502686, 0.7253646850585938, 0.6489997506141663, 0.7215918302536011, 0.8161154985427856, 0.06528923660516739, 0.06528923660516739, 0.032644618302583694, 0.6736446022987366, 0.4300423860549927, 0.4300423860549927, 0.184303879737854, 0.8195585608482361, 0.5517034530639648, 0.9280564785003662, 0.7584782838821411, 0.8977912664413452, 0.6408597826957703, 0.7112596035003662, 0.8636028170585632, 0.9601712226867676, 0.6071310639381409, 0.30356553196907043, 0.3380126655101776, 0.50701904296875, 0.8402211666107178, 0.9065628051757812, 0.922674298286438, 0.6737035512924194, 0.9291530847549438, 0.8144662976264954, 0.8881719708442688, 0.5872303247451782, 0.2936151623725891, 0.8815832734107971, 0.4983660578727722, 0.2491830289363861, 0.5183517932891846, 0.4443015456199646, 0.8747369050979614, 0.8377701044082642, 0.5665141344070435, 0.3399084806442261, 0.9337571859359741, 0.9688568711280823, 0.4188835620880127, 0.4188835620880127, 0.9096742272377014, 0.3695705831050873, 0.5913128852844238, 0.9435244798660278, 0.4659305214881897, 0.31062033772468567, 0.8668390512466431, 0.10835488140583038, 0.6694178581237793, 0.9059948325157166, 0.7521829009056091, 0.7521829009056091, 0.876659631729126, 0.9690304398536682, 0.8795378804206848, 0.8378055095672607, 0.7521829009056091, 0.9880475997924805, 0.9359294176101685, 0.9037432670593262, 0.8402328491210938, 0.22022417187690735, 0.6606724858283997, 0.28156930208206177, 0.09385643154382706, 0.6569950580596924, 0.9280015230178833, 0.6560416221618652, 0.822020947933197, 0.9918637275695801, 0.3204578757286072, 0.21363858878612518, 0.42727717757225037, 0.4318273067474365, 0.4318273067474365, 0.8887654542922974, 0.7216176986694336, 0.7521829009056091, 0.711095929145813, 0.7110910415649414, 0.20785203576087952, 0.6235560774803162, 0.9074000716209412, 0.9686095118522644, 0.7038494348526001, 0.87575763463974, 0.561035692691803, 0.2404438555240631, 0.16029590368270874, 0.8758658766746521, 0.9466363191604614, 0.6481356024742126, 0.9402819871902466, 0.5903169512748718, 0.19677232205867767, 0.6315041184425354, 0.9777188897132874, 0.9235531091690063, 0.9044255018234253, 0.18229827284812927, 0.7291930913925171], \"Term\": [\"ability\", \"achieve\", \"achievement\", \"action\", \"activity\", \"advance\", \"algebraic\", \"algebraic\", \"algorithms\", \"analyse\", \"analyse\", \"analyse\", \"analyse\", \"analysis\", \"animal\", \"apply\", \"appropriate\", \"area\", \"arise\", \"atom\", \"atom\", \"attitude\", \"audience\", \"australian\", \"balanced\", \"behaviour\", \"belief\", \"beliefs\", \"benefit\", \"brain\", \"cause\", \"central\", \"century\", \"change\", \"change\", \"change\", \"characteristic\", \"characteristics\", \"chemical\", \"chemical\", \"chemical\", \"choice\", \"circuit\", \"community\", \"compare\", \"component\", \"compose\", \"concept\", \"conflict\", \"connect\", \"connection\", \"consequence\", \"content\", \"contestable\", \"context\", \"continuity\", \"contribute\", \"contribution\", \"coordinate\", \"cord\", \"country\", \"country\", \"create\", \"critique\", \"cultural\", \"cultural\", \"current\", \"data\", \"datum\", \"datum\", \"debate\", \"decay\", \"decision\", \"describe\", \"description\", \"design\", \"design\", \"develop\", \"develop\", \"development\", \"device\", \"different\", \"different\", \"digital\", \"discovery\", \"discuss\", \"diverse\", \"diversity\", \"dna\", \"drama\", \"economic\", \"economy\", \"effect\", \"effective\", \"electrical\", \"electrons\\u037e\", \"element\", \"emerge\", \"energy\", \"engage\", \"enlist\", \"environment\", \"environmental\", \"equation\", \"equation\", \"ethical\", \"evaluate\", \"evaluate\", \"evaluate\", \"event\", \"evidence\", \"evolution\", \"examine\", \"examine\", \"exchange\", \"experience\", \"explain\", \"explanation\", \"explore\", \"factor\", \"feature\", \"feature\", \"feedback\", \"fight\", \"focus\", \"force\", \"form\", \"form\", \"formation\", \"formula\", \"future\", \"gene\", \"generation\", \"generation\", \"geographical\", \"geological\", \"global\", \"goal\", \"government\", \"graphical\", \"group\", \"health\", \"heat\", \"heritable\", \"idea\", \"idea\", \"identify\", \"identify\", \"identity\", \"impact\", \"impact\", \"impact\", \"implication\", \"improve\", \"improvement\", \"impulse\", \"include\", \"include\", \"include\", \"include\", \"independent\", \"individual\", \"influence\", \"influence\", \"information\", \"information\", \"intend\", \"interaction\", \"interaction\", \"interconnect\", \"interdependent\", \"interest\", \"internal\", \"international\", \"international\", \"interpretation\", \"investigate\", \"investigate\", \"investigate\", \"investigate\", \"involve\", \"language\", \"law\", \"leadership\", \"linear\", \"link\", \"live\", \"living\", \"magnet\", \"maintain\", \"management\", \"map\", \"matter\", \"matter\", \"media\", \"model\", \"motion\", \"movement\", \"movement\", \"multicellular\", \"nation\", \"natural\", \"nature\", \"need\", \"nervous\", \"neuron\", \"neutron\", \"new\", \"non\", \"nucleus\", \"object\", \"occur\", \"operation\", \"organism\", \"outcome\", \"particular\", \"party\", \"pattern\", \"peer\", \"people\", \"people\", \"people\", \"personal\", \"perspective\", \"perspective\", \"physical\", \"physics\", \"place\", \"plan\", \"plate\", \"play\", \"plot\", \"plot\", \"point\", \"policy\", \"political\", \"positive\", \"possible\", \"predict\", \"problem\", \"process\", \"process\", \"process\", \"product\", \"programming\", \"property\", \"proton\", \"provide\", \"purpose\", \"quality\", \"question\", \"radioactivity\", \"range\", \"range\", \"range\", \"range\", \"rate\", \"reaction\", \"reaction\", \"reaction\", \"reason\", \"reasoning\", \"recommendation\", \"reference\", \"refine\", \"refined\", \"region\", \"relation\", \"relationship\", \"rely\", \"rely\", \"represent\", \"represent\", \"representative\", \"research\", \"respectful\", \"respond\", \"response\", \"responsibility\", \"right\", \"role\", \"role\", \"safety\", \"scale\", \"scale\", \"scientific\", \"scientific\", \"sequence\", \"settlement\", \"shape\", \"shape\", \"significant\", \"simple\", \"situation\", \"situation\", \"skill\", \"social\", \"social\", \"society\", \"solution\", \"solution\", \"solve\", \"solve\", \"source\", \"specific\", \"spinal\", \"stimulus\", \"strategy\", \"structure\", \"style\", \"support\", \"synapsis\", \"system\", \"take\", \"task\", \"team\", \"technological\", \"technological\", \"technology\", \"technology\", \"technology\", \"tectonic\", \"term\", \"test\", \"text\", \"theory\", \"theory\", \"theory\", \"time\", \"time\", \"transfer\", \"transmission\", \"transmit\", \"turn\", \"twentieth\", \"type\", \"type\", \"understand\", \"understanding\", \"unintended\", \"universe\", \"use\", \"use\", \"use\", \"useful\", \"value\", \"variation\", \"visual\", \"war\", \"war\", \"water\", \"way\", \"wellbeing\", \"work\", \"world\", \"world\"]}, \"R\": 30, \"lambda.step\": 0.01, \"plot.opts\": {\"xlab\": \"PC1\", \"ylab\": \"PC2\"}, \"topic.order\": [1, 3, 7, 5, 6, 4, 2, 8]};\n",
       "\n",
       "function LDAvis_load_lib(url, callback){\n",
       "  var s = document.createElement('script');\n",
       "  s.src = url;\n",
       "  s.async = true;\n",
       "  s.onreadystatechange = s.onload = callback;\n",
       "  s.onerror = function(){console.warn(\"failed to load library \" + url);};\n",
       "  document.getElementsByTagName(\"head\")[0].appendChild(s);\n",
       "}\n",
       "\n",
       "if(typeof(LDAvis) !== \"undefined\"){\n",
       "   // already loaded: just create the visualization\n",
       "   !function(LDAvis){\n",
       "       new LDAvis(\"#\" + \"ldavis_el416148398098166557544435\", ldavis_el416148398098166557544435_data);\n",
       "   }(LDAvis);\n",
       "}else if(typeof define === \"function\" && define.amd){\n",
       "   // require.js is available: use it to load d3/LDAvis\n",
       "   require.config({paths: {d3: \"https://cdnjs.cloudflare.com/ajax/libs/d3/3.5.5/d3.min\"}});\n",
       "   require([\"d3\"], function(d3){\n",
       "      window.d3 = d3;\n",
       "      LDAvis_load_lib(\"https://cdn.rawgit.com/bmabey/pyLDAvis/files/ldavis.v1.0.0.js\", function(){\n",
       "        new LDAvis(\"#\" + \"ldavis_el416148398098166557544435\", ldavis_el416148398098166557544435_data);\n",
       "      });\n",
       "    });\n",
       "}else{\n",
       "    // require.js not available: dynamically load d3 & LDAvis\n",
       "    LDAvis_load_lib(\"https://cdnjs.cloudflare.com/ajax/libs/d3/3.5.5/d3.min.js\", function(){\n",
       "         LDAvis_load_lib(\"https://cdn.rawgit.com/bmabey/pyLDAvis/files/ldavis.v1.0.0.js\", function(){\n",
       "                 new LDAvis(\"#\" + \"ldavis_el416148398098166557544435\", ldavis_el416148398098166557544435_data);\n",
       "            })\n",
       "         });\n",
       "}\n",
       "</script>"
      ],
      "text/plain": [
       "PreparedData(topic_coordinates=              x         y  topics  cluster       Freq\n",
       "topic                                                \n",
       "0      0.194507 -0.182233       1        1  31.291172\n",
       "2      0.206549  0.130030       2        1  16.062241\n",
       "6     -0.129540 -0.174960       3        1  11.109235\n",
       "4     -0.072913  0.010990       4        1   9.039829\n",
       "5      0.006775  0.059208       5        1   8.621739\n",
       "3     -0.053619 -0.042959       6        1   8.521198\n",
       "1     -0.142022  0.106081       7        1   8.354706\n",
       "7     -0.009737  0.093842       8        1   6.999884, topic_info=    Category       Freq           Term      Total  loglift  logprob\n",
       "210  Default  25.000000        explain  25.000000  30.0000  30.0000\n",
       "214  Default  17.000000         system  17.000000  29.0000  29.0000\n",
       "436  Default  16.000000          place  16.000000  28.0000  28.0000\n",
       "344  Default  17.000000        involve  17.000000  27.0000  27.0000\n",
       "44   Default  43.000000        include  43.000000  26.0000  26.0000\n",
       "35   Default  39.000000       evaluate  39.000000  25.0000  25.0000\n",
       "86   Default  13.000000         effect  13.000000  24.0000  24.0000\n",
       "179  Default  21.000000      influence  21.000000  23.0000  23.0000\n",
       "119  Default  41.000000      different  41.000000  22.0000  22.0000\n",
       "207  Default   9.000000          event   9.000000  21.0000  21.0000\n",
       "96   Default  27.000000           text  27.000000  20.0000  20.0000\n",
       "445  Default  21.000000         change  21.000000  19.0000  19.0000\n",
       "564  Default  10.000000    significant  10.000000  18.0000  18.0000\n",
       "847  Default  13.000000     scientific  13.000000  17.0000  17.0000\n",
       "625  Default   9.000000    development   9.000000  16.0000  16.0000\n",
       "439  Default   9.000000          cause   9.000000  15.0000  15.0000\n",
       "49   Default  19.000000         people  19.000000  14.0000  14.0000\n",
       "190  Default  12.000000         global  12.000000  13.0000  13.0000\n",
       "212  Default  12.000000     government  12.000000  12.0000  12.0000\n",
       "175  Default  11.000000       response  11.000000  11.0000  11.0000\n",
       "395  Default   9.000000   relationship   9.000000  10.0000  10.0000\n",
       "384  Default   8.000000         simple   8.000000   9.0000   9.0000\n",
       "325  Default   9.000000         energy   9.000000   8.0000   8.0000\n",
       "194  Default  11.000000        society  11.000000   7.0000   7.0000\n",
       "103  Default  11.000000          value  11.000000   6.0000   6.0000\n",
       "250  Default   9.000000       strategy   9.000000   5.0000   5.0000\n",
       "895  Default  12.000000       chemical  12.000000   4.0000   4.0000\n",
       "440  Default   7.000000         living   7.000000   3.0000   3.0000\n",
       "115  Default  10.000000     technology  10.000000   2.0000   2.0000\n",
       "40   Default  24.000000        analyse  24.000000   1.0000   1.0000\n",
       "..       ...        ...            ...        ...      ...      ...\n",
       "887   Topic8   2.095517     electrons;   2.771650   2.3796  -4.6593\n",
       "888   Topic8   2.095517        neutron   2.771650   2.3796  -4.6593\n",
       "891   Topic8   2.095517  radioactivity   2.771650   2.3796  -4.6593\n",
       "886   Topic8   2.095517          decay   2.771650   2.3796  -4.6593\n",
       "884   Topic8   2.095517          arise   2.771650   2.3796  -4.6593\n",
       "873   Topic8   2.095251      heritable   2.771551   2.3795  -4.6594\n",
       "874   Topic8   2.095251   transmission   2.771551   2.3795  -4.6594\n",
       "871   Topic8   2.095251            dna   2.771551   2.3795  -4.6594\n",
       "872   Topic8   2.095251           gene   2.771551   2.3795  -4.6594\n",
       "850   Topic8   2.095274      discovery   2.771646   2.3795  -4.6594\n",
       "80    Topic8   2.095001         choice   2.771507   2.3794  -4.6595\n",
       "208   Topic8   2.039862       identity   2.716078   2.3730  -4.6862\n",
       "561   Topic8   1.610120       sequence   2.286402   2.3086  -4.9227\n",
       "357   Topic8   3.724308          world   5.485516   2.2720  -4.0842\n",
       "105   Topic8   1.284999          media   1.964053   2.2350  -5.1483\n",
       "596   Topic8   1.240639           area   1.918731   2.2232  -5.1834\n",
       "279   Topic8   1.136410      reasoning   1.812568   2.1924  -5.2712\n",
       "205   Topic8   1.056885       attitude   1.733303   2.1646  -5.3437\n",
       "525   Topic8   1.050242        beliefs   1.726723   2.1621  -5.3500\n",
       "602   Topic8   0.907321          water   1.583521   2.1024  -5.4963\n",
       "594   Topic8   2.579781  technological   4.540828   2.0939  -4.4513\n",
       "343   Topic8   2.730100         impact   5.291476   1.9975  -4.3947\n",
       "885   Topic8   4.069022           atom   8.687757   1.9008  -3.9956\n",
       "847   Topic8   5.778401     scientific  13.504342   1.8104  -3.6449\n",
       "682   Topic8   2.623438     generation   5.237946   1.9678  -4.4346\n",
       "99    Topic8   3.132946        examine   7.480026   1.7890  -4.2571\n",
       "69    Topic8   3.242465          shape   8.825905   1.6579  -4.2227\n",
       "882   Topic8   2.095054         matter   4.679914   1.8556  -4.6595\n",
       "179   Topic8   2.703496      influence  21.224506   0.5987  -4.4045\n",
       "44    Topic8   2.478159        include  43.454544  -0.2049  -4.4915\n",
       "\n",
       "[347 rows x 6 columns], token_table=      Topic      Freq           Term\n",
       "term                                \n",
       "835       2  0.831341        ability\n",
       "541       5  0.635260        achieve\n",
       "837       5  0.928056    achievement\n",
       "54        4  0.679813         action\n",
       "694       5  0.903927       activity\n",
       "849       8  0.834568        advance\n",
       "756       3  0.809671      algebraic\n",
       "756       6  0.161934      algebraic\n",
       "364       6  0.886317     algorithms\n",
       "40        1  0.618812        analyse\n",
       "40        2  0.082508        analyse\n",
       "40        5  0.206271        analyse\n",
       "40        8  0.082508        analyse\n",
       "417       4  0.494459       analysis\n",
       "859       7  0.752183         animal\n",
       "147       7  0.806631          apply\n",
       "307       6  0.854283    appropriate\n",
       "596       8  0.521178           area\n",
       "884       8  0.721592          arise\n",
       "885       1  0.460418           atom\n",
       "885       8  0.460418           atom\n",
       "205       8  0.576933       attitude\n",
       "60        1  0.979039       audience\n",
       "185       2  0.870764     australian\n",
       "900       6  0.673645       balanced\n",
       "428       6  0.910755      behaviour\n",
       "97        2  0.782227         belief\n",
       "525       8  0.579132        beliefs\n",
       "418       4  0.881330        benefit\n",
       "860       7  0.752183          brain\n",
       "...     ...       ...            ...\n",
       "848       6  0.213639         theory\n",
       "848       7  0.427277         theory\n",
       "51        5  0.431827           time\n",
       "51        6  0.431827           time\n",
       "707       3  0.888765       transfer\n",
       "874       8  0.721618   transmission\n",
       "870       7  0.752183       transmit\n",
       "660       5  0.711096           turn\n",
       "661       5  0.711091      twentieth\n",
       "514       1  0.207852           type\n",
       "514       6  0.623556           type\n",
       "52        5  0.907400     understand\n",
       "146       1  0.968610  understanding\n",
       "426       4  0.703849     unintended\n",
       "919       7  0.875758       universe\n",
       "116       1  0.561036            use\n",
       "116       3  0.240444            use\n",
       "116       7  0.160296            use\n",
       "576       6  0.875866         useful\n",
       "103       2  0.946636          value\n",
       "444       4  0.648136      variation\n",
       "155       1  0.940282         visual\n",
       "666       4  0.590317            war\n",
       "666       7  0.196772            war\n",
       "602       8  0.631504          water\n",
       "199       2  0.977719            way\n",
       "623       7  0.923553      wellbeing\n",
       "39        1  0.904426           work\n",
       "357       3  0.182298          world\n",
       "357       8  0.729193          world\n",
       "\n",
       "[356 rows x 3 columns], R=30, lambda_step=0.01, plot_opts={'xlab': 'PC1', 'ylab': 'PC2'}, topic_order=[1, 3, 7, 5, 6, 4, 2, 8])"
      ]
     },
     "execution_count": 31,
     "metadata": {},
     "output_type": "execute_result"
    }
   ],
   "source": [
    "# Visualize the topics\n",
    "pyLDAvis.enable_notebook()\n",
    "vis = pyLDAvis.gensim.prepare(lda_model, corpus, id2word)\n",
    "vis"
   ]
  },
  {
   "cell_type": "markdown",
   "metadata": {},
   "source": [
    "### Find optimal number of topics"
   ]
  },
  {
   "cell_type": "code",
   "execution_count": 32,
   "metadata": {},
   "outputs": [],
   "source": [
    "def compute_coherence_values(dictionary, corpus, texts, limit, start=2, step=3):\n",
    "    \"\"\"\n",
    "    Compute c_v coherence for various number of topics\n",
    "\n",
    "    Parameters:\n",
    "    ----------\n",
    "    dictionary : Gensim dictionary\n",
    "    corpus : Gensim corpus\n",
    "    texts : List of input texts\n",
    "    limit : Max num of topics\n",
    "\n",
    "    Returns:\n",
    "    -------\n",
    "    model_list : List of LDA topic models\n",
    "    coherence_values : Coherence values corresponding to the LDA model with respective number of topics\n",
    "    \"\"\"\n",
    "    coherence_values = []\n",
    "    model_list = []\n",
    "    for num_topics in range(start, limit, step):\n",
    "        model = gensim.models.ldamodel.LdaModel(corpus=corpus,\n",
    "                                        id2word=id2word,\n",
    "                                        num_topics=num_topics, \n",
    "                                       random_state=100,\n",
    "                                       update_every=1,\n",
    "                                       chunksize=100,\n",
    "                                       passes=10,\n",
    "                                       alpha='auto',\n",
    "                                       per_word_topics=True)\n",
    "        model_list.append(model)\n",
    "        coherencemodel = CoherenceModel(model=model, texts=texts, dictionary=dictionary, coherence='c_v')\n",
    "        coherence_values.append(coherencemodel.get_coherence())\n",
    "\n",
    "    return model_list, coherence_values"
   ]
  },
  {
   "cell_type": "code",
   "execution_count": 33,
   "metadata": {},
   "outputs": [],
   "source": [
    "model_list, coherence_values = compute_coherence_values(dictionary=id2word, \n",
    "                                                        corpus=corpus, \n",
    "                                                        texts=data_lemmatized, \n",
    "                                                        start=2, \n",
    "                                                        limit=30, \n",
    "                                                        step=5)"
   ]
  },
  {
   "cell_type": "code",
   "execution_count": 34,
   "metadata": {},
   "outputs": [
    {
     "data": {
      "image/png": "[encoded data removed]",
      "text/plain": [
       "<Figure size 432x288 with 1 Axes>"
      ]
     },
     "metadata": {
      "needs_background": "light"
     },
     "output_type": "display_data"
    }
   ],
   "source": [
    "# Show graph\n",
    "limit=30; start=2; step=5;\n",
    "x = range(start, limit, step)\n",
    "plt.plot(x, coherence_values)\n",
    "plt.xlabel(\"Num Topics\")\n",
    "plt.ylabel(\"Coherence score\")\n",
    "plt.legend((\"coherence_values\"), loc='best')\n",
    "plt.show()"
   ]
  },
  {
   "cell_type": "code",
   "execution_count": 35,
   "metadata": {},
   "outputs": [
    {
     "name": "stdout",
     "output_type": "stream",
     "text": [
      "Num Topics = 2  has Coherence Value of 0.4035\n",
      "Num Topics = 7  has Coherence Value of 0.4486\n",
      "Num Topics = 12  has Coherence Value of 0.4546\n",
      "Num Topics = 17  has Coherence Value of 0.419\n",
      "Num Topics = 22  has Coherence Value of 0.4081\n",
      "Num Topics = 27  has Coherence Value of 0.3597\n"
     ]
    }
   ],
   "source": [
    "# Print the coherence scores\n",
    "for m, cv in zip(x, coherence_values):\n",
    "    print(\"Num Topics =\", m, \" has Coherence Value of\", round(cv, 4))"
   ]
  },
  {
   "cell_type": "code",
   "execution_count": 36,
   "metadata": {},
   "outputs": [],
   "source": [
    "optimal_model = model_list[2]\n",
    "model_topics = optimal_model.show_topics(formatted=False)\n",
    "#pprint(optimal_model.print_topics(num_words=10))"
   ]
  },
  {
   "cell_type": "markdown",
   "metadata": {},
   "source": [
    "### Define dominant topics in each sentence"
   ]
  },
  {
   "cell_type": "code",
   "execution_count": 37,
   "metadata": {},
   "outputs": [],
   "source": [
    "def format_topics_sentences(ldamodel=None, corpus=corpus, texts=texts):\n",
    "    sent_topics_df = pd.DataFrame()\n",
    "\n",
    "    # Get main topic in each document\n",
    "    for i, row_list in enumerate(ldamodel[corpus]):\n",
    "        row = row_list[0] if ldamodel.per_word_topics else row_list            \n",
    "        # print(row)\n",
    "        row = sorted(row, key=lambda x: (x[1]), reverse=True)\n",
    "        # Get the Dominant topic, Perc Contribution and Keywords for each document\n",
    "        for j, (topic_num, prop_topic) in enumerate(row):\n",
    "            if j == 0:  # => dominant topic\n",
    "                wp = ldamodel.show_topic(topic_num)\n",
    "                topic_keywords = \", \".join([word for word, prop in wp])\n",
    "                sent_topics_df = sent_topics_df.append(pd.Series([int(topic_num), round(prop_topic,4), topic_keywords]), ignore_index=True)\n",
    "            else:\n",
    "                break\n",
    "    sent_topics_df.columns = ['Dominant_Topic', 'Perc_Contribution', 'Topic_Keywords']\n",
    "\n",
    "    contents = pd.Series(texts)\n",
    "    sent_topics_df = pd.concat([sent_topics_df, contents], axis=1)\n",
    "    return(sent_topics_df)"
   ]
  },
  {
   "cell_type": "code",
   "execution_count": 44,
   "metadata": {},
   "outputs": [
    {
     "data": {
      "text/html": [
       "<div>\n",
       "<style scoped>\n",
       "    .dataframe tbody tr th:only-of-type {\n",
       "        vertical-align: middle;\n",
       "    }\n",
       "\n",
       "    .dataframe tbody tr th {\n",
       "        vertical-align: top;\n",
       "    }\n",
       "\n",
       "    .dataframe thead th {\n",
       "        text-align: right;\n",
       "    }\n",
       "</style>\n",
       "<table border=\"1\" class=\"dataframe\">\n",
       "  <thead>\n",
       "    <tr style=\"text-align: right;\">\n",
       "      <th></th>\n",
       "      <th>Document_No</th>\n",
       "      <th>Dominant_Topic</th>\n",
       "      <th>Topic_Perc_Contrib</th>\n",
       "      <th>Keywords</th>\n",
       "      <th>Text</th>\n",
       "    </tr>\n",
       "  </thead>\n",
       "  <tbody>\n",
       "    <tr>\n",
       "      <th>0</th>\n",
       "      <td>0</td>\n",
       "      <td>0.0</td>\n",
       "      <td>0.9365</td>\n",
       "      <td>different, evaluate, text, range, context, explore, design, develop, structure, create</td>\n",
       "      <td>[Practise, refine, technical, expressive, skills, develop, proficiency, genre, style, specific, ...</td>\n",
       "    </tr>\n",
       "    <tr>\n",
       "      <th>1</th>\n",
       "      <td>1</td>\n",
       "      <td>0.0</td>\n",
       "      <td>0.6547</td>\n",
       "      <td>different, evaluate, text, range, context, explore, design, develop, structure, create</td>\n",
       "      <td>[Structure, dances, movement, motifs, choreographic, devices, form]</td>\n",
       "    </tr>\n",
       "    <tr>\n",
       "      <th>2</th>\n",
       "      <td>2</td>\n",
       "      <td>0.0</td>\n",
       "      <td>0.9524</td>\n",
       "      <td>different, evaluate, text, range, context, explore, design, develop, structure, create</td>\n",
       "      <td>[Explore, personal, movement, style, combining, elements, dance, improvisation, safe, dance, pra...</td>\n",
       "    </tr>\n",
       "    <tr>\n",
       "      <th>3</th>\n",
       "      <td>3</td>\n",
       "      <td>0.0</td>\n",
       "      <td>0.5238</td>\n",
       "      <td>different, evaluate, text, range, context, explore, design, develop, structure, create</td>\n",
       "      <td>[Manipulate, combinations, elements, dance, choreographic, devices, communicate, choreographic, ...</td>\n",
       "    </tr>\n",
       "    <tr>\n",
       "      <th>4</th>\n",
       "      <td>4</td>\n",
       "      <td>0.0</td>\n",
       "      <td>0.9456</td>\n",
       "      <td>different, evaluate, text, range, context, explore, design, develop, structure, create</td>\n",
       "      <td>[Perform, dances, genre, style, specific, techniques, expressive, skills, productions, elements,...</td>\n",
       "    </tr>\n",
       "  </tbody>\n",
       "</table>\n",
       "</div>"
      ],
      "text/plain": [
       "   Document_No  Dominant_Topic  Topic_Perc_Contrib  \\\n",
       "0            0             0.0              0.9365   \n",
       "1            1             0.0              0.6547   \n",
       "2            2             0.0              0.9524   \n",
       "3            3             0.0              0.5238   \n",
       "4            4             0.0              0.9456   \n",
       "\n",
       "                                                                                 Keywords  \\\n",
       "0  different, evaluate, text, range, context, explore, design, develop, structure, create   \n",
       "1  different, evaluate, text, range, context, explore, design, develop, structure, create   \n",
       "2  different, evaluate, text, range, context, explore, design, develop, structure, create   \n",
       "3  different, evaluate, text, range, context, explore, design, develop, structure, create   \n",
       "4  different, evaluate, text, range, context, explore, design, develop, structure, create   \n",
       "\n",
       "                                                                                                  Text  \n",
       "0  [Practise, refine, technical, expressive, skills, develop, proficiency, genre, style, specific, ...  \n",
       "1                                  [Structure, dances, movement, motifs, choreographic, devices, form]  \n",
       "2  [Explore, personal, movement, style, combining, elements, dance, improvisation, safe, dance, pra...  \n",
       "3  [Manipulate, combinations, elements, dance, choreographic, devices, communicate, choreographic, ...  \n",
       "4  [Perform, dances, genre, style, specific, techniques, expressive, skills, productions, elements,...  "
      ]
     },
     "execution_count": 44,
     "metadata": {},
     "output_type": "execute_result"
    }
   ],
   "source": [
    "df_topic_sents_keywords = format_topics_sentences(ldamodel=lda_model, corpus=corpus, texts=data_nouns)\n",
    "\n",
    "# Format\n",
    "df_dominant_topic = df_topic_sents_keywords.reset_index()\n",
    "df_dominant_topic.columns = ['Document_No', 'Dominant_Topic', 'Topic_Perc_Contrib', 'Keywords', 'Text']\n",
    "df_dominant_topic.head()"
   ]
  },
  {
   "cell_type": "code",
   "execution_count": 39,
   "metadata": {},
   "outputs": [],
   "source": [
    "# Number of Documents for Each Topic\n",
    "topic_counts = df_topic_sents_keywords['Dominant_Topic'].value_counts()\n",
    "\n",
    "# Percentage of Documents for Each Topic\n",
    "topic_contribution = round(topic_counts/topic_counts.sum(), 4)\n",
    "\n",
    "# Topic Number and Keywords\n",
    "topic_num_keywords = df_topic_sents_keywords[['Dominant_Topic', 'Topic_Keywords']]\n",
    "\n",
    "# Concatenate Column wise\n",
    "df_dominant_topics = pd.concat([topic_num_keywords, topic_counts, topic_contribution], axis=1)\n",
    "\n",
    "# Change Column names\n",
    "df_dominant_topics.columns = ['Dominant_Topic', 'Topic_Keywords', 'Num_Documents', 'Perc_Documents']\n",
    "\n",
    "# Show\n",
    "#df_dominant_topics"
   ]
  },
  {
   "cell_type": "markdown",
   "metadata": {},
   "source": [
    "### Frequency Distribution of Word Counts in Documents"
   ]
  },
  {
   "cell_type": "code",
   "execution_count": 40,
   "metadata": {},
   "outputs": [
    {
     "data": {
      "text/html": [
       "<div>\n",
       "<style scoped>\n",
       "    .dataframe tbody tr th:only-of-type {\n",
       "        vertical-align: middle;\n",
       "    }\n",
       "\n",
       "    .dataframe tbody tr th {\n",
       "        vertical-align: top;\n",
       "    }\n",
       "\n",
       "    .dataframe thead th {\n",
       "        text-align: right;\n",
       "    }\n",
       "</style>\n",
       "<table border=\"1\" class=\"dataframe\">\n",
       "  <thead>\n",
       "    <tr style=\"text-align: right;\">\n",
       "      <th></th>\n",
       "      <th>Topic_Num</th>\n",
       "      <th>Topic_Perc_Contrib</th>\n",
       "      <th>Keywords</th>\n",
       "      <th>Representative Text</th>\n",
       "    </tr>\n",
       "  </thead>\n",
       "  <tbody>\n",
       "    <tr>\n",
       "      <th>0</th>\n",
       "      <td>0.0</td>\n",
       "      <td>0.9653</td>\n",
       "      <td>different, evaluate, text, range, context, explore, design, develop, structure, create</td>\n",
       "      <td>[Analyse, evaluate, use, methods, media, materials, design, elements, design, principles, visual...</td>\n",
       "    </tr>\n",
       "    <tr>\n",
       "      <th>1</th>\n",
       "      <td>1.0</td>\n",
       "      <td>0.8340</td>\n",
       "      <td>system, perspective, operation, health, apply, compare, rely, universe, magnet, coordinate</td>\n",
       "      <td>[animal, response, stimulus, coordinated, central, nervous, system, brain, spinal, cord, neurons...</td>\n",
       "    </tr>\n",
       "    <tr>\n",
       "      <th>2</th>\n",
       "      <td>2.0</td>\n",
       "      <td>0.9459</td>\n",
       "      <td>explain, include, influence, people, global, different, government, response, society, value</td>\n",
       "      <td>[Analyse, contemporary, examples, issues, relating, Australian, democracy, global, connections, ...</td>\n",
       "    </tr>\n",
       "    <tr>\n",
       "      <th>3</th>\n",
       "      <td>3.0</td>\n",
       "      <td>0.8579</td>\n",
       "      <td>scientific, technology, information, chemical, appropriate, include, datum, environment, time, c...</td>\n",
       "      <td>[Collect, record, relevant, geographical, data, information, ethical, protocols, reliable, usefu...</td>\n",
       "    </tr>\n",
       "    <tr>\n",
       "      <th>4</th>\n",
       "      <td>4.0</td>\n",
       "      <td>0.9180</td>\n",
       "      <td>place, cause, simple, living, nature, contribute, link, consequence, predict, country</td>\n",
       "      <td>[Causes, World, War, reasons, men, enlisted, war, women, contributed, war, effort]</td>\n",
       "    </tr>\n",
       "    <tr>\n",
       "      <th>5</th>\n",
       "      <td>5.0</td>\n",
       "      <td>0.8688</td>\n",
       "      <td>effect, significant, evaluate, change, pattern, task, analyse, activity, time, live</td>\n",
       "      <td>[Analyse, evaluate, broad, patterns, change, period, 1750–present]</td>\n",
       "    </tr>\n",
       "    <tr>\n",
       "      <th>6</th>\n",
       "      <td>6.0</td>\n",
       "      <td>0.9060</td>\n",
       "      <td>involve, relationship, energy, strategy, solve, reaction, investigate, component, process, transfer</td>\n",
       "      <td>[Investigate, use, range, learning, strategies, monitored, evaluated, directed, necessary]</td>\n",
       "    </tr>\n",
       "    <tr>\n",
       "      <th>7</th>\n",
       "      <td>7.0</td>\n",
       "      <td>0.8933</td>\n",
       "      <td>event, development, scientific, political, advance, atom, diversity, world, shape, examine</td>\n",
       "      <td>[Analyse, citizens, political, choices, shaped, including, influence, media]</td>\n",
       "    </tr>\n",
       "  </tbody>\n",
       "</table>\n",
       "</div>"
      ],
      "text/plain": [
       "   Topic_Num  Topic_Perc_Contrib  \\\n",
       "0        0.0              0.9653   \n",
       "1        1.0              0.8340   \n",
       "2        2.0              0.9459   \n",
       "3        3.0              0.8579   \n",
       "4        4.0              0.9180   \n",
       "5        5.0              0.8688   \n",
       "6        6.0              0.9060   \n",
       "7        7.0              0.8933   \n",
       "\n",
       "                                                                                              Keywords  \\\n",
       "0               different, evaluate, text, range, context, explore, design, develop, structure, create   \n",
       "1           system, perspective, operation, health, apply, compare, rely, universe, magnet, coordinate   \n",
       "2         explain, include, influence, people, global, different, government, response, society, value   \n",
       "3  scientific, technology, information, chemical, appropriate, include, datum, environment, time, c...   \n",
       "4                place, cause, simple, living, nature, contribute, link, consequence, predict, country   \n",
       "5                  effect, significant, evaluate, change, pattern, task, analyse, activity, time, live   \n",
       "6  involve, relationship, energy, strategy, solve, reaction, investigate, component, process, transfer   \n",
       "7           event, development, scientific, political, advance, atom, diversity, world, shape, examine   \n",
       "\n",
       "                                                                                   Representative Text  \n",
       "0  [Analyse, evaluate, use, methods, media, materials, design, elements, design, principles, visual...  \n",
       "1  [animal, response, stimulus, coordinated, central, nervous, system, brain, spinal, cord, neurons...  \n",
       "2  [Analyse, contemporary, examples, issues, relating, Australian, democracy, global, connections, ...  \n",
       "3  [Collect, record, relevant, geographical, data, information, ethical, protocols, reliable, usefu...  \n",
       "4                   [Causes, World, War, reasons, men, enlisted, war, women, contributed, war, effort]  \n",
       "5                                   [Analyse, evaluate, broad, patterns, change, period, 1750–present]  \n",
       "6           [Investigate, use, range, learning, strategies, monitored, evaluated, directed, necessary]  \n",
       "7                         [Analyse, citizens, political, choices, shaped, including, influence, media]  "
      ]
     },
     "execution_count": 40,
     "metadata": {},
     "output_type": "execute_result"
    }
   ],
   "source": [
    "# Display setting to show more characters in column\n",
    "pd.options.display.max_colwidth = 100\n",
    "\n",
    "sent_topics_sorteddf_mallet = pd.DataFrame()\n",
    "sent_topics_outdf_grpd = df_topic_sents_keywords.groupby('Dominant_Topic')\n",
    "\n",
    "for i, grp in sent_topics_outdf_grpd:\n",
    "    sent_topics_sorteddf_mallet = pd.concat([sent_topics_sorteddf_mallet, \n",
    "                                             grp.sort_values(['Perc_Contribution'], ascending=False).head(1)], \n",
    "                                            axis=0)\n",
    "\n",
    "sent_topics_sorteddf_mallet.reset_index(drop=True, inplace=True)\n",
    "sent_topics_sorteddf_mallet.columns = ['Topic_Num', \"Topic_Perc_Contrib\", \"Keywords\", \"Representative Text\"]\n",
    "sent_topics_sorteddf_mallet.head(10)"
   ]
  },
  {
   "cell_type": "code",
   "execution_count": 42,
   "metadata": {},
   "outputs": [
    {
     "data": {
      "image/png": "[encoded data removed]",
      "text/plain": [
       "<Figure size 800x500 with 1 Axes>"
      ]
     },
     "metadata": {
      "needs_background": "light"
     },
     "output_type": "display_data"
    }
   ],
   "source": [
    "doc_lens = [len(d) for d in df_dominant_topic.Text]\n",
    "\n",
    "plt.figure(figsize=(8,5), dpi=100)\n",
    "plt.hist(doc_lens, bins = 50, color='navy')\n",
    "plt.gca().set(xlim=(0, 50), ylabel='Number of Documents', xlabel='Document Word Count')\n",
    "plt.tick_params(size=10)\n",
    "plt.xticks(np.linspace(0,50,9))\n",
    "plt.title('Distribution of Document Word Counts', fontdict=dict(size=10))\n",
    "plt.show()\n"
   ]
  },
  {
   "cell_type": "markdown",
   "metadata": {},
   "source": [
    "### Word Clouds of Top N Keywords in Each Topic"
   ]
  },
  {
   "cell_type": "code",
   "execution_count": 45,
   "metadata": {},
   "outputs": [
    {
     "name": "stderr",
     "output_type": "stream",
     "text": [
      "/usr/local/lib/python3.7/site-packages/nltk/decorators.py:68: DeprecationWarning: `formatargspec` is deprecated since Python 3.5. Use `signature` and the `Signature` object directly\n",
      "  regargs, varargs, varkwargs, defaults, formatvalue=lambda value: \"\"\n"
     ]
    }
   ],
   "source": [
    "import matplotlib.pyplot as plt\n",
    "from wordcloud import WordCloud, STOPWORDS\n",
    "import matplotlib.colors as mcolors\n",
    "from nltk.corpus import stopwords\n",
    "stop_words = stopwords.words('english')"
   ]
  },
  {
   "cell_type": "code",
   "execution_count": 53,
   "metadata": {},
   "outputs": [
    {
     "data": {
      "image/png": "[encoded data removed]",
      "text/plain": [
       "<Figure size 1080x720 with 8 Axes>"
      ]
     },
     "metadata": {
      "needs_background": "light"
     },
     "output_type": "display_data"
    }
   ],
   "source": [
    "cols = [color for name, color in mcolors.TABLEAU_COLORS.items()]  # more colors: 'mcolors.XKCD_COLORS'\n",
    "\n",
    "cloud = WordCloud(stopwords=stop_words,\n",
    "                  background_color='white',\n",
    "                  width=2500,\n",
    "                  height=1800,\n",
    "                  max_words=10,\n",
    "                  colormap='tab10',\n",
    "                  color_func=lambda *args, **kwargs: cols[i],\n",
    "                  prefer_horizontal=1.0)\n",
    "\n",
    "topics = lda_model.show_topics(formatted=False)\n",
    "\n",
    "fig, axes = plt.subplots(2, 4, figsize=(15,10), sharex=True, sharey=True)\n",
    "\n",
    "for i, ax in enumerate(axes.flatten()):\n",
    "    fig.add_subplot(ax)\n",
    "    topic_words = dict(topics[i][1])\n",
    "    cloud.generate_from_frequencies(topic_words, max_font_size=300)\n",
    "    plt.gca().imshow(cloud)\n",
    "    plt.gca().set_title('Topic ' + str(i), fontdict=dict(size=16))\n",
    "    plt.gca().axis('off')\n",
    "\n",
    "plt.subplots_adjust(wspace=0, hspace=0)\n",
    "plt.axis('off')\n",
    "plt.margins(x=0, y=0)\n",
    "plt.tight_layout()\n",
    "plt.show()"
   ]
  },
  {
   "cell_type": "code",
   "execution_count": 55,
   "metadata": {},
   "outputs": [],
   "source": [
    "plt.savefig('topic.png')"
   ]
  },
  {
   "cell_type": "markdown",
   "metadata": {},
   "source": [
    "### t-SNE Clustering Chart"
   ]
  },
  {
   "cell_type": "code",
   "execution_count": 50,
   "metadata": {},
   "outputs": [],
   "source": [
    "# Get topic weights and dominant topics ------------\n",
    "from sklearn.manifold import TSNE\n",
    "from bokeh.plotting import figure, output_file, show\n",
    "from bokeh.models import Label\n",
    "from bokeh.io import output_notebook"
   ]
  },
  {
   "cell_type": "code",
   "execution_count": 51,
   "metadata": {},
   "outputs": [
    {
     "name": "stdout",
     "output_type": "stream",
     "text": [
      "[t-SNE] Computing 91 nearest neighbors...\n",
      "[t-SNE] Indexed 265 samples in 0.004s...\n",
      "[t-SNE] Computed neighbors for 265 samples in 0.009s...\n",
      "[t-SNE] Computed conditional probabilities for sample 265 / 265\n",
      "[t-SNE] Mean sigma: 0.210723\n",
      "[t-SNE] KL divergence after 250 iterations with early exaggeration: 59.961628\n",
      "[t-SNE] KL divergence after 1000 iterations: 0.309469\n"
     ]
    },
    {
     "data": {
      "text/html": [
       "\n",
       "    <div class=\"bk-root\">\n",
       "        <a href=\"https://bokeh.pydata.org\" target=\"_blank\" class=\"bk-logo bk-logo-small bk-logo-notebook\"></a>\n",
       "        <span id=\"1001\">Loading BokehJS ...</span>\n",
       "    </div>"
      ]
     },
     "metadata": {},
     "output_type": "display_data"
    },
    {
     "data": {
      "application/javascript": [
       "\n",
       "(function(root) {\n",
       "  function now() {\n",
       "    return new Date();\n",
       "  }\n",
       "\n",
       "  var force = true;\n",
       "\n",
       "  if (typeof root._bokeh_onload_callbacks === \"undefined\" || force === true) {\n",
       "    root._bokeh_onload_callbacks = [];\n",
       "    root._bokeh_is_loading = undefined;\n",
       "  }\n",
       "\n",
       "  var JS_MIME_TYPE = 'application/javascript';\n",
       "  var HTML_MIME_TYPE = 'text/html';\n",
       "  var EXEC_MIME_TYPE = 'application/vnd.bokehjs_exec.v0+json';\n",
       "  var CLASS_NAME = 'output_bokeh rendered_html';\n",
       "\n",
       "  /**\n",
       "   * Render data to the DOM node\n",
       "   */\n",
       "  function render(props, node) {\n",
       "    var script = document.createElement(\"script\");\n",
       "    node.appendChild(script);\n",
       "  }\n",
       "\n",
       "  /**\n",
       "   * Handle when an output is cleared or removed\n",
       "   */\n",
       "  function handleClearOutput(event, handle) {\n",
       "    var cell = handle.cell;\n",
       "\n",
       "    var id = cell.output_area._bokeh_element_id;\n",
       "    var server_id = cell.output_area._bokeh_server_id;\n",
       "    // Clean up Bokeh references\n",
       "    if (id != null && id in Bokeh.index) {\n",
       "      Bokeh.index[id].model.document.clear();\n",
       "      delete Bokeh.index[id];\n",
       "    }\n",
       "\n",
       "    if (server_id !== undefined) {\n",
       "      // Clean up Bokeh references\n",
       "      var cmd = \"from bokeh.io.state import curstate; print(curstate().uuid_to_server['\" + server_id + \"'].get_sessions()[0].document.roots[0]._id)\";\n",
       "      cell.notebook.kernel.execute(cmd, {\n",
       "        iopub: {\n",
       "          output: function(msg) {\n",
       "            var id = msg.content.text.trim();\n",
       "            if (id in Bokeh.index) {\n",
       "              Bokeh.index[id].model.document.clear();\n",
       "              delete Bokeh.index[id];\n",
       "            }\n",
       "          }\n",
       "        }\n",
       "      });\n",
       "      // Destroy server and session\n",
       "      var cmd = \"import bokeh.io.notebook as ion; ion.destroy_server('\" + server_id + \"')\";\n",
       "      cell.notebook.kernel.execute(cmd);\n",
       "    }\n",
       "  }\n",
       "\n",
       "  /**\n",
       "   * Handle when a new output is added\n",
       "   */\n",
       "  function handleAddOutput(event, handle) {\n",
       "    var output_area = handle.output_area;\n",
       "    var output = handle.output;\n",
       "\n",
       "    // limit handleAddOutput to display_data with EXEC_MIME_TYPE content only\n",
       "    if ((output.output_type != \"display_data\") || (!output.data.hasOwnProperty(EXEC_MIME_TYPE))) {\n",
       "      return\n",
       "    }\n",
       "\n",
       "    var toinsert = output_area.element.find(\".\" + CLASS_NAME.split(' ')[0]);\n",
       "\n",
       "    if (output.metadata[EXEC_MIME_TYPE][\"id\"] !== undefined) {\n",
       "      toinsert[toinsert.length - 1].firstChild.textContent = output.data[JS_MIME_TYPE];\n",
       "      // store reference to embed id on output_area\n",
       "      output_area._bokeh_element_id = output.metadata[EXEC_MIME_TYPE][\"id\"];\n",
       "    }\n",
       "    if (output.metadata[EXEC_MIME_TYPE][\"server_id\"] !== undefined) {\n",
       "      var bk_div = document.createElement(\"div\");\n",
       "      bk_div.innerHTML = output.data[HTML_MIME_TYPE];\n",
       "      var script_attrs = bk_div.children[0].attributes;\n",
       "      for (var i = 0; i < script_attrs.length; i++) {\n",
       "        toinsert[toinsert.length - 1].firstChild.setAttribute(script_attrs[i].name, script_attrs[i].value);\n",
       "      }\n",
       "      // store reference to server id on output_area\n",
       "      output_area._bokeh_server_id = output.metadata[EXEC_MIME_TYPE][\"server_id\"];\n",
       "    }\n",
       "  }\n",
       "\n",
       "  function register_renderer(events, OutputArea) {\n",
       "\n",
       "    function append_mime(data, metadata, element) {\n",
       "      // create a DOM node to render to\n",
       "      var toinsert = this.create_output_subarea(\n",
       "        metadata,\n",
       "        CLASS_NAME,\n",
       "        EXEC_MIME_TYPE\n",
       "      );\n",
       "      this.keyboard_manager.register_events(toinsert);\n",
       "      // Render to node\n",
       "      var props = {data: data, metadata: metadata[EXEC_MIME_TYPE]};\n",
       "      render(props, toinsert[toinsert.length - 1]);\n",
       "      element.append(toinsert);\n",
       "      return toinsert\n",
       "    }\n",
       "\n",
       "    /* Handle when an output is cleared or removed */\n",
       "    events.on('clear_output.CodeCell', handleClearOutput);\n",
       "    events.on('delete.Cell', handleClearOutput);\n",
       "\n",
       "    /* Handle when a new output is added */\n",
       "    events.on('output_added.OutputArea', handleAddOutput);\n",
       "\n",
       "    /**\n",
       "     * Register the mime type and append_mime function with output_area\n",
       "     */\n",
       "    OutputArea.prototype.register_mime_type(EXEC_MIME_TYPE, append_mime, {\n",
       "      /* Is output safe? */\n",
       "      safe: true,\n",
       "      /* Index of renderer in `output_area.display_order` */\n",
       "      index: 0\n",
       "    });\n",
       "  }\n",
       "\n",
       "  // register the mime type if in Jupyter Notebook environment and previously unregistered\n",
       "  if (root.Jupyter !== undefined) {\n",
       "    var events = require('base/js/events');\n",
       "    var OutputArea = require('notebook/js/outputarea').OutputArea;\n",
       "\n",
       "    if (OutputArea.prototype.mime_types().indexOf(EXEC_MIME_TYPE) == -1) {\n",
       "      register_renderer(events, OutputArea);\n",
       "    }\n",
       "  }\n",
       "\n",
       "  \n",
       "  if (typeof (root._bokeh_timeout) === \"undefined\" || force === true) {\n",
       "    root._bokeh_timeout = Date.now() + 5000;\n",
       "    root._bokeh_failed_load = false;\n",
       "  }\n",
       "\n",
       "  var NB_LOAD_WARNING = {'data': {'text/html':\n",
       "     \"<div style='background-color: #fdd'>\\n\"+\n",
       "     \"<p>\\n\"+\n",
       "     \"BokehJS does not appear to have successfully loaded. If loading BokehJS from CDN, this \\n\"+\n",
       "     \"may be due to a slow or bad network connection. Possible fixes:\\n\"+\n",
       "     \"</p>\\n\"+\n",
       "     \"<ul>\\n\"+\n",
       "     \"<li>re-rerun `output_notebook()` to attempt to load from CDN again, or</li>\\n\"+\n",
       "     \"<li>use INLINE resources instead, as so:</li>\\n\"+\n",
       "     \"</ul>\\n\"+\n",
       "     \"<code>\\n\"+\n",
       "     \"from bokeh.resources import INLINE\\n\"+\n",
       "     \"output_notebook(resources=INLINE)\\n\"+\n",
       "     \"</code>\\n\"+\n",
       "     \"</div>\"}};\n",
       "\n",
       "  function display_loaded() {\n",
       "    var el = document.getElementById(\"1001\");\n",
       "    if (el != null) {\n",
       "      el.textContent = \"BokehJS is loading...\";\n",
       "    }\n",
       "    if (root.Bokeh !== undefined) {\n",
       "      if (el != null) {\n",
       "        el.textContent = \"BokehJS \" + root.Bokeh.version + \" successfully loaded.\";\n",
       "      }\n",
       "    } else if (Date.now() < root._bokeh_timeout) {\n",
       "      setTimeout(display_loaded, 100)\n",
       "    }\n",
       "  }\n",
       "\n",
       "\n",
       "  function run_callbacks() {\n",
       "    try {\n",
       "      root._bokeh_onload_callbacks.forEach(function(callback) {\n",
       "        if (callback != null)\n",
       "          callback();\n",
       "      });\n",
       "    } finally {\n",
       "      delete root._bokeh_onload_callbacks\n",
       "    }\n",
       "    console.debug(\"Bokeh: all callbacks have finished\");\n",
       "  }\n",
       "\n",
       "  function load_libs(css_urls, js_urls, callback) {\n",
       "    if (css_urls == null) css_urls = [];\n",
       "    if (js_urls == null) js_urls = [];\n",
       "\n",
       "    root._bokeh_onload_callbacks.push(callback);\n",
       "    if (root._bokeh_is_loading > 0) {\n",
       "      console.debug(\"Bokeh: BokehJS is being loaded, scheduling callback at\", now());\n",
       "      return null;\n",
       "    }\n",
       "    if (js_urls == null || js_urls.length === 0) {\n",
       "      run_callbacks();\n",
       "      return null;\n",
       "    }\n",
       "    console.debug(\"Bokeh: BokehJS not loaded, scheduling load and callback at\", now());\n",
       "    root._bokeh_is_loading = css_urls.length + js_urls.length;\n",
       "\n",
       "    function on_load() {\n",
       "      root._bokeh_is_loading--;\n",
       "      if (root._bokeh_is_loading === 0) {\n",
       "        console.debug(\"Bokeh: all BokehJS libraries/stylesheets loaded\");\n",
       "        run_callbacks()\n",
       "      }\n",
       "    }\n",
       "\n",
       "    function on_error() {\n",
       "      console.error(\"failed to load \" + url);\n",
       "    }\n",
       "\n",
       "    for (var i = 0; i < css_urls.length; i++) {\n",
       "      var url = css_urls[i];\n",
       "      const element = document.createElement(\"link\");\n",
       "      element.onload = on_load;\n",
       "      element.onerror = on_error;\n",
       "      element.rel = \"stylesheet\";\n",
       "      element.type = \"text/css\";\n",
       "      element.href = url;\n",
       "      console.debug(\"Bokeh: injecting link tag for BokehJS stylesheet: \", url);\n",
       "      document.body.appendChild(element);\n",
       "    }\n",
       "\n",
       "    for (var i = 0; i < js_urls.length; i++) {\n",
       "      var url = js_urls[i];\n",
       "      var element = document.createElement('script');\n",
       "      element.onload = on_load;\n",
       "      element.onerror = on_error;\n",
       "      element.async = false;\n",
       "      element.src = url;\n",
       "      console.debug(\"Bokeh: injecting script tag for BokehJS library: \", url);\n",
       "      document.head.appendChild(element);\n",
       "    }\n",
       "  };var element = document.getElementById(\"1001\");\n",
       "  if (element == null) {\n",
       "    console.error(\"Bokeh: ERROR: autoload.js configured with elementid '1001' but no matching script tag was found. \")\n",
       "    return false;\n",
       "  }\n",
       "\n",
       "  function inject_raw_css(css) {\n",
       "    const element = document.createElement(\"style\");\n",
       "    element.appendChild(document.createTextNode(css));\n",
       "    document.body.appendChild(element);\n",
       "  }\n",
       "\n",
       "  var js_urls = [\"https://cdn.pydata.org/bokeh/release/bokeh-1.3.4.min.js\", \"https://cdn.pydata.org/bokeh/release/bokeh-widgets-1.3.4.min.js\", \"https://cdn.pydata.org/bokeh/release/bokeh-tables-1.3.4.min.js\", \"https://cdn.pydata.org/bokeh/release/bokeh-gl-1.3.4.min.js\"];\n",
       "  var css_urls = [];\n",
       "\n",
       "  var inline_js = [\n",
       "    function(Bokeh) {\n",
       "      Bokeh.set_log_level(\"info\");\n",
       "    },\n",
       "    \n",
       "    function(Bokeh) {\n",
       "      \n",
       "    },\n",
       "    function(Bokeh) {} // ensure no trailing comma for IE\n",
       "  ];\n",
       "\n",
       "  function run_inline_js() {\n",
       "    \n",
       "    if ((root.Bokeh !== undefined) || (force === true)) {\n",
       "      for (var i = 0; i < inline_js.length; i++) {\n",
       "        inline_js[i].call(root, root.Bokeh);\n",
       "      }if (force === true) {\n",
       "        display_loaded();\n",
       "      }} else if (Date.now() < root._bokeh_timeout) {\n",
       "      setTimeout(run_inline_js, 100);\n",
       "    } else if (!root._bokeh_failed_load) {\n",
       "      console.log(\"Bokeh: BokehJS failed to load within specified timeout.\");\n",
       "      root._bokeh_failed_load = true;\n",
       "    } else if (force !== true) {\n",
       "      var cell = $(document.getElementById(\"1001\")).parents('.cell').data().cell;\n",
       "      cell.output_area.append_execute_result(NB_LOAD_WARNING)\n",
       "    }\n",
       "\n",
       "  }\n",
       "\n",
       "  if (root._bokeh_is_loading === 0) {\n",
       "    console.debug(\"Bokeh: BokehJS loaded, going straight to plotting\");\n",
       "    run_inline_js();\n",
       "  } else {\n",
       "    load_libs(css_urls, js_urls, function() {\n",
       "      console.debug(\"Bokeh: BokehJS plotting callback run at\", now());\n",
       "      run_inline_js();\n",
       "    });\n",
       "  }\n",
       "}(window));"
      ],
      "application/vnd.bokehjs_load.v0+json": "\n(function(root) {\n  function now() {\n    return new Date();\n  }\n\n  var force = true;\n\n  if (typeof root._bokeh_onload_callbacks === \"undefined\" || force === true) {\n    root._bokeh_onload_callbacks = [];\n    root._bokeh_is_loading = undefined;\n  }\n\n  \n\n  \n  if (typeof (root._bokeh_timeout) === \"undefined\" || force === true) {\n    root._bokeh_timeout = Date.now() + 5000;\n    root._bokeh_failed_load = false;\n  }\n\n  var NB_LOAD_WARNING = {'data': {'text/html':\n     \"<div style='background-color: #fdd'>\\n\"+\n     \"<p>\\n\"+\n     \"BokehJS does not appear to have successfully loaded. If loading BokehJS from CDN, this \\n\"+\n     \"may be due to a slow or bad network connection. Possible fixes:\\n\"+\n     \"</p>\\n\"+\n     \"<ul>\\n\"+\n     \"<li>re-rerun `output_notebook()` to attempt to load from CDN again, or</li>\\n\"+\n     \"<li>use INLINE resources instead, as so:</li>\\n\"+\n     \"</ul>\\n\"+\n     \"<code>\\n\"+\n     \"from bokeh.resources import INLINE\\n\"+\n     \"output_notebook(resources=INLINE)\\n\"+\n     \"</code>\\n\"+\n     \"</div>\"}};\n\n  function display_loaded() {\n    var el = document.getElementById(\"1001\");\n    if (el != null) {\n      el.textContent = \"BokehJS is loading...\";\n    }\n    if (root.Bokeh !== undefined) {\n      if (el != null) {\n        el.textContent = \"BokehJS \" + root.Bokeh.version + \" successfully loaded.\";\n      }\n    } else if (Date.now() < root._bokeh_timeout) {\n      setTimeout(display_loaded, 100)\n    }\n  }\n\n\n  function run_callbacks() {\n    try {\n      root._bokeh_onload_callbacks.forEach(function(callback) {\n        if (callback != null)\n          callback();\n      });\n    } finally {\n      delete root._bokeh_onload_callbacks\n    }\n    console.debug(\"Bokeh: all callbacks have finished\");\n  }\n\n  function load_libs(css_urls, js_urls, callback) {\n    if (css_urls == null) css_urls = [];\n    if (js_urls == null) js_urls = [];\n\n    root._bokeh_onload_callbacks.push(callback);\n    if (root._bokeh_is_loading > 0) {\n      console.debug(\"Bokeh: BokehJS is being loaded, scheduling callback at\", now());\n      return null;\n    }\n    if (js_urls == null || js_urls.length === 0) {\n      run_callbacks();\n      return null;\n    }\n    console.debug(\"Bokeh: BokehJS not loaded, scheduling load and callback at\", now());\n    root._bokeh_is_loading = css_urls.length + js_urls.length;\n\n    function on_load() {\n      root._bokeh_is_loading--;\n      if (root._bokeh_is_loading === 0) {\n        console.debug(\"Bokeh: all BokehJS libraries/stylesheets loaded\");\n        run_callbacks()\n      }\n    }\n\n    function on_error() {\n      console.error(\"failed to load \" + url);\n    }\n\n    for (var i = 0; i < css_urls.length; i++) {\n      var url = css_urls[i];\n      const element = document.createElement(\"link\");\n      element.onload = on_load;\n      element.onerror = on_error;\n      element.rel = \"stylesheet\";\n      element.type = \"text/css\";\n      element.href = url;\n      console.debug(\"Bokeh: injecting link tag for BokehJS stylesheet: \", url);\n      document.body.appendChild(element);\n    }\n\n    for (var i = 0; i < js_urls.length; i++) {\n      var url = js_urls[i];\n      var element = document.createElement('script');\n      element.onload = on_load;\n      element.onerror = on_error;\n      element.async = false;\n      element.src = url;\n      console.debug(\"Bokeh: injecting script tag for BokehJS library: \", url);\n      document.head.appendChild(element);\n    }\n  };var element = document.getElementById(\"1001\");\n  if (element == null) {\n    console.error(\"Bokeh: ERROR: autoload.js configured with elementid '1001' but no matching script tag was found. \")\n    return false;\n  }\n\n  function inject_raw_css(css) {\n    const element = document.createElement(\"style\");\n    element.appendChild(document.createTextNode(css));\n    document.body.appendChild(element);\n  }\n\n  var js_urls = [\"https://cdn.pydata.org/bokeh/release/bokeh-1.3.4.min.js\", \"https://cdn.pydata.org/bokeh/release/bokeh-widgets-1.3.4.min.js\", \"https://cdn.pydata.org/bokeh/release/bokeh-tables-1.3.4.min.js\", \"https://cdn.pydata.org/bokeh/release/bokeh-gl-1.3.4.min.js\"];\n  var css_urls = [];\n\n  var inline_js = [\n    function(Bokeh) {\n      Bokeh.set_log_level(\"info\");\n    },\n    \n    function(Bokeh) {\n      \n    },\n    function(Bokeh) {} // ensure no trailing comma for IE\n  ];\n\n  function run_inline_js() {\n    \n    if ((root.Bokeh !== undefined) || (force === true)) {\n      for (var i = 0; i < inline_js.length; i++) {\n        inline_js[i].call(root, root.Bokeh);\n      }if (force === true) {\n        display_loaded();\n      }} else if (Date.now() < root._bokeh_timeout) {\n      setTimeout(run_inline_js, 100);\n    } else if (!root._bokeh_failed_load) {\n      console.log(\"Bokeh: BokehJS failed to load within specified timeout.\");\n      root._bokeh_failed_load = true;\n    } else if (force !== true) {\n      var cell = $(document.getElementById(\"1001\")).parents('.cell').data().cell;\n      cell.output_area.append_execute_result(NB_LOAD_WARNING)\n    }\n\n  }\n\n  if (root._bokeh_is_loading === 0) {\n    console.debug(\"Bokeh: BokehJS loaded, going straight to plotting\");\n    run_inline_js();\n  } else {\n    load_libs(css_urls, js_urls, function() {\n      console.debug(\"Bokeh: BokehJS plotting callback run at\", now());\n      run_inline_js();\n    });\n  }\n}(window));"
     },
     "metadata": {},
     "output_type": "display_data"
    },
    {
     "data": {
      "text/html": [
       "\n",
       "\n",
       "\n",
       "\n",
       "\n",
       "\n",
       "  <div class=\"bk-root\" id=\"42be4ba6-d4c3-4757-b686-dda13113407b\" data-root-id=\"1002\"></div>\n"
      ]
     },
     "metadata": {},
     "output_type": "display_data"
    },
    {
     "data": {
      "application/javascript": [
       "(function(root) {\n",
       "  function embed_document(root) {\n",
       "    \n",
       "  var docs_json = {\"4f11f3e9-c72f-4140-92be-12f1a1f01d6a\":{\"roots\":{\"references\":[{\"attributes\":{\"below\":[{\"id\":\"1013\",\"type\":\"LinearAxis\"}],\"center\":[{\"id\":\"1017\",\"type\":\"Grid\"},{\"id\":\"1022\",\"type\":\"Grid\"}],\"left\":[{\"id\":\"1018\",\"type\":\"LinearAxis\"}],\"plot_height\":400,\"plot_width\":500,\"renderers\":[{\"id\":\"1039\",\"type\":\"GlyphRenderer\"}],\"title\":{\"id\":\"1003\",\"type\":\"Title\"},\"toolbar\":{\"id\":\"1029\",\"type\":\"Toolbar\"},\"x_range\":{\"id\":\"1005\",\"type\":\"DataRange1d\"},\"x_scale\":{\"id\":\"1009\",\"type\":\"LinearScale\"},\"y_range\":{\"id\":\"1007\",\"type\":\"DataRange1d\"},\"y_scale\":{\"id\":\"1011\",\"type\":\"LinearScale\"}},\"id\":\"1002\",\"subtype\":\"Figure\",\"type\":\"Plot\"},{\"attributes\":{},\"id\":\"1027\",\"type\":\"ResetTool\"},{\"attributes\":{\"dimension\":1,\"ticker\":{\"id\":\"1019\",\"type\":\"BasicTicker\"}},\"id\":\"1022\",\"type\":\"Grid\"},{\"attributes\":{},\"id\":\"1009\",\"type\":\"LinearScale\"},{\"attributes\":{},\"id\":\"1026\",\"type\":\"SaveTool\"},{\"attributes\":{},\"id\":\"1024\",\"type\":\"WheelZoomTool\"},{\"attributes\":{\"overlay\":{\"id\":\"1048\",\"type\":\"BoxAnnotation\"}},\"id\":\"1025\",\"type\":\"BoxZoomTool\"},{\"attributes\":{},\"id\":\"1014\",\"type\":\"BasicTicker\"},{\"attributes\":{},\"id\":\"1047\",\"type\":\"Selection\"},{\"attributes\":{\"formatter\":{\"id\":\"1045\",\"type\":\"BasicTickFormatter\"},\"ticker\":{\"id\":\"1014\",\"type\":\"BasicTicker\"}},\"id\":\"1013\",\"type\":\"LinearAxis\"},{\"attributes\":{},\"id\":\"1011\",\"type\":\"LinearScale\"},{\"attributes\":{\"fill_color\":{\"field\":\"fill_color\"},\"line_color\":{\"field\":\"line_color\"},\"x\":{\"field\":\"x\"},\"y\":{\"field\":\"y\"}},\"id\":\"1037\",\"type\":\"Scatter\"},{\"attributes\":{\"text\":\"t-SNE Clustering of 8 LDA Topics\"},\"id\":\"1003\",\"type\":\"Title\"},{\"attributes\":{},\"id\":\"1023\",\"type\":\"PanTool\"},{\"attributes\":{},\"id\":\"1019\",\"type\":\"BasicTicker\"},{\"attributes\":{\"source\":{\"id\":\"1036\",\"type\":\"ColumnDataSource\"}},\"id\":\"1040\",\"type\":\"CDSView\"},{\"attributes\":{\"active_drag\":\"auto\",\"active_inspect\":\"auto\",\"active_multi\":null,\"active_scroll\":\"auto\",\"active_tap\":\"auto\",\"tools\":[{\"id\":\"1023\",\"type\":\"PanTool\"},{\"id\":\"1024\",\"type\":\"WheelZoomTool\"},{\"id\":\"1025\",\"type\":\"BoxZoomTool\"},{\"id\":\"1026\",\"type\":\"SaveTool\"},{\"id\":\"1027\",\"type\":\"ResetTool\"},{\"id\":\"1028\",\"type\":\"HelpTool\"}]},\"id\":\"1029\",\"type\":\"Toolbar\"},{\"attributes\":{},\"id\":\"1045\",\"type\":\"BasicTickFormatter\"},{\"attributes\":{\"formatter\":{\"id\":\"1043\",\"type\":\"BasicTickFormatter\"},\"ticker\":{\"id\":\"1019\",\"type\":\"BasicTicker\"}},\"id\":\"1018\",\"type\":\"LinearAxis\"},{\"attributes\":{},\"id\":\"1043\",\"type\":\"BasicTickFormatter\"},{\"attributes\":{},\"id\":\"1028\",\"type\":\"HelpTool\"},{\"attributes\":{\"bottom_units\":\"screen\",\"fill_alpha\":{\"value\":0.5},\"fill_color\":{\"value\":\"lightgrey\"},\"left_units\":\"screen\",\"level\":\"overlay\",\"line_alpha\":{\"value\":1.0},\"line_color\":{\"value\":\"black\"},\"line_dash\":[4,4],\"line_width\":{\"value\":2},\"render_mode\":\"css\",\"right_units\":\"screen\",\"top_units\":\"screen\"},\"id\":\"1048\",\"type\":\"BoxAnnotation\"},{\"attributes\":{\"data_source\":{\"id\":\"1036\",\"type\":\"ColumnDataSource\"},\"glyph\":{\"id\":\"1037\",\"type\":\"Scatter\"},\"hover_glyph\":null,\"muted_glyph\":null,\"nonselection_glyph\":{\"id\":\"1038\",\"type\":\"Scatter\"},\"selection_glyph\":null,\"view\":{\"id\":\"1040\",\"type\":\"CDSView\"}},\"id\":\"1039\",\"type\":\"GlyphRenderer\"},{\"attributes\":{\"ticker\":{\"id\":\"1014\",\"type\":\"BasicTicker\"}},\"id\":\"1017\",\"type\":\"Grid\"},{\"attributes\":{},\"id\":\"1046\",\"type\":\"UnionRenderers\"},{\"attributes\":{\"callback\":null},\"id\":\"1005\",\"type\":\"DataRange1d\"},{\"attributes\":{\"fill_alpha\":{\"value\":0.1},\"fill_color\":{\"value\":\"#1f77b4\"},\"line_alpha\":{\"value\":0.1},\"line_color\":{\"value\":\"#1f77b4\"},\"x\":{\"field\":\"x\"},\"y\":{\"field\":\"y\"}},\"id\":\"1038\",\"type\":\"Scatter\"},{\"attributes\":{\"callback\":null},\"id\":\"1007\",\"type\":\"DataRange1d\"},{\"attributes\":{\"callback\":null,\"data\":{\"fill_color\":[\"#1f77b4\",\"#1f77b4\",\"#1f77b4\",\"#1f77b4\",\"#1f77b4\",\"#1f77b4\",\"#1f77b4\",\"#1f77b4\",\"#1f77b4\",\"#1f77b4\",\"#ff7f0e\",\"#1f77b4\",\"#2ca02c\",\"#ff7f0e\",\"#1f77b4\",\"#2ca02c\",\"#1f77b4\",\"#1f77b4\",\"#1f77b4\",\"#1f77b4\",\"#1f77b4\",\"#1f77b4\",\"#1f77b4\",\"#1f77b4\",\"#1f77b4\",\"#1f77b4\",\"#1f77b4\",\"#1f77b4\",\"#1f77b4\",\"#1f77b4\",\"#1f77b4\",\"#1f77b4\",\"#1f77b4\",\"#1f77b4\",\"#1f77b4\",\"#1f77b4\",\"#1f77b4\",\"#d62728\",\"#1f77b4\",\"#1f77b4\",\"#1f77b4\",\"#2ca02c\",\"#2ca02c\",\"#1f77b4\",\"#2ca02c\",\"#ff7f0e\",\"#8c564b\",\"#2ca02c\",\"#2ca02c\",\"#1f77b4\",\"#2ca02c\",\"#2ca02c\",\"#9467bd\",\"#d62728\",\"#9467bd\",\"#2ca02c\",\"#d62728\",\"#7f7f7f\",\"#9467bd\",\"#e377c2\",\"#d62728\",\"#2ca02c\",\"#2ca02c\",\"#d62728\",\"#d62728\",\"#2ca02c\",\"#d62728\",\"#d62728\",\"#d62728\",\"#2ca02c\",\"#d62728\",\"#d62728\",\"#d62728\",\"#1f77b4\",\"#9467bd\",\"#2ca02c\",\"#8c564b\",\"#9467bd\",\"#2ca02c\",\"#d62728\",\"#d62728\",\"#d62728\",\"#d62728\",\"#2ca02c\",\"#d62728\",\"#d62728\",\"#9467bd\",\"#2ca02c\",\"#d62728\",\"#2ca02c\",\"#2ca02c\",\"#2ca02c\",\"#2ca02c\",\"#1f77b4\",\"#2ca02c\",\"#1f77b4\",\"#1f77b4\",\"#1f77b4\",\"#8c564b\",\"#1f77b4\",\"#1f77b4\",\"#8c564b\",\"#ff7f0e\",\"#8c564b\",\"#9467bd\",\"#1f77b4\",\"#1f77b4\",\"#1f77b4\",\"#2ca02c\",\"#1f77b4\",\"#1f77b4\",\"#1f77b4\",\"#1f77b4\",\"#1f77b4\",\"#ff7f0e\",\"#1f77b4\",\"#d62728\",\"#d62728\",\"#ff7f0e\",\"#1f77b4\",\"#1f77b4\",\"#ff7f0e\",\"#1f77b4\",\"#9467bd\",\"#8c564b\",\"#d62728\",\"#9467bd\",\"#2ca02c\",\"#ff7f0e\",\"#ff7f0e\",\"#ff7f0e\",\"#8c564b\",\"#d62728\",\"#d62728\",\"#d62728\",\"#2ca02c\",\"#2ca02c\",\"#2ca02c\",\"#9467bd\",\"#9467bd\",\"#2ca02c\",\"#2ca02c\",\"#2ca02c\",\"#2ca02c\",\"#2ca02c\",\"#ff7f0e\",\"#d62728\",\"#2ca02c\",\"#2ca02c\",\"#8c564b\",\"#8c564b\",\"#8c564b\",\"#1f77b4\",\"#8c564b\",\"#d62728\",\"#1f77b4\",\"#7f7f7f\",\"#2ca02c\",\"#1f77b4\",\"#2ca02c\",\"#2ca02c\",\"#9467bd\",\"#d62728\",\"#2ca02c\",\"#9467bd\",\"#9467bd\",\"#8c564b\",\"#9467bd\",\"#8c564b\",\"#ff7f0e\",\"#9467bd\",\"#9467bd\",\"#8c564b\",\"#9467bd\",\"#8c564b\",\"#ff7f0e\",\"#7f7f7f\",\"#2ca02c\",\"#2ca02c\",\"#d62728\",\"#2ca02c\",\"#2ca02c\",\"#2ca02c\",\"#2ca02c\",\"#2ca02c\",\"#2ca02c\",\"#1f77b4\",\"#ff7f0e\",\"#8c564b\",\"#9467bd\",\"#9467bd\",\"#d62728\",\"#d62728\",\"#1f77b4\",\"#1f77b4\",\"#8c564b\",\"#e377c2\",\"#2ca02c\",\"#8c564b\",\"#ff7f0e\",\"#ff7f0e\",\"#1f77b4\",\"#ff7f0e\",\"#1f77b4\",\"#e377c2\",\"#d62728\",\"#d62728\",\"#e377c2\",\"#9467bd\",\"#d62728\",\"#e377c2\",\"#d62728\",\"#e377c2\",\"#e377c2\",\"#ff7f0e\",\"#9467bd\",\"#8c564b\",\"#d62728\",\"#8c564b\",\"#e377c2\",\"#d62728\",\"#e377c2\",\"#d62728\",\"#e377c2\",\"#e377c2\",\"#d62728\",\"#9467bd\",\"#d62728\",\"#d62728\",\"#ff7f0e\",\"#ff7f0e\",\"#8c564b\",\"#d62728\",\"#9467bd\",\"#1f77b4\",\"#1f77b4\",\"#8c564b\",\"#8c564b\",\"#2ca02c\",\"#9467bd\",\"#2ca02c\",\"#9467bd\",\"#1f77b4\",\"#d62728\",\"#8c564b\",\"#2ca02c\",\"#d62728\",\"#ff7f0e\",\"#7f7f7f\",\"#ff7f0e\",\"#ff7f0e\",\"#d62728\",\"#1f77b4\",\"#1f77b4\",\"#2ca02c\",\"#9467bd\",\"#9467bd\",\"#ff7f0e\",\"#ff7f0e\",\"#1f77b4\",\"#ff7f0e\",\"#e377c2\",\"#8c564b\",\"#2ca02c\",\"#d62728\"],\"line_color\":[\"#1f77b4\",\"#1f77b4\",\"#1f77b4\",\"#1f77b4\",\"#1f77b4\",\"#1f77b4\",\"#1f77b4\",\"#1f77b4\",\"#1f77b4\",\"#1f77b4\",\"#ff7f0e\",\"#1f77b4\",\"#2ca02c\",\"#ff7f0e\",\"#1f77b4\",\"#2ca02c\",\"#1f77b4\",\"#1f77b4\",\"#1f77b4\",\"#1f77b4\",\"#1f77b4\",\"#1f77b4\",\"#1f77b4\",\"#1f77b4\",\"#1f77b4\",\"#1f77b4\",\"#1f77b4\",\"#1f77b4\",\"#1f77b4\",\"#1f77b4\",\"#1f77b4\",\"#1f77b4\",\"#1f77b4\",\"#1f77b4\",\"#1f77b4\",\"#1f77b4\",\"#1f77b4\",\"#d62728\",\"#1f77b4\",\"#1f77b4\",\"#1f77b4\",\"#2ca02c\",\"#2ca02c\",\"#1f77b4\",\"#2ca02c\",\"#ff7f0e\",\"#8c564b\",\"#2ca02c\",\"#2ca02c\",\"#1f77b4\",\"#2ca02c\",\"#2ca02c\",\"#9467bd\",\"#d62728\",\"#9467bd\",\"#2ca02c\",\"#d62728\",\"#7f7f7f\",\"#9467bd\",\"#e377c2\",\"#d62728\",\"#2ca02c\",\"#2ca02c\",\"#d62728\",\"#d62728\",\"#2ca02c\",\"#d62728\",\"#d62728\",\"#d62728\",\"#2ca02c\",\"#d62728\",\"#d62728\",\"#d62728\",\"#1f77b4\",\"#9467bd\",\"#2ca02c\",\"#8c564b\",\"#9467bd\",\"#2ca02c\",\"#d62728\",\"#d62728\",\"#d62728\",\"#d62728\",\"#2ca02c\",\"#d62728\",\"#d62728\",\"#9467bd\",\"#2ca02c\",\"#d62728\",\"#2ca02c\",\"#2ca02c\",\"#2ca02c\",\"#2ca02c\",\"#1f77b4\",\"#2ca02c\",\"#1f77b4\",\"#1f77b4\",\"#1f77b4\",\"#8c564b\",\"#1f77b4\",\"#1f77b4\",\"#8c564b\",\"#ff7f0e\",\"#8c564b\",\"#9467bd\",\"#1f77b4\",\"#1f77b4\",\"#1f77b4\",\"#2ca02c\",\"#1f77b4\",\"#1f77b4\",\"#1f77b4\",\"#1f77b4\",\"#1f77b4\",\"#ff7f0e\",\"#1f77b4\",\"#d62728\",\"#d62728\",\"#ff7f0e\",\"#1f77b4\",\"#1f77b4\",\"#ff7f0e\",\"#1f77b4\",\"#9467bd\",\"#8c564b\",\"#d62728\",\"#9467bd\",\"#2ca02c\",\"#ff7f0e\",\"#ff7f0e\",\"#ff7f0e\",\"#8c564b\",\"#d62728\",\"#d62728\",\"#d62728\",\"#2ca02c\",\"#2ca02c\",\"#2ca02c\",\"#9467bd\",\"#9467bd\",\"#2ca02c\",\"#2ca02c\",\"#2ca02c\",\"#2ca02c\",\"#2ca02c\",\"#ff7f0e\",\"#d62728\",\"#2ca02c\",\"#2ca02c\",\"#8c564b\",\"#8c564b\",\"#8c564b\",\"#1f77b4\",\"#8c564b\",\"#d62728\",\"#1f77b4\",\"#7f7f7f\",\"#2ca02c\",\"#1f77b4\",\"#2ca02c\",\"#2ca02c\",\"#9467bd\",\"#d62728\",\"#2ca02c\",\"#9467bd\",\"#9467bd\",\"#8c564b\",\"#9467bd\",\"#8c564b\",\"#ff7f0e\",\"#9467bd\",\"#9467bd\",\"#8c564b\",\"#9467bd\",\"#8c564b\",\"#ff7f0e\",\"#7f7f7f\",\"#2ca02c\",\"#2ca02c\",\"#d62728\",\"#2ca02c\",\"#2ca02c\",\"#2ca02c\",\"#2ca02c\",\"#2ca02c\",\"#2ca02c\",\"#1f77b4\",\"#ff7f0e\",\"#8c564b\",\"#9467bd\",\"#9467bd\",\"#d62728\",\"#d62728\",\"#1f77b4\",\"#1f77b4\",\"#8c564b\",\"#e377c2\",\"#2ca02c\",\"#8c564b\",\"#ff7f0e\",\"#ff7f0e\",\"#1f77b4\",\"#ff7f0e\",\"#1f77b4\",\"#e377c2\",\"#d62728\",\"#d62728\",\"#e377c2\",\"#9467bd\",\"#d62728\",\"#e377c2\",\"#d62728\",\"#e377c2\",\"#e377c2\",\"#ff7f0e\",\"#9467bd\",\"#8c564b\",\"#d62728\",\"#8c564b\",\"#e377c2\",\"#d62728\",\"#e377c2\",\"#d62728\",\"#e377c2\",\"#e377c2\",\"#d62728\",\"#9467bd\",\"#d62728\",\"#d62728\",\"#ff7f0e\",\"#ff7f0e\",\"#8c564b\",\"#d62728\",\"#9467bd\",\"#1f77b4\",\"#1f77b4\",\"#8c564b\",\"#8c564b\",\"#2ca02c\",\"#9467bd\",\"#2ca02c\",\"#9467bd\",\"#1f77b4\",\"#d62728\",\"#8c564b\",\"#2ca02c\",\"#d62728\",\"#ff7f0e\",\"#7f7f7f\",\"#ff7f0e\",\"#ff7f0e\",\"#d62728\",\"#1f77b4\",\"#1f77b4\",\"#2ca02c\",\"#9467bd\",\"#9467bd\",\"#ff7f0e\",\"#ff7f0e\",\"#1f77b4\",\"#ff7f0e\",\"#e377c2\",\"#8c564b\",\"#2ca02c\",\"#d62728\"],\"x\":{\"__ndarray__\":\"AeFfQK1evL9o8YJAAV83wI6ihEA6h5DAD54GwEm9hz/4QdU/uHFjP7/fg8ABQpk/G/rAwH5NX8CiSoJAXJ/FwEHpCECUn5dAE4iMQPTb0D/1FN++BpWVv8XVtj9iRY5A8VpOQM3YC8C3flpAdyfrv548i0DQgn1A9CF0v+XdaUBDtZFAJ2eIQOBzd0BN8BHA8uFDvltSLEChdRHAfpeaQIAVXkDpBgDBASwEwdtSEUB5K9zAr0b/wABwEMFNZ/PArmXzwImbtMAdZe/ANh0mwEHphcGNPG5AZtqCwRwm4cBN+mJAH0RZwYgJdsHldDfB16t1QGsey8Ds/L7ANuYkQJ3bZECgwm3AfHBrQEvDbEAUnkxAuqjSwLse3z91sus/0d5BQJOx4z/KsFbBRJ3PwOEX4cBZzYHB5rkHwYNpaz/krcg/NMQEQNTf1D8GbPPA+QUjQI5ktT98zX/BcM7owM76+z8ALwTBPy8+wNDU2sB5UO3Ans7wP1tOxcDNqgNA3kSUwCT9vL9zGNHAN7/2P8SoQMB5VefAwUq9wHSEDcF+UIHB5WEMQDUKG0AxEUxAgL/XwGCAVUD/YDPAwwYrQHZWxj+yfB5ApIXLwCU0ZD82NG4/JsVrQFMhscDSpwJAWVOJPzbeocCXgGg/76towa9o8MA+vos//+dcwdn778AXgn3AiPbGwA8Ot8CHDwPBxUIMQILbrz+2JQa9dlUBwVk6J8EPICDAAmV6wbEnacEJzgHB6RIAwZCMLsHlMPzAHKYPwaJB4cCYfW2+2fYGwUTEFMFaeuvA6xwOwYugCsHrplnArL75wPYCDj/U8qm/wf9Zwc//B8EnF4S/4Q0JwZBH88A2WXTBNQSXvtkP9cBYYYbB1E16wRaY+cCHKXfBXbf4wG3F3sCHhoPBB296wU1QA8E/73LBop33wNfB5MCxN1nBZ/sNwZdp+cDE6j8/aGFmwJDTDMEY7CjBHSoZwWN+BsHpwwPBDfZkQN3egsByzs/AGgNgweydXsF2tAlAUiYaQI6+W75e+Ke/7m/SwMRJLsHy7dTAxjTXwHkD0sBss7nAkC3kPzCq1sAPpipAG3YgwbHLyb+M8WxA8rY2wQZYacFaPRNACncwwZHTIkAo0ijBOBI0wX9gDMGJyoLBVRnTwA+4WUC9VgjB8bY2wUDiGkDN3zfBWTPeP3KWMcHBZy/BNrBXQEKhd8HyCmpACBsKQPUVoMA8rs3AtDsRwYxnmD+RZGXBE273P+kGtcBMzt3AYbLwwLKqEMEODF3BMJGewCHOcMEayhBATFEYQMVMAMG7tjjAQgKPvuLowMC3rljBmUnKwLAVsMDb+HZALtixP0WqjT9WdtHAQndqwVcGbsH8g9TAfdnRwFxITD/nMsPAMLU1wWNJBME91wjBVxQUQA==\",\"dtype\":\"float32\",\"shape\":[265]},\"y\":{\"__ndarray__\":\"02jewKg548AMhubAA435wPRhx8DSvYu/cmHxwNAW2b9QfR8/BsJTwOSaBcHhahe/5zT0QLs8AcEvXePAhk8BQVKA08BeBcrADebfwOZNzcBbBtTAftvhwF0NpsA9s73ALfPJwC3o78A/9cbAb3fswJOn3sCnBM3AtQFzwP3K4MD60NDASAO/wHO3ucC7+fPAHdSPv5umYkDS3vTAherWwP7N28BQ40dBcn5AQaHLbsALlsNAMOYQwSJIu76M7ERBQOxEQaFPykCxFTJBBsQEQbB81kCcltxAMC+0QG2VKEFvWQVB1qXHvgrSn0Di7qHAuxn1QGHo/0DI4eJApxaIQHro0kCrr/5Al/LJQFVq6kCB2utAApECQZlBKkDxjftAAeECQUrQzj9O+LRAIh79QNZ37T8NkbBA1UUtQdJsqkBjudJAbwnjQIk6y0C77URBRWX3QGdVw0D7lNhAaV7oQAuvBEF/QEBBiMsCQdkE60DdUjlB2eXmP4maAUEW6cvAw/WEv0mEe8CO4aE8kCOjP3bq/cBDQkk/zVQkwZKaAj55TKVALmLPwIcRZMCs0MrA0UoBQTcFqMDOz+LA4QCpwEHmiMBiWYjAFkcfwaTpF8BfcapAeMbBQAw0BMFWdbrAu9j/v/IeAcFXxj/AyGWaQNTUwD/8tgJBuF3NQEm8OkFA4ATBfsEIwelSIcHkXlxAnY/9QGwHvUAzOOZA+GEkQR9nBkF02fxAWaLgQHxDw0AKwUNBMP0XQSPiAEGr9TRB0ugJQSfr18Cl0IJAUCQYQcc2GUF6X8U/Dkvnvg2qnb1UT/zA4HsWv44/7ECqgUPADTCnvqRJ5kAzqTK/kfUcQaL7JkEIB9hA97RwQJ6O7UBMhtZARUKcQFZDbT9M2tRAz5LevmdyF8HuvNFAe8euQCpnKD9e+NlAkEXkvpYrFcHrN8y+AmIfQa0RI0Hi+wBBSov5QJlNBUH0rf9AQIoPQegoNkEQcg/Bnr++wHJYBMGSega/PouhQMpp2ECjXARBCqs/QHiVgMCxVYu/TK4Uvk9ld8DCbMZAc0qKPqPG/MC9avfAmTuHwK15+cBlQanAoQSGwJTK8kCFBgVBKC+gwCczukCL3wNBr1afwBKRv0AMYYvAa+eUwCmnycBZ6rZA+BeEP1RSs0AzjPS+Jy+gwKw6pUB656HAq/a1QFwhn8A1CZ/Aap/CQEUku0Dj+b1ASPDHQD8mBsH92hjBek+svi3nAEFO0LhAP7oUwOHdCb9KIsm99lzWPkkMIkFJlbBAwT8BQYpcuUAjTpfAydeOQEqR8T3gfARBsuiBQGlII8Hr/vC+K+rswNKGF8GKD/lAdDStwLuQTsB0xQ1BOufNQAF46EA9jhbB8twhwdJ007/RqRLB1iiZwPGluT5C6CZBNY+IQA==\",\"dtype\":\"float32\",\"shape\":[265]}},\"selected\":{\"id\":\"1047\",\"type\":\"Selection\"},\"selection_policy\":{\"id\":\"1046\",\"type\":\"UnionRenderers\"}},\"id\":\"1036\",\"type\":\"ColumnDataSource\"}],\"root_ids\":[\"1002\"]},\"title\":\"Bokeh Application\",\"version\":\"1.3.4\"}};\n",
       "  var render_items = [{\"docid\":\"4f11f3e9-c72f-4140-92be-12f1a1f01d6a\",\"roots\":{\"1002\":\"42be4ba6-d4c3-4757-b686-dda13113407b\"}}];\n",
       "  root.Bokeh.embed.embed_items_notebook(docs_json, render_items);\n",
       "\n",
       "  }\n",
       "  if (root.Bokeh !== undefined) {\n",
       "    embed_document(root);\n",
       "  } else {\n",
       "    var attempts = 0;\n",
       "    var timer = setInterval(function(root) {\n",
       "      if (root.Bokeh !== undefined) {\n",
       "        embed_document(root);\n",
       "        clearInterval(timer);\n",
       "      }\n",
       "      attempts++;\n",
       "      if (attempts > 100) {\n",
       "        console.log(\"Bokeh: ERROR: Unable to run BokehJS code because BokehJS library is missing\");\n",
       "        clearInterval(timer);\n",
       "      }\n",
       "    }, 10, root)\n",
       "  }\n",
       "})(window);"
      ],
      "application/vnd.bokehjs_exec.v0+json": ""
     },
     "metadata": {
      "application/vnd.bokehjs_exec.v0+json": {
       "id": "1002"
      }
     },
     "output_type": "display_data"
    }
   ],
   "source": [
    "# Get topic weights\n",
    "topic_weights = []\n",
    "for i, row_list in enumerate(lda_model[corpus]):\n",
    "    topic_weights.append([w for i, w in row_list[0]])\n",
    "\n",
    "# Array of topic weights    \n",
    "arr = pd.DataFrame(topic_weights).fillna(0).values\n",
    "\n",
    "# Keep the well separated points \n",
    "arr = arr[np.amax(arr, axis=1) > 0.35]\n",
    "\n",
    "# Dominant topic number in each doc\n",
    "topic_num = np.argmax(arr, axis=1)\n",
    "\n",
    "# tSNE Dimension Reduction\n",
    "tsne_model = TSNE(n_components=2, verbose=1, random_state=0, angle=.99, init='pca')\n",
    "tsne_lda = tsne_model.fit_transform(arr)\n",
    "\n",
    "# Plot the Topic Clusters using Bokeh\n",
    "output_notebook()\n",
    "n_topics = 8\n",
    "mycolors = np.array([color for name, color in mcolors.TABLEAU_COLORS.items()])\n",
    "plot = figure(title=\"t-SNE Clustering of {} LDA Topics\".format(n_topics), \n",
    "              plot_width=500, plot_height=400)\n",
    "plot.scatter(x=tsne_lda[:,0], y=tsne_lda[:,1], color=mycolors[topic_num])\n",
    "show(plot)"
   ]
  },
  {
   "cell_type": "code",
   "execution_count": null,
   "metadata": {},
   "outputs": [],
   "source": []
  }
 ],
 "metadata": {
  "kernelspec": {
   "display_name": "Python 3",
   "language": "python",
   "name": "python3"
  },
  "language_info": {
   "codemirror_mode": {
    "name": "ipython",
    "version": 3
   },
   "file_extension": ".py",
   "mimetype": "text/x-python",
   "name": "python",
   "nbconvert_exporter": "python",
   "pygments_lexer": "ipython3",
   "version": "3.7.6"
  }
 },
 "nbformat": 4,
 "nbformat_minor": 2
}
