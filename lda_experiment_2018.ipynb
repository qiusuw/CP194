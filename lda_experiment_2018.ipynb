{
 "cells": [
  {
   "cell_type": "markdown",
   "metadata": {},
   "source": [
    "This notebook uses LDA to extract topics from the curriculum texts and uses pyLDAvis for visualization.\n",
    "\n",
    "LDA considers each document as a collection of topics in a certain proportion. It rearranges the topics distribution within the documents and keywords distribution within the topics to obtain a good composition of topic-keywords distribution.\n"
   ]
  },
  {
   "cell_type": "markdown",
   "metadata": {},
   "source": [
    "### Import Libraries and Data"
   ]
  },
  {
   "cell_type": "code",
   "execution_count": 1,
   "metadata": {},
   "outputs": [],
   "source": [
    "import pandas as pd\n",
    "import numpy as np\n",
    "import spacy\n",
    "nlp = spacy.load('en_core_web_lg')\n",
    "\n",
    "import gensim\n",
    "import gensim.corpora as corpora\n",
    "from gensim.utils import simple_preprocess\n",
    "from gensim.models import CoherenceModel\n",
    "\n",
    "import pyLDAvis\n",
    "import pyLDAvis.gensim\n",
    "import matplotlib.pyplot as plt\n",
    "from pprint import pprint"
   ]
  },
  {
   "cell_type": "code",
   "execution_count": 6,
   "metadata": {},
   "outputs": [
    {
     "name": "stderr",
     "output_type": "stream",
     "text": [
      "/usr/local/lib/python3.7/site-packages/defusedxml/ElementTree.py:68: DeprecationWarning: The html argument of XMLParser() is deprecated\n",
      "  _XMLParser.__init__(self, html, target, encoding)\n",
      "/usr/local/lib/python3.7/site-packages/defusedxml/ElementTree.py:68: DeprecationWarning: The html argument of XMLParser() is deprecated\n",
      "  _XMLParser.__init__(self, html, target, encoding)\n",
      "/usr/local/lib/python3.7/site-packages/defusedxml/ElementTree.py:68: DeprecationWarning: The html argument of XMLParser() is deprecated\n",
      "  _XMLParser.__init__(self, html, target, encoding)\n",
      "/usr/local/lib/python3.7/site-packages/defusedxml/ElementTree.py:68: DeprecationWarning: The html argument of XMLParser() is deprecated\n",
      "  _XMLParser.__init__(self, html, target, encoding)\n",
      "/usr/local/lib/python3.7/site-packages/defusedxml/ElementTree.py:68: DeprecationWarning: The html argument of XMLParser() is deprecated\n",
      "  _XMLParser.__init__(self, html, target, encoding)\n",
      "/usr/local/lib/python3.7/site-packages/defusedxml/ElementTree.py:68: DeprecationWarning: The html argument of XMLParser() is deprecated\n",
      "  _XMLParser.__init__(self, html, target, encoding)\n"
     ]
    }
   ],
   "source": [
    "df = pd.read_excel('ac_curriculum_2018.xlsx', index_col=0)"
   ]
  },
  {
   "cell_type": "code",
   "execution_count": 7,
   "metadata": {},
   "outputs": [],
   "source": [
    "df['text'] = df['text'].astype(str)\n",
    "df['text_parsed'] = list(nlp.pipe(df['text']))"
   ]
  },
  {
   "cell_type": "code",
   "execution_count": 8,
   "metadata": {},
   "outputs": [],
   "source": [
    "# remove stopwords and punctuations\n",
    "df['tokenized'] = df['text_parsed'].apply(lambda doc: [str(t) for t in doc if not t.is_punct and not t.is_stop])"
   ]
  },
  {
   "cell_type": "code",
   "execution_count": 9,
   "metadata": {},
   "outputs": [],
   "source": [
    "# with nouns\n",
    "df['text_nouns'] = df['text_parsed'].apply(lambda doc: [str(t) for t in doc if t.pos_ in ['NOUN', 'PROPN']])"
   ]
  },
  {
   "cell_type": "code",
   "execution_count": 10,
   "metadata": {},
   "outputs": [],
   "source": [
    "data_words = list(df['tokenized'])"
   ]
  },
  {
   "cell_type": "code",
   "execution_count": 11,
   "metadata": {},
   "outputs": [],
   "source": [
    "data_nouns = list(df['text_nouns'])"
   ]
  },
  {
   "cell_type": "markdown",
   "metadata": {},
   "source": [
    "### Create bigrams and trigram models"
   ]
  },
  {
   "cell_type": "code",
   "execution_count": 13,
   "metadata": {},
   "outputs": [],
   "source": [
    "# Build the bigram and trigram models\n",
    "bigram = gensim.models.Phrases(df['tokenized'], min_count=5, threshold=50) # higher threshold fewer phrases.\n",
    "trigram = gensim.models.Phrases(bigram[df['tokenized']], threshold=50)  \n",
    "\n",
    "# Faster way to get a sentence clubbed as a trigram/bigram\n",
    "bigram_mod = gensim.models.phrases.Phraser(bigram)\n",
    "trigram_mod = gensim.models.phrases.Phraser(trigram)\n",
    "\n",
    "# See trigram example\n",
    "#print(trigram_mod[bigram_mod[df['tokenized'][0]]])"
   ]
  },
  {
   "cell_type": "markdown",
   "metadata": {},
   "source": [
    "### Remove Stopwords, Make Bigrams and Lemmatize"
   ]
  },
  {
   "cell_type": "code",
   "execution_count": 14,
   "metadata": {},
   "outputs": [],
   "source": [
    "# Define functions for stopwords, bigrams, trigrams and lemmatization\n",
    "\n",
    "def make_bigrams(texts):\n",
    "    return [bigram_mod[doc] for doc in texts]\n",
    "\n",
    "def make_trigrams(texts):\n",
    "    return [trigram_mod[bigram_mod[doc]] for doc in texts]\n",
    "\n",
    "def lemmatization(texts, allowed_postags=['NOUN', 'ADJ', 'VERB', 'ADV']):\n",
    "    texts_out = []\n",
    "    for sent in texts:\n",
    "        doc = nlp(\" \".join(sent)) \n",
    "        texts_out.append([token.lemma_ for token in doc if token.pos_ in allowed_postags])\n",
    "    return texts_out"
   ]
  },
  {
   "cell_type": "code",
   "execution_count": 15,
   "metadata": {},
   "outputs": [
    {
     "name": "stdout",
     "output_type": "stream",
     "text": [
      "[['year', 'student', 'peers_teacher', 'adult', 'student', 'class', 'student', 'variety', 'text', 'enjoyment', 'text', 'purpose', 'text', 'text', 'picture', 'book', 'type', 'story', 'verse', 'poetry', 'film', 'text', 'performance', 'read', 'storytelling', 'range', 'text', 'nature', 'literature', 'student', 'range', 'text', 'representation', 'statement', 'performance', 'recount', 'poetry']]\n"
     ]
    }
   ],
   "source": [
    "# Form Bigrams\n",
    "data_nouns_bigrams = make_bigrams(data_nouns)\n",
    "nlp = spacy.load('en_core_web_lg', disable=['parser', 'ner'])\n",
    "\n",
    "# Do lemmatization keeping only noun, adj, vb, adv\n",
    "data_lemmatized = lemmatization(data_nouns_bigrams, allowed_postags=['NOUN', 'ADJ', 'VERB', 'ADV'])\n",
    "\n",
    "print(data_lemmatized[:1])"
   ]
  },
  {
   "cell_type": "markdown",
   "metadata": {},
   "source": [
    "### Create the Dictionary and Corpus needed for Topic Modeling\n",
    "\n",
    "Gensim creates a unique id for each word in the document. The produced corpus shown above is a mapping of (word_id, word_frequency)."
   ]
  },
  {
   "cell_type": "code",
   "execution_count": 16,
   "metadata": {},
   "outputs": [
    {
     "name": "stdout",
     "output_type": "stream",
     "text": [
      "[[(0, 1), (1, 1), (2, 1), (3, 1), (4, 1), (5, 1), (6, 1), (7, 1), (8, 2), (9, 1), (10, 2), (11, 1), (12, 2), (13, 1), (14, 1), (15, 1), (16, 1), (17, 1), (18, 1), (19, 4), (20, 7), (21, 1), (22, 1), (23, 1), (24, 1)]]\n"
     ]
    }
   ],
   "source": [
    "# The two main inputs to the LDA topic model are the dictionary(id2word) and the corpus.\n",
    "# Create Dictionary\n",
    "id2word = corpora.Dictionary(data_lemmatized)\n",
    "\n",
    "# Create Corpus\n",
    "texts = data_lemmatized\n",
    "\n",
    "# Term Document Frequency\n",
    "corpus = [id2word.doc2bow(text) for text in texts]\n",
    "\n",
    "# View\n",
    "print(corpus[:1])"
   ]
  },
  {
   "cell_type": "code",
   "execution_count": 17,
   "metadata": {},
   "outputs": [
    {
     "data": {
      "text/plain": [
       "[[('adult', 1),\n",
       "  ('book', 1),\n",
       "  ('class', 1),\n",
       "  ('enjoyment', 1),\n",
       "  ('film', 1),\n",
       "  ('literature', 1),\n",
       "  ('nature', 1),\n",
       "  ('peers_teacher', 1),\n",
       "  ('performance', 2),\n",
       "  ('picture', 1),\n",
       "  ('poetry', 2),\n",
       "  ('purpose', 1),\n",
       "  ('range', 2),\n",
       "  ('read', 1),\n",
       "  ('recount', 1),\n",
       "  ('representation', 1),\n",
       "  ('statement', 1),\n",
       "  ('story', 1),\n",
       "  ('storytelling', 1),\n",
       "  ('student', 4),\n",
       "  ('text', 7),\n",
       "  ('type', 1),\n",
       "  ('variety', 1),\n",
       "  ('verse', 1),\n",
       "  ('year', 1)]]"
      ]
     },
     "execution_count": 17,
     "metadata": {},
     "output_type": "execute_result"
    }
   ],
   "source": [
    "[[(id2word[id], freq) for id, freq in cp] for cp in corpus[:1]]"
   ]
  },
  {
   "cell_type": "markdown",
   "metadata": {},
   "source": [
    "### Building the Topic Model\n",
    "\n",
    "alpha affects sparsity of the topics. According to the Gensim docs, defaults to 1.0/num_topics prior.\n",
    "\n",
    "chunksize is the number of documents to be used in each training chunk. \n",
    "update_every determines how often the model parameters should be updated and passes is the total number of training passes."
   ]
  },
  {
   "cell_type": "code",
   "execution_count": 41,
   "metadata": {},
   "outputs": [],
   "source": [
    "# Build LDA model\n",
    "lda_model = gensim.models.ldamodel.LdaModel(corpus=corpus,\n",
    "                                           id2word=id2word,\n",
    "                                           num_topics=8, \n",
    "                                           random_state=50,\n",
    "                                           update_every=1,\n",
    "                                           chunksize=500,\n",
    "                                           passes=10,\n",
    "                                           alpha='asymmetric',\n",
    "                                           per_word_topics=True,\n",
    "                                           )"
   ]
  },
  {
   "cell_type": "code",
   "execution_count": 42,
   "metadata": {},
   "outputs": [
    {
     "name": "stdout",
     "output_type": "stream",
     "text": [
      "[(0,\n",
      "  '0.105*\"text\" + 0.052*\"student\" + 0.048*\"range\" + 0.027*\"type\" + '\n",
      "  '0.026*\"year\" + 0.020*\"information\" + 0.020*\"performance\" + 0.019*\"medium\" + '\n",
      "  '0.017*\"face\" + 0.016*\"variety\"'),\n",
      " (1,\n",
      "  '0.059*\"science\" + 0.058*\"strand\" + 0.044*\"content\" + 0.038*\"student\" + '\n",
      "  '0.034*\"year\" + 0.032*\"system\" + 0.026*\"understand\" + 0.024*\"pattern\" + '\n",
      "  '0.022*\"observation\" + 0.019*\"curriculum\"'),\n",
      " (2,\n",
      "  '0.083*\"activity\" + 0.080*\"movement\" + 0.064*\"student\" + 0.050*\"skill\" + '\n",
      "  '0.034*\"health\" + 0.025*\"content\" + 0.022*\"knowledge\" + 0.022*\"safety\" + '\n",
      "  '0.022*\"curriculum\" + 0.021*\"relationship\"'),\n",
      " (3,\n",
      "  '0.074*\"content\" + 0.044*\"problem\" + 0.038*\"proficiency\" + 0.029*\"number\" + '\n",
      "  '0.026*\"mathematic\" + 0.024*\"understanding\" + 0.023*\"fluency\" + '\n",
      "  '0.023*\"strand\" + 0.019*\"learn\" + 0.018*\"fractions_decimal\"'),\n",
      " (4,\n",
      "  '0.060*\"content\" + 0.042*\"number\" + 0.038*\"proficiency\" + 0.029*\"problem\" + '\n",
      "  '0.026*\"fluency\" + 0.026*\"mathematic\" + 0.024*\"reason\" + 0.021*\"language\" + '\n",
      "  '0.019*\"understanding\" + 0.019*\"situation\"'),\n",
      " (5,\n",
      "  '0.136*\"text\" + 0.071*\"student\" + 0.028*\"poetry\" + 0.028*\"range\" + '\n",
      "  '0.026*\"performance\" + 0.023*\"book\" + 0.023*\"variety\" + 0.020*\"year\" + '\n",
      "  '0.020*\"type\" + 0.017*\"word\"'),\n",
      " (6,\n",
      "  '0.058*\"system\" + 0.043*\"science\" + 0.040*\"strand\" + 0.033*\"year\" + '\n",
      "  '0.030*\"content\" + 0.028*\"student\" + 0.028*\"change\" + 0.028*\"energy\" + '\n",
      "  '0.023*\"understand\" + 0.023*\"matter\"'),\n",
      " (7,\n",
      "  '0.036*\"equation\" + 0.018*\"range\" + 0.013*\"application\" + 0.013*\"technique\" '\n",
      "  '+ 0.013*\"inequalities\" + 0.013*\"two-\" + 0.013*\"solution\" + '\n",
      "  '0.013*\"congruence\" + 0.013*\"compound\" + 0.013*\"independence\"')]\n"
     ]
    }
   ],
   "source": [
    "# Print the Keyword in the 10 topics\n",
    "pprint(lda_model.print_topics())\n",
    "doc_lda = lda_model[corpus]"
   ]
  },
  {
   "cell_type": "markdown",
   "metadata": {},
   "source": [
    "### Compute Model Perplexity and Coherence Score\n",
    "\n",
    "Perplexity metric measures how probable some new unseen data is given the model that was learned earlier. That is to say, how well does the model represent or reproduce the statistics of the held-out data.\n",
    "\n",
    "Topic Coherence measures score a single topic by measuring the degree of semantic similarity between high scoring words in the topic."
   ]
  },
  {
   "cell_type": "code",
   "execution_count": 43,
   "metadata": {},
   "outputs": [
    {
     "name": "stdout",
     "output_type": "stream",
     "text": [
      "\n",
      "Perplexity:  -5.110172832622449\n",
      "\n",
      "Coherence Score:  0.8708681658855433\n"
     ]
    }
   ],
   "source": [
    "# Perplexity\n",
    "print('\\nPerplexity: ', lda_model.log_perplexity(corpus))  \n",
    "\n",
    "# Coherence Score\n",
    "coherence_model_lda = CoherenceModel(model=lda_model, texts=data_lemmatized, dictionary=id2word, coherence='c_v')\n",
    "coherence_lda = coherence_model_lda.get_coherence()\n",
    "print('\\nCoherence Score: ', coherence_lda)"
   ]
  },
  {
   "cell_type": "markdown",
   "metadata": {},
   "source": [
    "### Visualize the topics-keywords\n",
    "Examine the produced topics and the associated keywords. \n",
    "\n",
    "Each bubble represents a topic. The larger the bubble, the more prevalent is that topic. A good topic model will have fairly big, non-overlapping bubbles scattered throughout the chart instead of being clustered in one quadrant."
   ]
  },
  {
   "cell_type": "code",
   "execution_count": 44,
   "metadata": {},
   "outputs": [
    {
     "name": "stderr",
     "output_type": "stream",
     "text": [
      "/usr/local/lib/python3.7/site-packages/pyLDAvis/_prepare.py:257: FutureWarning: Sorting because non-concatenation axis is not aligned. A future version\n",
      "of pandas will change to not sort by default.\n",
      "\n",
      "To accept the future behavior, pass 'sort=False'.\n",
      "\n",
      "To retain the current behavior and silence the warning, pass 'sort=True'.\n",
      "\n",
      "  return pd.concat([default_term_info] + list(topic_dfs))\n"
     ]
    },
    {
     "data": {
      "text/html": [
       "\n",
       "<link rel=\"stylesheet\" type=\"text/css\" href=\"https://cdn.rawgit.com/bmabey/pyLDAvis/files/ldavis.v1.0.0.css\">\n",
       "\n",
       "\n",
       "<div id=\"ldavis_el8279768819221287103309169\"></div>\n",
       "<script type=\"text/javascript\">\n",
       "\n",
       "var ldavis_el8279768819221287103309169_data = {\"mdsDat\": {\"x\": [-0.25392396350276364, 0.06618358199831034, 0.19614948622295963, -0.0320889010855767, 0.030193818765866, -0.21939839698101243, 0.2003448636190988, 0.012539510963118025], \"y\": [0.05142879835726603, -0.2216008210221036, 0.1221021824146468, -0.005738790915501951, -0.2179896083090467, 0.08948742379785464, 0.1465355261762336, 0.03577528950065138], \"topics\": [1, 2, 3, 4, 5, 6, 7, 8], \"cluster\": [1, 1, 1, 1, 1, 1, 1, 1], \"Freq\": [21.268321990966797, 15.682662963867188, 15.2073974609375, 14.411650657653809, 11.939600944519043, 10.240903854370117, 10.23254108428955, 1.0169243812561035]}, \"tinfo\": {\"Category\": [\"Default\", \"Default\", \"Default\", \"Default\", \"Default\", \"Default\", \"Default\", \"Default\", \"Default\", \"Default\", \"Default\", \"Default\", \"Default\", \"Default\", \"Default\", \"Default\", \"Default\", \"Default\", \"Default\", \"Default\", \"Default\", \"Default\", \"Default\", \"Default\", \"Default\", \"Default\", \"Default\", \"Default\", \"Default\", \"Default\", \"Topic1\", \"Topic1\", \"Topic1\", \"Topic1\", \"Topic1\", \"Topic1\", \"Topic1\", \"Topic1\", \"Topic1\", \"Topic1\", \"Topic1\", \"Topic1\", \"Topic1\", \"Topic1\", \"Topic1\", \"Topic1\", \"Topic1\", \"Topic1\", \"Topic1\", \"Topic1\", \"Topic1\", \"Topic1\", \"Topic1\", \"Topic1\", \"Topic1\", \"Topic1\", \"Topic1\", \"Topic1\", \"Topic1\", \"Topic1\", \"Topic1\", \"Topic1\", \"Topic1\", \"Topic1\", \"Topic1\", \"Topic1\", \"Topic1\", \"Topic1\", \"Topic1\", \"Topic1\", \"Topic1\", \"Topic1\", \"Topic1\", \"Topic1\", \"Topic1\", \"Topic1\", \"Topic1\", \"Topic1\", \"Topic1\", \"Topic1\", \"Topic1\", \"Topic1\", \"Topic1\", \"Topic1\", \"Topic1\", \"Topic1\", \"Topic2\", \"Topic2\", \"Topic2\", \"Topic2\", \"Topic2\", \"Topic2\", \"Topic2\", \"Topic2\", \"Topic2\", \"Topic2\", \"Topic2\", \"Topic2\", \"Topic2\", \"Topic2\", \"Topic2\", \"Topic2\", \"Topic2\", \"Topic2\", \"Topic2\", \"Topic2\", \"Topic2\", \"Topic2\", \"Topic2\", \"Topic2\", \"Topic2\", \"Topic2\", \"Topic2\", \"Topic2\", \"Topic2\", \"Topic2\", \"Topic2\", \"Topic2\", \"Topic2\", \"Topic2\", \"Topic2\", \"Topic2\", \"Topic2\", \"Topic2\", \"Topic2\", \"Topic2\", \"Topic2\", \"Topic2\", \"Topic2\", \"Topic2\", \"Topic2\", \"Topic2\", \"Topic2\", \"Topic2\", \"Topic2\", \"Topic2\", \"Topic2\", \"Topic2\", \"Topic2\", \"Topic3\", \"Topic3\", \"Topic3\", \"Topic3\", \"Topic3\", \"Topic3\", \"Topic3\", \"Topic3\", \"Topic3\", \"Topic3\", \"Topic3\", \"Topic3\", \"Topic3\", \"Topic3\", \"Topic3\", \"Topic3\", \"Topic3\", \"Topic3\", \"Topic3\", \"Topic3\", \"Topic3\", \"Topic3\", \"Topic3\", \"Topic3\", \"Topic3\", \"Topic3\", \"Topic3\", \"Topic3\", \"Topic3\", \"Topic3\", \"Topic3\", \"Topic3\", \"Topic3\", \"Topic3\", \"Topic3\", \"Topic3\", \"Topic3\", \"Topic3\", \"Topic3\", \"Topic3\", \"Topic3\", \"Topic3\", \"Topic3\", \"Topic3\", \"Topic3\", \"Topic3\", \"Topic3\", \"Topic3\", \"Topic3\", \"Topic3\", \"Topic3\", \"Topic3\", \"Topic3\", \"Topic4\", \"Topic4\", \"Topic4\", \"Topic4\", \"Topic4\", \"Topic4\", \"Topic4\", \"Topic4\", \"Topic4\", \"Topic4\", \"Topic4\", \"Topic4\", \"Topic4\", \"Topic4\", \"Topic4\", \"Topic4\", \"Topic4\", \"Topic4\", \"Topic4\", \"Topic4\", \"Topic4\", \"Topic4\", \"Topic4\", \"Topic4\", \"Topic4\", \"Topic4\", \"Topic4\", \"Topic4\", \"Topic4\", \"Topic4\", \"Topic4\", \"Topic4\", \"Topic4\", \"Topic4\", \"Topic4\", \"Topic4\", \"Topic4\", \"Topic4\", \"Topic4\", \"Topic4\", \"Topic4\", \"Topic4\", \"Topic4\", \"Topic4\", \"Topic4\", \"Topic4\", \"Topic4\", \"Topic5\", \"Topic5\", \"Topic5\", \"Topic5\", \"Topic5\", \"Topic5\", \"Topic5\", \"Topic5\", \"Topic5\", \"Topic5\", \"Topic5\", \"Topic5\", \"Topic5\", \"Topic5\", \"Topic5\", \"Topic5\", \"Topic5\", \"Topic5\", \"Topic5\", \"Topic5\", \"Topic5\", \"Topic5\", \"Topic5\", \"Topic5\", \"Topic5\", \"Topic5\", \"Topic5\", \"Topic5\", \"Topic5\", \"Topic5\", \"Topic5\", \"Topic5\", \"Topic5\", \"Topic5\", \"Topic5\", \"Topic5\", \"Topic5\", \"Topic5\", \"Topic5\", \"Topic5\", \"Topic5\", \"Topic5\", \"Topic5\", \"Topic5\", \"Topic5\", \"Topic5\", \"Topic5\", \"Topic5\", \"Topic5\", \"Topic5\", \"Topic5\", \"Topic5\", \"Topic5\", \"Topic5\", \"Topic5\", \"Topic5\", \"Topic5\", \"Topic5\", \"Topic5\", \"Topic5\", \"Topic5\", \"Topic5\", \"Topic5\", \"Topic5\", \"Topic6\", \"Topic6\", \"Topic6\", \"Topic6\", \"Topic6\", \"Topic6\", \"Topic6\", \"Topic6\", \"Topic6\", \"Topic6\", \"Topic6\", \"Topic6\", \"Topic6\", \"Topic6\", \"Topic6\", \"Topic6\", \"Topic6\", \"Topic6\", \"Topic6\", \"Topic6\", \"Topic6\", \"Topic6\", \"Topic6\", \"Topic6\", \"Topic6\", \"Topic6\", \"Topic6\", \"Topic6\", \"Topic6\", \"Topic6\", \"Topic6\", \"Topic6\", \"Topic6\", \"Topic6\", \"Topic6\", \"Topic6\", \"Topic6\", \"Topic6\", \"Topic6\", \"Topic6\", \"Topic6\", \"Topic6\", \"Topic6\", \"Topic6\", \"Topic6\", \"Topic7\", \"Topic7\", \"Topic7\", \"Topic7\", \"Topic7\", \"Topic7\", \"Topic7\", \"Topic7\", \"Topic7\", \"Topic7\", \"Topic7\", \"Topic7\", \"Topic7\", \"Topic7\", \"Topic7\", \"Topic7\", \"Topic7\", \"Topic7\", \"Topic7\", \"Topic7\", \"Topic7\", \"Topic7\", \"Topic7\", \"Topic7\", \"Topic7\", \"Topic7\", \"Topic7\", \"Topic7\", \"Topic7\", \"Topic7\", \"Topic7\", \"Topic7\", \"Topic7\", \"Topic7\", \"Topic7\", \"Topic7\", \"Topic7\", \"Topic7\", \"Topic7\", \"Topic7\", \"Topic7\", \"Topic7\", \"Topic7\", \"Topic7\", \"Topic7\", \"Topic7\", \"Topic7\", \"Topic7\", \"Topic7\", \"Topic7\", \"Topic7\", \"Topic7\", \"Topic7\", \"Topic7\", \"Topic7\", \"Topic7\", \"Topic7\", \"Topic7\", \"Topic8\", \"Topic8\", \"Topic8\", \"Topic8\", \"Topic8\", \"Topic8\", \"Topic8\", \"Topic8\", \"Topic8\", \"Topic8\", \"Topic8\", \"Topic8\", \"Topic8\", \"Topic8\", \"Topic8\", \"Topic8\", \"Topic8\", \"Topic8\", \"Topic8\", \"Topic8\", \"Topic8\", \"Topic8\", \"Topic8\", \"Topic8\", \"Topic8\", \"Topic8\", \"Topic8\", \"Topic8\", \"Topic8\", \"Topic8\", \"Topic8\", \"Topic8\", \"Topic8\", \"Topic8\", \"Topic8\", \"Topic8\", \"Topic8\"], \"Freq\": [106.0, 39.0, 38.0, 42.0, 35.0, 54.0, 94.0, 108.0, 30.0, 30.0, 28.0, 52.0, 36.0, 16.0, 19.0, 18.0, 20.0, 13.0, 14.0, 25.0, 14.0, 19.0, 11.0, 27.0, 54.0, 10.0, 20.0, 10.0, 11.0, 13.0, 7.08506441116333, 5.342245578765869, 5.341832160949707, 5.3408427238464355, 5.339492321014404, 5.339452266693115, 5.3388142585754395, 5.338457107543945, 5.3359694480896, 4.473301410675049, 11.450484275817871, 3.5948052406311035, 3.5944314002990723, 3.5944266319274902, 3.5941569805145264, 3.5932891368865967, 3.5925991535186768, 3.5924932956695557, 3.592059373855591, 3.5918662548065186, 3.590118646621704, 2.729599714279175, 2.723945379257202, 2.722921848297119, 12.323896408081055, 5.345820426940918, 1.8564894199371338, 1.8563382625579834, 1.8544920682907104, 1.8567346334457397, 10.572690963745117, 16.597509384155273, 7.0962629318237305, 64.6302490234375, 9.707362174987793, 29.36448860168457, 12.316548347473145, 9.702507019042969, 6.209778785705566, 31.89094352722168, 6.224226951599121, 9.819648742675781, 7.089960098266602, 15.705588340759277, 5.342307090759277, 5.339776515960693, 5.350435256958008, 7.096466064453125, 7.106005668640137, 7.019109725952148, 5.90847110748291, 5.456079483032227, 5.346580505371094, 5.344821929931641, 5.343286037445068, 5.343266010284424, 9.881775856018066, 8.11408805847168, 2.7889273166656494, 2.7857909202575684, 2.7723007202148438, 5.4473700523376465, 5.43757963180542, 1.8879634141921997, 26.805103302001953, 7.229804515838623, 7.219621181488037, 6.341316223144531, 6.338456630706787, 6.336977481842041, 6.336222171783447, 6.333073616027832, 6.332754611968994, 3.6385111808776855, 1.0041640996932983, 1.0041335821151733, 1.004075527191162, 1.0039899349212646, 1.0034945011138916, 1.0019502639770508, 1.0017813444137573, 1.001815676689148, 1.0012986660003662, 1.0012513399124146, 1.0009502172470093, 1.0005834102630615, 5.45072078704834, 5.449553966522217, 5.448958396911621, 6.784246444702148, 26.10742950439453, 5.4503302574157715, 10.758651733398438, 2.781656503677368, 2.7744381427764893, 6.323176860809326, 1.8919011354446411, 1.8933464288711548, 14.347311973571777, 3.6715216636657715, 11.689452171325684, 15.458871841430664, 20.104524612426758, 6.337825775146484, 8.583023071289062, 17.305294036865234, 5.481110095977783, 7.039658069610596, 6.38562536239624, 3.5607991218566895, 7.874624252319336, 3.554250478744507, 2.70035982131958, 2.6965677738189697, 2.690721273422241, 1.836463451385498, 1.8364253044128418, 1.836462140083313, 1.8361499309539795, 1.833648681640625, 1.8329344987869263, 1.8308970928192139, 1.8288716077804565, 1.8282092809677124, 3.50601863861084, 7.4114460945129395, 3.9815115928649902, 19.398237228393555, 2.6964874267578125, 2.691225051879883, 2.615274429321289, 3.5750043392181396, 3.5620434284210205, 3.4854931831359863, 0.9719424247741699, 0.9716295003890991, 0.972230851650238, 0.97120600938797, 0.9711368083953857, 11.25136661529541, 16.779714584350586, 8.301789283752441, 10.330621719360352, 5.6967315673828125, 6.150243759155273, 5.683218955993652, 12.919004440307617, 32.721981048583984, 6.8435444831848145, 10.584991455078125, 5.700071334838867, 5.682296276092529, 4.3310227394104, 5.677761077880859, 10.049442291259766, 6.056432247161865, 5.668534755706787, 5.617362976074219, 3.5594701766967773, 3.800450325012207, 4.418729305267334, 4.238851547241211, 9.1398286819458, 34.41594696044922, 33.26371765136719, 14.315439224243164, 3.9198925495147705, 6.302917003631592, 4.683218479156494, 6.5266947746276855, 5.660757064819336, 2.0191802978515625, 2.0121824741363525, 2.0120441913604736, 2.007596254348755, 3.347118377685547, 1.9778587818145752, 1.976090669631958, 1.9711757898330688, 1.9627771377563477, 1.9622769355773926, 1.9642881155014038, 1.9562277793884277, 9.195505142211914, 1.918485164642334, 5.722146511077881, 4.440850734710693, 2.0695183277130127, 1.7263929843902588, 1.0701501369476318, 1.070046305656433, 1.0699691772460938, 2.932802200317383, 20.793434143066406, 3.4858834743499756, 3.9681522846221924, 26.520639419555664, 8.653705596923828, 9.065696716308594, 6.690230369567871, 7.762579917907715, 4.598729610443115, 3.7752492427825928, 2.739722490310669, 10.481607437133789, 5.615963935852051, 5.082805633544922, 2.9604685306549072, 2.7640180587768555, 9.53525161743164, 2.681447744369507, 1.82525634765625, 1.8241796493530273, 1.8249703645706177, 1.8249893188476562, 1.821864366531372, 1.820302128791809, 7.8304972648620605, 5.251640319824219, 2.681359052658081, 5.250432968139648, 0.9681389331817627, 0.9680729508399963, 0.9677062034606934, 0.9676593542098999, 0.9676567316055298, 0.9675062894821167, 0.967043399810791, 0.9656490087509155, 0.9655326008796692, 0.9654382467269897, 0.9652742743492126, 0.9652860164642334, 0.9644558429718018, 0.9644153118133545, 0.9642662405967712, 0.963884711265564, 0.9637852311134338, 0.9637869000434875, 19.87097930908203, 4.401527404785156, 9.545510292053223, 3.5353806018829346, 6.1217546463012695, 1.8212970495224, 1.8213510513305664, 3.5527737140655518, 14.685199737548828, 3.5414462089538574, 13.820978164672852, 3.5411059856414795, 3.539301633834839, 3.5388214588165283, 11.281013488769531, 3.5422868728637695, 3.540330648422241, 3.540170192718506, 7.843339920043945, 3.5400876998901367, 10.397123336791992, 3.5392913818359375, 3.539214611053467, 3.536214828491211, 9.572039604187012, 3.5395803451538086, 5.2516093254089355, 3.539044141769409, 4.467951774597168, 3.5502922534942627, 3.5486974716186523, 3.5428435802459717, 3.542459726333618, 3.541759967803955, 6.809932708740234, 5.163523197174072, 5.084219455718994, 4.277987957000732, 2.6379170417785645, 2.6376793384552, 2.637300968170166, 2.6371543407440186, 2.6359124183654785, 2.6347224712371826, 2.6344780921936035, 2.6344213485717773, 2.634091854095459, 2.633540630340576, 2.633530616760254, 1.792479157447815, 4.2587995529174805, 2.6332852840423584, 2.6333820819854736, 8.416826248168945, 0.9470930695533752, 0.9471756815910339, 0.9468819499015808, 0.946349024772644, 0.9444891810417175, 1.7936092615127563, 4.264959812164307, 4.261404991149902, 4.25917911529541, 5.162898063659668, 40.200321197509766, 7.582968235015869, 6.77768611907959, 20.97569465637207, 3.413639545440674, 5.953740119934082, 8.404603958129883, 5.966494083404541, 4.316184997558594, 4.365555763244629, 3.4809839725494385, 3.4479851722717285, 3.473665714263916, 2.67236065864563, 2.637519359588623, 3.5377373695373535, 3.504434823989868, 1.826341986656189, 1.79902982711792, 1.7261502742767334, 1.7206716537475586, 3.396728038787842, 2.6801977157592773, 2.5982272624969482, 0.9680350422859192, 0.9679479002952576, 0.9674840569496155, 0.967418909072876, 0.967301607131958, 0.9662948250770569, 0.9660675525665283, 0.9650217890739441, 0.9657816290855408, 0.9657520651817322, 0.9646985530853271, 0.9644962549209595, 0.9643159508705139, 0.9643076658248901, 0.964373767375946, 0.9643903970718384, 0.9641386866569519, 0.9641991853713989, 2.4409754276275635, 2.685724973678589, 5.525899410247803, 6.954414367675781, 12.282976150512695, 4.89768123626709, 7.706940650939941, 5.26276159286499, 3.549731492996216, 11.284821510314941, 7.643063545227051, 2.626652479171753, 4.268863201141357, 3.8898487091064453, 3.886242628097534, 8.623634338378906, 6.207614421844482, 2.211750030517578, 3.1826863288879395, 17.83681297302246, 3.1804566383361816, 3.8949055671691895, 3.8813962936401367, 5.674395561218262, 3.4935503005981445, 3.893477439880371, 3.8768537044525146, 3.9403598308563232, 3.552834987640381, 3.555812120437622, 3.686168909072876, 1.0558613538742065, 0.38511019945144653, 0.3850441873073578, 0.3848522901535034, 0.3848017752170563, 0.3847404420375824, 0.3845590651035309, 0.38454774022102356, 0.38452082872390747, 0.3844868838787079, 0.3844117224216461, 0.38418060541152954, 0.3841174244880676, 0.3847387135028839, 0.36778226494789124, 0.3766159415245056, 0.26962924003601074, 0.3613913655281067, 0.36903080344200134, 0.3812532126903534, 0.2274484634399414, 0.37319424748420715, 0.13597437739372253, 0.13893762230873108, 0.05007905140519142, 0.24506159126758575, 0.048913151025772095, 0.04849659278988838, 0.04845177382230759, 0.047826819121837616, 0.3631879985332489, 0.15467867255210876, 0.11964818835258484, 0.5180111527442932, 0.11773562431335449, 0.18803159892559052, 0.12395008653402328], \"Term\": [\"text\", \"activity\", \"movement\", \"science\", \"system\", \"strand\", \"content\", \"student\", \"proficiency\", \"problem\", \"number\", \"range\", \"skill\", \"health\", \"mathematic\", \"fluency\", \"performance\", \"medium\", \"poetry\", \"type\", \"reason\", \"change\", \"energy\", \"understanding\", \"year\", \"observation\", \"variety\", \"safety\", \"matter\", \"scale\", \"theme\", \"graphic\", \"chapters_heading\", \"glossaries_language\", \"contents_indexe\", \"subheadings_table\", \"dilemma\", \"discussion\", \"newspaper\", \"community\", \"medium\", \"character\", \"novel\", \"fiction\", \"perspective\", \"individuals_group\", \"fantasy\", \"genre\", \"analyse\", \"clause\", \"plot\", \"challenge\", \"sport\", \"audience\", \"information\", \"community_member\", \"culture\", \"influence\", \"leisure\", \"reference\", \"face\", \"type\", \"environment\", \"text\", \"purpose\", \"range\", \"performance\", \"context\", \"feature\", \"student\", \"setting\", \"variety\", \"topic\", \"year\", \"vocabulary\", \"reader\", \"world\", \"structure\", \"relationship\", \"understand\", \"sequence\", \"curriculum\", \"poetry\", \"report\", \"enjoyment\", \"peers_teacher\", \"observation\", \"phenomena\", \"option\", \"effect\", \"theory\", \"prediction\", \"thing\", \"exploration\", \"science\", \"teacher\", \"idea\", \"way_order\", \"endeavour\", \"programs_decision\", \"inquiry\", \"detail\", \"teaching_learne\", \"material\", \"programming\", \"aspiration\", \"sub\", \"circumstance\", \"cause\", \"liquid\", \"trend\", \"appreciation\", \"solid\", \"night\", \"adaptation\", \"light\", \"period\", \"band_planning\", \"schools_teacher\", \"description\", \"strand\", \"expectation\", \"pattern\", \"classification\", \"table\", \"scale\", \"function\", \"question\", \"system\", \"component\", \"understand\", \"year\", \"content\", \"change\", \"curriculum\", \"student\", \"achievement_standard\", \"skill\", \"relationship\", \"percentage\", \"fractions_decimal\", \"line\", \"career\", \"length\", \"reasonableness\", \"core\", \"learner\", \"elaboration\", \"design\", \"name\", \"quantity\", \"adult\", \"verse\", \"recount\", \"set\", \"datum\", \"chance\", \"problem\", \"comparison\", \"answer\", \"connection\", \"work\", \"reasoning\", \"experiment\", \"destination\", \"century\", \"subtraction\", \"turn\", \"foundation\", \"mathematic\", \"proficiency\", \"learn\", \"fluency\", \"year_level\", \"calculation\", \"statistics_probability\", \"number\", \"content\", \"reason\", \"understanding\", \"significance\", \"part\", \"angle\", \"aspect\", \"strand\", \"language\", \"achievement_standard\", \"sequence\", \"result\", \"shape\", \"pattern\", \"understand\", \"safety\", \"activity\", \"movement\", \"health\", \"play\", \"benefit\", \"factor\", \"participation\", \"opportunity\", \"medicine\", \"persistence\", \"message\", \"response\", \"identity\", \"group\", \"emotion\", \"other\", \"competence\", \"classroom\", \"team\", \"confidence\", \"knowledge\", \"help\", \"decision\", \"action\", \"graph\", \"opportunitie\", \"people\", \"basis\", \"classmate\", \"relation\", \"skill\", \"body\", \"use\", \"student\", \"relationship\", \"curriculum\", \"area\", \"understanding\", \"strategy\", \"situation\", \"behaviour\", \"content\", \"range\", \"year\", \"setting\", \"change\", \"energy\", \"amount\", \"transfer\", \"electricity\", \"ecosystem\", \"notion\", \"variable\", \"food\", \"matter\", \"flow\", \"ability\", \"role\", \"interdependency\", \"atom\", \"neutron\", \"decay\", \"conservation\", \"electron\", \"proton\", \"generation\", \"survival\", \"circuit\", \"accuracy\", \"link\", \"webs\", \"chain\", \"experimentation\", \"diversity\", \"timescale\", \"organ\", \"system\", \"force\", \"change\", \"interaction\", \"scale\", \"impact\", \"evidence\", \"view\", \"science\", \"component\", \"strand\", \"schools_teacher\", \"band_planning\", \"period\", \"year\", \"detail\", \"endeavour\", \"way_order\", \"understand\", \"teaching_learne\", \"content\", \"programs_decision\", \"inquiry\", \"expectation\", \"student\", \"teacher\", \"relationship\", \"idea\", \"range\", \"structure\", \"curriculum\", \"skill\", \"achievement_standard\", \"description\", \"book\", \"word\", \"story\", \"picture\", \"print\", \"convention\", \"chapter\", \"illustration\", \"support\", \"punctuation\", \"exposition\", \"page\", \"sight\", \"happening\", \"framework\", \"technicality\", \"class\", \"diagram\", \"frequency\", \"poetry\", \"counting\", \"combination\", \"push\", \"manipulation\", \"retellings\", \"complexity\", \"film\", \"enjoyment\", \"peers_teacher\", \"topic\", \"text\", \"performance\", \"variety\", \"student\", \"model\", \"type\", \"range\", \"year\", \"area\", \"curriculum\", \"face\", \"purpose\", \"context\", \"content\", \"experience\", \"decimal\", \"multiplication\", \"collection\", \"triangle\", \"division\", \"duration\", \"index\", \"perimeter\", \"outcome\", \"variation\", \"planning\", \"method\", \"map\", \"position\", \"appropriateness\", \"data\", \"complement\", \"modelling\", \"task\", \"estimate\", \"loss\", \"arithmetic\", \"profit\", \"expressions\", \"algebra\", \"population\", \"commonality\", \"partitioning\", \"display\", \"situation\", \"reason\", \"number\", \"shape\", \"fluency\", \"property\", \"result\", \"proficiency\", \"mathematic\", \"probability\", \"calculation\", \"year_level\", \"statistics_probability\", \"problem\", \"language\", \"ratio\", \"representation\", \"content\", \"angle\", \"part\", \"significance\", \"understanding\", \"time\", \"aspect\", \"achievement_standard\", \"area\", \"learn\", \"pattern\", \"strand\", \"equation\", \"application\", \"technique\", \"inequalities\", \"two-\", \"solution\", \"compound\", \"independence\", \"formula\", \"unknowns\", \"step\", \"lengths\", \"substitution\", \"congruence\", \"trigonometry\", \"similarity\", \"statement\", \"graph\", \"surface\", \"relation\", \"volume\", \"interest\", \"fraction\", \"expression\", \"people\\u00e2\\u0080\\u0099s\", \"event\", \"belief\", \"recreation\", \"wellbeing\", \"attitude\", \"medium\", \"operation\", \"probability\", \"range\", \"context\", \"content\", \"understanding\"], \"Total\": [106.0, 39.0, 38.0, 42.0, 35.0, 54.0, 94.0, 108.0, 30.0, 30.0, 28.0, 52.0, 36.0, 16.0, 19.0, 18.0, 20.0, 13.0, 14.0, 25.0, 14.0, 19.0, 11.0, 27.0, 54.0, 10.0, 20.0, 10.0, 11.0, 13.0, 7.83100700378418, 6.076575756072998, 6.076571941375732, 6.076549053192139, 6.076515197753906, 6.076527118682861, 6.076541423797607, 6.0765156745910645, 6.0764617919921875, 5.199111461639404, 13.523392677307129, 4.322085857391357, 4.322086811065674, 4.322154521942139, 4.322127342224121, 4.322148323059082, 4.322044372558594, 4.322110652923584, 4.322074890136719, 4.322107791900635, 4.322068691253662, 3.442002773284912, 3.4400720596313477, 3.4449033737182617, 15.707277297973633, 6.926087856292725, 2.564701795578003, 2.5647428035736084, 2.5636935234069824, 2.567805051803589, 14.737101554870605, 25.282020568847656, 10.390634536743164, 106.50530242919922, 14.72180461883545, 52.83184051513672, 20.737794876098633, 17.31053924560547, 9.501696586608887, 108.46540069580078, 9.811305046081543, 20.01518440246582, 12.927305221557617, 54.56619644165039, 8.624724388122559, 8.624702453613281, 8.754005432128906, 14.717529296875, 28.686626434326172, 33.33344650268555, 19.21929359436035, 32.15216064453125, 14.572964668273926, 9.487626075744629, 10.324713706970215, 10.324853897094727, 10.627601623535156, 8.846977233886719, 3.492307186126709, 3.491828680038452, 3.4920120239257812, 7.026400566101074, 7.025269508361816, 2.59834885597229, 42.22211456298828, 11.397193908691406, 11.396309852600098, 10.505099296569824, 10.50477409362793, 10.505215644836426, 10.50502872467041, 10.504465103149414, 10.505043029785156, 6.111482620239258, 1.7063261270523071, 1.7063250541687012, 1.706323266029358, 1.7063205242156982, 1.7063037157058716, 1.7056365013122559, 1.7056647539138794, 1.7057445049285889, 1.705487847328186, 1.7055730819702148, 1.7061275243759155, 1.7061073780059814, 9.6127347946167, 9.612724304199219, 9.613387107849121, 12.246729850769043, 54.25705337524414, 10.489426612854004, 22.060300827026367, 5.212745666503906, 5.213685035705566, 13.091047286987305, 3.4593346118927, 3.4649269580841064, 35.850955963134766, 7.8279547691345215, 33.33344650268555, 54.56619644165039, 94.62084197998047, 19.376834869384766, 32.15216064453125, 108.46540069580078, 19.106735229492188, 36.66962814331055, 28.686626434326172, 4.276065826416016, 9.4661283493042, 4.27675724029541, 3.4079415798187256, 3.4107611179351807, 3.411242723464966, 2.543346881866455, 2.543367862701416, 2.5434539318084717, 2.5432238578796387, 2.5449111461639404, 2.544994592666626, 2.5441782474517822, 2.5441625118255615, 2.544149398803711, 5.164741516113281, 11.164178848266602, 6.002844333648682, 30.326292037963867, 4.303258895874023, 4.303125381469727, 4.247677326202393, 5.9697346687316895, 6.031052112579346, 6.015527725219727, 1.6779030561447144, 1.677714467048645, 1.6788594722747803, 1.6774592399597168, 1.6774179935455322, 19.831106185913086, 30.277036666870117, 14.858205795288086, 18.95694923400879, 10.319540977478027, 11.188508033752441, 10.326261520385742, 28.426176071166992, 94.62084197998047, 14.650361061096191, 27.368370056152344, 12.081984519958496, 12.094923973083496, 8.635749816894531, 13.819910049438477, 54.25705337524414, 20.724199295043945, 19.106735229492188, 19.21929359436035, 7.724738121032715, 10.32875919342041, 22.060300827026367, 33.33344650268555, 10.303519248962402, 39.49241256713867, 38.529441833496094, 16.85592269897461, 4.627392292022705, 7.446231842041016, 5.56326150894165, 8.345605850219727, 7.41140604019165, 2.7206196784973145, 2.71976375579834, 2.719865560531616, 2.719364881515503, 4.578383922576904, 2.717395544052124, 2.7173032760620117, 2.716897964477539, 2.708266019821167, 2.709200143814087, 2.716261148452759, 2.70865535736084, 12.924134254455566, 2.7077603340148926, 8.278430938720703, 6.42790412902832, 3.109544038772583, 2.6967554092407227, 1.7668458223342896, 1.7668297290802002, 1.7668837308883667, 4.887972354888916, 36.66962814331055, 6.311328411102295, 7.282663345336914, 108.46540069580078, 28.686626434326172, 32.15216064453125, 20.327743530273438, 27.368370056152344, 11.570171356201172, 10.656781196594238, 5.438366889953613, 94.62084197998047, 52.83184051513672, 54.56619644165039, 9.811305046081543, 19.376834869384766, 11.179156303405762, 3.3973283767700195, 2.535665273666382, 2.534865379333496, 2.5360772609710693, 2.5361101627349854, 2.5355207920074463, 2.5358657836914062, 11.241013526916504, 7.764432907104492, 4.350829124450684, 8.608311653137207, 1.674766182899475, 1.674767255783081, 1.6747735738754272, 1.674774408340454, 1.674774408340454, 1.6747769117355347, 1.6747852563858032, 1.6741245985031128, 1.6739650964736938, 1.6740515232086182, 1.6738638877868652, 1.6739507913589478, 1.6746090650558472, 1.6745662689208984, 1.6746392250061035, 1.6746869087219238, 1.6745928525924683, 1.6746703386306763, 35.850955963134766, 7.797252178192139, 19.376834869384766, 6.995637893676758, 13.091047286987305, 3.427117347717285, 3.4278244972229004, 7.7669196128845215, 42.22211456298828, 7.8279547691345215, 54.25705337524414, 9.613387107849121, 9.612724304199219, 9.6127347946167, 54.56619644165039, 10.504465103149414, 10.50477409362793, 10.505099296569824, 33.33344650268555, 10.505043029785156, 94.62084197998047, 10.505215644836426, 10.50502872467041, 10.489426612854004, 108.46540069580078, 11.397193908691406, 28.686626434326172, 11.396309852600098, 52.83184051513672, 14.717529296875, 32.15216064453125, 36.66962814331055, 19.106735229492188, 12.246729850769043, 7.609370708465576, 5.909759521484375, 5.911454200744629, 5.061296463012695, 3.361518144607544, 3.3615429401397705, 3.3615477085113525, 3.361513614654541, 3.3614752292633057, 3.361515998840332, 3.3615777492523193, 3.361570358276367, 3.361525774002075, 3.361618995666504, 3.3616127967834473, 2.5121030807495117, 6.8159966468811035, 4.222799777984619, 4.224386215209961, 14.572964668273926, 1.661067247390747, 1.6612739562988281, 1.6610901355743408, 1.6607847213745117, 1.6628973484039307, 3.465616226196289, 8.570313453674316, 10.324713706970215, 10.324853897094727, 12.927305221557617, 106.50530242919922, 20.737794876098633, 20.01518440246582, 108.46540069580078, 9.416897773742676, 25.282020568847656, 52.83184051513672, 54.56619644165039, 20.327743530273438, 32.15216064453125, 14.737101554870605, 14.72180461883545, 17.31053924560547, 94.62084197998047, 6.869565010070801, 4.2598557472229, 4.263221263885498, 2.5383963584899902, 2.5393826961517334, 2.538423776626587, 2.5384559631347656, 5.141813278198242, 4.263581275939941, 4.29693603515625, 1.6757696866989136, 1.675770878791809, 1.6758092641830444, 1.675829529762268, 1.6758235692977905, 1.675761342048645, 1.6758443117141724, 1.6744567155838013, 1.6758314371109009, 1.675866723060608, 1.6746327877044678, 1.674484133720398, 1.6742544174194336, 1.6745545864105225, 1.6747359037399292, 1.6748193502426147, 1.6744837760925293, 1.6745935678482056, 4.267246723175049, 5.132471561431885, 10.656781196594238, 14.650361061096191, 28.426176071166992, 10.32875919342041, 18.95694923400879, 12.150630950927734, 7.724738121032715, 30.277036666870117, 19.831106185913086, 5.88997745513916, 11.188508033752441, 10.319540977478027, 10.326261520385742, 30.326292037963867, 20.724199295043945, 5.183191776275635, 8.584076881408691, 94.62084197998047, 8.635749816894531, 12.094923973083496, 12.081984519958496, 27.368370056152344, 10.433133125305176, 13.819910049438477, 19.106735229492188, 20.327743530273438, 14.858205795288086, 22.060300827026367, 54.25705337524414, 2.8345320224761963, 1.1615610122680664, 1.1616828441619873, 1.1619970798492432, 1.162118911743164, 1.1622116565704346, 1.1625285148620605, 1.162554144859314, 1.1626074314117432, 1.1626675128936768, 1.1627670526504517, 1.163158655166626, 1.1633143424987793, 2.024379014968872, 2.145171642303467, 3.0202267169952393, 2.2017717361450195, 3.109544038772583, 3.986884832382202, 4.887972354888916, 4.012105464935303, 7.31687068939209, 4.132210731506348, 4.316315174102783, 1.6795988082885742, 8.295863151550293, 1.681415319442749, 1.6820638179779053, 1.682151198387146, 1.6831313371658325, 13.523392677307129, 5.826179027557373, 5.88997745513916, 52.83184051513672, 17.31053924560547, 94.62084197998047, 27.368370056152344], \"loglift\": [30.0, 29.0, 28.0, 27.0, 26.0, 25.0, 24.0, 23.0, 22.0, 21.0, 20.0, 19.0, 18.0, 17.0, 16.0, 15.0, 14.0, 13.0, 12.0, 11.0, 10.0, 9.0, 8.0, 7.0, 6.0, 5.0, 4.0, 3.0, 2.0, 1.0, 1.4478000402450562, 1.4191999435424805, 1.419100046157837, 1.4189000129699707, 1.4186999797821045, 1.4185999631881714, 1.4184999465942383, 1.4184999465942383, 1.4179999828338623, 1.3976000547409058, 1.381600022315979, 1.363700032234192, 1.3636000156402588, 1.3636000156402588, 1.3634999990463257, 1.3632999658584595, 1.3631000518798828, 1.3631000518798828, 1.3629000186920166, 1.3629000186920166, 1.3624000549316406, 1.316100001335144, 1.3144999742507935, 1.3128000497817993, 1.305400013923645, 1.2890000343322754, 1.2247999906539917, 1.2246999740600586, 1.2240999937057495, 1.2237000465393066, 1.21589994430542, 1.1270999908447266, 1.166599988937378, 1.0484000444412231, 1.131500005722046, 0.9606000185012817, 1.026900053024292, 0.968999981880188, 1.1225999593734741, 0.3237999975681305, 1.092900037765503, 0.8357999920845032, 0.9473000168800354, 0.3025999963283539, 1.069000005722046, 1.06850004196167, 1.0556000471115112, 0.8184999823570251, 0.1525000035762787, -0.009999999776482582, 0.3684000074863434, -0.22579999268054962, 0.545199990272522, 0.9740999937057495, 0.8892999887466431, 0.88919997215271, 1.7798999547958374, 1.7661000490188599, 1.6276999711990356, 1.6267000436782837, 1.6217999458312988, 1.598099946975708, 1.5964000225067139, 1.5332000255584717, 1.398300051689148, 1.3975000381469727, 1.3961000442504883, 1.3478000164031982, 1.3473999500274658, 1.347100019454956, 1.347000002861023, 1.34660005569458, 1.346500039100647, 1.3339999914169312, 1.3223999738693237, 1.3223999738693237, 1.3222999572753906, 1.3222999572753906, 1.3217999935150146, 1.3206000328063965, 1.3203999996185303, 1.3203999996185303, 1.320099949836731, 1.3200000524520874, 1.3193000555038452, 1.319000005722046, 1.2853000164031982, 1.285099983215332, 1.2848999500274658, 1.2619999647140503, 1.1210999488830566, 1.1979000568389893, 1.1345000267028809, 1.2245999574661255, 1.2217999696731567, 1.124899983406067, 1.2490999698638916, 1.2482999563217163, 0.9368000030517578, 1.0954999923706055, 0.8047000169754028, 0.5914000272750854, 0.3037000000476837, 0.7350999712944031, 0.5318999886512756, 0.01720000058412552, 0.6039000153541565, 0.2021999955177307, 0.35019999742507935, 1.7002999782562256, 1.6993000507354736, 1.6983000040054321, 1.6506999731063843, 1.6483999490737915, 1.6461000442504883, 1.5577000379562378, 1.5577000379562378, 1.5577000379562378, 1.5576000213623047, 1.5556000471115112, 1.5551999807357788, 1.5543999671936035, 1.5533000230789185, 1.552899956703186, 1.496000051498413, 1.4737000465393066, 1.4728000164031982, 1.4365999698638916, 1.4160000085830688, 1.4140000343322754, 1.3983999490737915, 1.3707000017166138, 1.3567999601364136, 1.3377000093460083, 1.337399959564209, 1.3372000455856323, 1.3371000289916992, 1.336899995803833, 1.3367999792099, 1.31659996509552, 1.2932000160217285, 1.301300048828125, 1.2762999534606934, 1.289199948310852, 1.284999966621399, 1.2862000465393066, 1.0947999954223633, 0.8216000199317932, 1.1222000122070312, 0.9333999752998352, 1.132200002670288, 1.128000020980835, 1.1933000087738037, 0.9937999844551086, 0.1972000002861023, 0.6531999707221985, 0.6682999730110168, 0.6532999873161316, 1.1086000204086304, 0.8835999965667725, 0.27549999952316284, -0.17890000343322754, 1.8172999620437622, 1.7994999885559082, 1.7901999950408936, 1.773800015449524, 1.7711999416351318, 1.770400047302246, 1.7648999691009521, 1.6913000345230103, 1.6677000522613525, 1.6390000581741333, 1.6358000040054321, 1.635699987411499, 1.6337000131607056, 1.623900055885315, 1.6195000410079956, 1.6186000108718872, 1.6162999868392944, 1.6152000427246094, 1.6145999431610107, 1.6130000352859497, 1.6117000579833984, 1.5967999696731567, 1.5924999713897705, 1.5678000450134277, 1.5672999620437622, 1.5299999713897705, 1.4910999536514282, 1.4357000589370728, 1.4356000423431396, 1.4355000257492065, 1.426300048828125, 1.3697999715805054, 1.343500018119812, 1.3299000263214111, 0.5285999774932861, 0.7386999726295471, 0.6711999773979187, 0.8258000016212463, 0.6771000027656555, 1.0145000219345093, 0.899399995803833, 1.2515000104904175, -0.2630999982357025, -0.3043999969959259, -0.43639999628067017, 0.7389000058174133, -0.010300000198185444, 1.9663000106811523, 1.888700008392334, 1.7965999841690063, 1.7963000535964966, 1.7963000535964966, 1.7963000535964966, 1.794800043106079, 1.7937999963760376, 1.763800024986267, 1.7343000173568726, 1.6412999629974365, 1.6309000253677368, 1.577299952507019, 1.5772000551223755, 1.576799988746643, 1.576799988746643, 1.576799988746643, 1.5765999555587769, 1.5760999917984009, 1.5750999450683594, 1.5750000476837158, 1.5749000310897827, 1.5748000144958496, 1.5748000144958496, 1.5735000371932983, 1.5735000371932983, 1.5733000040054321, 1.5729000568389893, 1.5729000568389893, 1.5728000402450562, 1.5351999998092651, 1.5535000562667847, 1.4172999858856201, 1.4428000450134277, 1.3652000427246094, 1.4931000471115112, 1.4930000305175781, 1.3431999683380127, 1.069200038909912, 1.3321000337600708, 0.7577999830245972, 1.1266000270843506, 1.1261999607086182, 1.1260000467300415, 0.5490000247955322, 1.0383000373840332, 1.0377000570297241, 1.037600040435791, 0.6783999800682068, 1.037600040435791, -0.08299999684095383, 1.0374000072479248, 1.0374000072479248, 1.0379999876022339, -0.30230000615119934, 0.9559999704360962, 0.42739999294281006, 0.9559000134468079, -0.3449000120162964, 0.7032999992370605, -0.07859999686479568, -0.21170000731945038, 0.4401000142097473, 0.8847000002861023, 2.167799949645996, 2.1438000202178955, 2.128000020980835, 2.110599994659424, 2.036400079727173, 2.03629994392395, 2.036099910736084, 2.036099910736084, 2.035599946975708, 2.0352001190185547, 2.035099983215332, 2.0350000858306885, 2.034899950027466, 2.0346999168395996, 2.0346999168395996, 1.9413000345230103, 1.808500051498413, 1.80649995803833, 1.8062000274658203, 1.7297999858856201, 1.7170000076293945, 1.7168999910354614, 1.7166999578475952, 1.7163000106811523, 1.7130999565124512, 1.6201000213623047, 1.580899953842163, 1.3938000202178955, 1.3933000564575195, 1.3609000444412231, 1.3044999837875366, 1.2726999521255493, 1.1958999633789062, 0.635699987411499, 1.2640999555587769, 0.8327000141143799, 0.44040000438690186, 0.06549999862909317, 0.729200005531311, 0.28200000524520874, 0.8356999754905701, 0.8271999955177307, 0.6726999878883362, -1.288100004196167, 1.3214999437332153, 2.0938000679016113, 2.0836000442504883, 1.9503999948501587, 1.9349000453948975, 1.8939000368118286, 1.8907999992370605, 1.8650000095367432, 1.8154000043869019, 1.7764999866485596, 1.7308000326156616, 1.7307000160217285, 1.7302000522613525, 1.7302000522613525, 1.7300000190734863, 1.7289999723434448, 1.7288000583648682, 1.7285000085830688, 1.7285000085830688, 1.7283999919891357, 1.7280999422073364, 1.7279000282287598, 1.7279000282287598, 1.7276999950408936, 1.7276999950408936, 1.7275999784469604, 1.7275999784469604, 1.7275999784469604, 1.7209999561309814, 1.6319999694824219, 1.6227999925613403, 1.534500002861023, 1.440500020980835, 1.533400058746338, 1.3795000314712524, 1.4428999423980713, 1.5019999742507935, 1.2927000522613525, 1.3260999917984009, 1.472100019454956, 1.316100001335144, 1.3039000034332275, 1.302299976348877, 1.0220999717712402, 1.0741000175476074, 1.4279999732971191, 1.2874000072479248, 0.6110000014305115, 1.2806999683380127, 1.1464999914169312, 1.1440999507904053, 0.7062000036239624, 1.1855000257492065, 1.0127999782562256, 0.6845999956130981, 0.6388999819755554, 0.848800003528595, 0.4544000029563904, -0.40950000286102295, 3.6008999347686768, 3.4844000339508057, 3.484100103378296, 3.4834001064300537, 3.483099937438965, 3.4828999042510986, 3.482100009918213, 3.482100009918213, 3.4820001125335693, 3.481800079345703, 3.4814999103546143, 3.480600118637085, 3.480299949645996, 2.9279000759124756, 2.824899911880493, 2.506500005722046, 2.4883999824523926, 2.4361000061035156, 2.2084999084472656, 2.0373001098632812, 1.7181999683380127, 1.6124999523162842, 1.174299955368042, 1.1523000001907349, 1.075700044631958, 1.0664000511169434, 1.0509999990463257, 1.042099952697754, 1.041100025177002, 1.0276000499725342, 0.9710999727249146, 0.9595999717712402, 0.6919000148773193, -0.0364999994635582, -0.40220001339912415, -1.632599949836731, -0.808899998664856], \"logprob\": [30.0, 29.0, 28.0, 27.0, 26.0, 25.0, 24.0, 23.0, 22.0, 21.0, 20.0, 19.0, 18.0, 17.0, 16.0, 15.0, 14.0, 13.0, 12.0, 11.0, 10.0, 9.0, 8.0, 7.0, 6.0, 5.0, 4.0, 3.0, 2.0, 1.0, -4.463399887084961, -4.745800018310547, -4.745800018310547, -4.745999813079834, -4.746300220489502, -4.746300220489502, -4.746399879455566, -4.746500015258789, -4.7469000816345215, -4.923299789428711, -3.9834001064300537, -5.141900062561035, -5.142000198364258, -5.142000198364258, -5.142099857330322, -5.142300128936768, -5.142499923706055, -5.142600059509277, -5.1427001953125, -5.1427001953125, -5.143199920654297, -5.417300224304199, -5.419300079345703, -5.4197001457214355, -3.909899950027466, -4.745100021362305, -5.802700042724609, -5.802800178527832, -5.803800106048584, -5.802599906921387, -4.0630998611450195, -3.6122000217437744, -4.4618000984191895, -2.252700090408325, -4.148499965667725, -3.041599988937378, -3.9105000495910645, -4.14900016784668, -4.595300197601318, -2.9591000080108643, -4.5929999351501465, -4.13700008392334, -4.462699890136719, -3.6673998832702637, -4.745699882507324, -4.746200084686279, -4.744200229644775, -4.4618000984191895, -4.4604997634887695, -4.472799777984619, -4.644999980926514, -4.724699974060059, -4.744900226593018, -4.745299816131592, -4.74560022354126, -4.74560022354126, -3.8261001110076904, -4.023099899291992, -5.091100215911865, -5.092199802398682, -5.097099781036377, -4.421599864959717, -4.423399925231934, -5.481200218200684, -2.828200101852417, -4.138500213623047, -4.139900207519531, -4.269700050354004, -4.270100116729736, -4.270299911499023, -4.270500183105469, -4.270999908447266, -4.270999908447266, -4.825200080871582, -6.112599849700928, -6.112599849700928, -6.11269998550415, -6.112800121307373, -6.11329984664917, -6.114799976348877, -6.114999771118164, -6.1149001121521, -6.1153998374938965, -6.115499973297119, -6.115799903869629, -6.116199970245361, -4.421000003814697, -4.421199798583984, -4.421299934387207, -4.202099800109863, -2.8545000553131104, -4.42110013961792, -3.740999937057495, -5.093699932098389, -5.09630012512207, -4.272500038146973, -5.4791998863220215, -5.478400230407715, -3.453200101852417, -4.816100120544434, -3.658099889755249, -3.3785998821258545, -3.115799903869629, -4.270199775695801, -3.9670000076293945, -3.265700101852417, -4.41540002822876, -4.165200233459473, -4.262700080871582, -4.815999984741211, -4.022299766540527, -4.817800045013428, -5.092599868774414, -5.093999862670898, -5.096199989318848, -5.478099822998047, -5.478099822998047, -5.478099822998047, -5.478300094604492, -5.479700088500977, -5.480100154876709, -5.481200218200684, -5.4822998046875, -5.482600212097168, -4.831500053405762, -4.082900047302246, -4.7042999267578125, -3.120800018310547, -5.093999862670898, -5.0960001945495605, -5.124599933624268, -4.811999797821045, -4.8155999183654785, -4.837399959564209, -6.1143999099731445, -6.114799976348877, -6.114099979400635, -6.115200042724609, -6.115300178527832, -3.6654999256134033, -3.2657999992370605, -3.9695000648498535, -3.7509000301361084, -4.346099853515625, -4.269499778747559, -4.348499774932861, -3.5272998809814453, -2.597899913787842, -4.162700176239014, -3.7265000343322754, -4.3454999923706055, -4.348599910736084, -4.620200157165527, -4.349400043487549, -3.7785000801086426, -4.284800052642822, -4.35099983215332, -4.360099792480469, -4.816400051116943, -4.750899791717529, -4.600100040435791, -4.64169979095459, -3.8196001052856445, -2.4937000274658203, -2.5278000831604004, -3.3708999156951904, -4.666200160980225, -4.191199779510498, -4.4882001876831055, -4.156300067901611, -4.298699855804443, -5.329500198364258, -5.333000183105469, -5.333099842071533, -5.335299968719482, -4.824100017547607, -5.350200176239014, -5.351099967956543, -5.353600025177002, -5.357900142669678, -5.358099937438965, -5.357100009918213, -5.361199855804443, -3.813499927520752, -5.38070011138916, -4.287899971008301, -4.541399955749512, -5.304900169372559, -5.486199855804443, -5.964399814605713, -5.9644999504089355, -5.964600086212158, -4.956299781799316, -2.9976000785827637, -4.7835001945495605, -4.653900146484375, -2.754300117492676, -3.8742001056671143, -3.827699899673462, -4.1315999031066895, -3.9828999042510986, -4.506400108337402, -4.703800201416016, -5.024400234222412, -3.6826000213623047, -4.306600093841553, -4.406400203704834, -4.946899890899658, -5.015500068664551, -3.589099884033203, -4.857699871063232, -5.242300033569336, -5.2428998947143555, -5.242499828338623, -5.242499828338623, -5.244200229644775, -5.244999885559082, -3.7860000133514404, -4.185500144958496, -4.857699871063232, -4.185699939727783, -5.876399993896484, -5.876500129699707, -5.8769001960754395, -5.8769001960754395, -5.8769001960754395, -5.877099990844727, -5.877600193023682, -5.879000186920166, -5.8790998458862305, -5.879199981689453, -5.87939977645874, -5.87939977645874, -5.880199909210205, -5.880300045013428, -5.88040018081665, -5.880799770355225, -5.880899906158447, -5.880899906158447, -2.85479998588562, -4.362100124359131, -3.5880000591278076, -4.581200122833252, -4.032199859619141, -5.244500160217285, -5.244500160217285, -4.576300144195557, -3.1572000980377197, -4.579500198364258, -3.217900037765503, -4.579599857330322, -4.580100059509277, -4.5802998542785645, -3.4209001064300537, -4.5792999267578125, -4.579800128936768, -4.579899787902832, -3.78439998626709, -4.579899787902832, -3.502500057220459, -4.580100059509277, -4.580100059509277, -4.580999851226807, -3.585200071334839, -4.579999923706055, -4.185500144958496, -4.5802001953125, -4.347099781036377, -4.577000141143799, -4.577499866485596, -4.579100131988525, -4.57919979095459, -4.579400062561035, -3.772200107574463, -4.048999786376953, -4.0644001960754395, -4.237100124359131, -4.720600128173828, -4.720699787139893, -4.720799922943115, -4.720900058746338, -4.72130012512207, -4.721799850463867, -4.72189998626709, -4.72189998626709, -4.7220001220703125, -4.7221999168396, -4.722300052642822, -5.10699987411499, -4.241600036621094, -4.722300052642822, -4.722300052642822, -3.56030011177063, -5.744900226593018, -5.744800090789795, -5.745200157165527, -5.745699882507324, -5.747700214385986, -5.106299877166748, -4.240099906921387, -4.241000175476074, -4.241499900817871, -4.049099922180176, -1.9967000484466553, -3.6647000312805176, -3.776900053024292, -2.647200107574463, -4.462800025939941, -3.906599998474121, -3.561800003051758, -3.904400110244751, -4.2281999588012695, -4.216800212860107, -4.443299770355225, -4.4527997970581055, -4.445400238037109, -4.707600116729736, -4.720699787139893, -4.426300048828125, -4.435699939727783, -5.087399959564209, -5.102499961853027, -5.143899917602539, -5.146999835968018, -4.466899871826172, -4.70389986038208, -4.734899997711182, -5.7221999168396, -5.722300052642822, -5.722799777984619, -5.722899913787842, -5.7230000495910645, -5.723999977111816, -5.724299907684326, -5.725399971008301, -5.724599838256836, -5.724599838256836, -5.7256999015808105, -5.725900173187256, -5.726099967956543, -5.726099967956543, -5.72599983215332, -5.72599983215332, -5.72629976272583, -5.726200103759766, -4.797399997711182, -4.7017998695373535, -3.980299949645996, -3.7504000663757324, -3.18149995803833, -4.10099983215332, -3.647599935531616, -4.029099941253662, -4.422900199890137, -3.2662999629974365, -3.6559998989105225, -4.723999977111816, -4.238399982452393, -4.331399917602539, -4.332300186157227, -3.5353000164031982, -3.864000082015991, -4.895999908447266, -4.5320000648498535, -2.808500051498413, -4.532700061798096, -4.330100059509277, -4.333600044250488, -3.9537999629974365, -4.438799858093262, -4.33050012588501, -4.334700107574463, -4.31850004196167, -4.421999931335449, -4.421199798583984, -4.385200023651123, -3.3266000747680664, -4.33519983291626, -4.335400104522705, -4.335899829864502, -4.335999965667725, -4.33620023727417, -4.336599826812744, -4.336699962615967, -4.336699962615967, -4.3368000984191895, -4.336999893188477, -4.337600231170654, -4.337800025939941, -4.33620023727417, -4.381199836730957, -4.357500076293945, -4.691699981689453, -4.398799896240234, -4.377799987792969, -4.345300197601318, -4.861800193786621, -4.366600036621094, -5.376299858093262, -5.354700088500977, -6.375100135803223, -4.787199974060059, -6.39870023727417, -6.407199859619141, -6.408199787139893, -6.42110013961792, -4.393799781799316, -5.247399806976318, -5.504199981689453, -4.038700103759766, -5.520299911499023, -5.05210018157959, -5.468800067901611]}, \"token.table\": {\"Topic\": [4, 5, 5, 2, 3, 5, 7, 2, 4, 1, 4, 2, 3, 7, 5, 1, 3, 4, 7, 2, 3, 2, 7, 1, 3, 4, 6, 7, 7, 2, 3, 5, 7, 2, 5, 1, 1, 2, 5, 4, 2, 4, 1, 1, 4, 1, 4, 5, 6, 3, 7, 3, 2, 3, 5, 1, 3, 7, 2, 4, 5, 6, 1, 1, 5, 2, 1, 6, 2, 5, 4, 4, 1, 7, 6, 7, 1, 1, 6, 2, 3, 4, 7, 4, 6, 2, 5, 4, 7, 3, 7, 5, 2, 3, 4, 5, 6, 7, 1, 1, 3, 4, 6, 6, 3, 6, 1, 1, 2, 3, 4, 5, 6, 7, 3, 7, 5, 7, 2, 4, 5, 2, 3, 5, 3, 3, 2, 5, 6, 7, 1, 1, 3, 7, 5, 7, 7, 5, 2, 3, 5, 5, 4, 2, 5, 2, 5, 1, 6, 1, 5, 6, 4, 8, 7, 1, 2, 3, 5, 6, 2, 5, 1, 2, 5, 1, 2, 5, 6, 3, 7, 5, 2, 6, 3, 4, 7, 1, 6, 4, 1, 1, 6, 1, 1, 6, 2, 5, 3, 7, 5, 2, 5, 3, 3, 7, 3, 7, 6, 6, 7, 2, 5, 5, 1, 1, 4, 1, 4, 6, 1, 4, 4, 2, 5, 1, 4, 6, 2, 5, 3, 7, 1, 1, 1, 2, 5, 7, 2, 5, 2, 4, 5, 5, 1, 2, 4, 6, 2, 3, 4, 1, 3, 6, 7, 3, 4, 7, 3, 1, 3, 2, 3, 5, 2, 7, 6, 7, 2, 3, 3, 7, 2, 5, 4, 1, 4, 4, 7, 2, 3, 5, 6, 7, 7, 1, 4, 5, 7, 3, 5, 1, 2, 5, 1, 3, 6, 7, 2, 3, 5, 7, 4, 2, 4, 2, 5, 4, 1, 7, 6, 2, 3, 7, 1, 4, 3, 7, 2, 3, 4, 5, 7, 1, 6, 4, 1, 3, 1, 6, 3, 7, 2, 5, 4, 1, 2, 6, 7, 4, 1, 1, 6, 7, 7, 2, 5, 6, 3, 7, 3, 4, 7, 3, 4, 7, 7, 2, 2, 5, 2, 3, 5, 7, 5, 6, 1, 6, 7, 6, 3, 2, 3, 1, 2, 3, 4, 5, 6, 8, 3, 4, 7, 1, 6, 3, 7, 3, 1, 3, 3, 1, 1, 4, 7, 1, 2, 3, 4, 5, 1, 6, 7, 3, 5, 7, 4, 3, 7, 6, 1, 5, 1, 4, 2, 5, 2, 5, 2, 5, 1, 3, 4, 6, 7, 2, 3, 1, 4, 2, 3, 7, 6, 1, 3, 7, 2, 4, 1, 4, 7, 1, 2, 3, 4, 5, 2, 1, 3, 3, 7, 6, 2, 3, 5, 7, 1, 3, 4, 7, 1, 2, 5, 6, 1, 2, 3, 4, 5, 6, 2, 1, 3, 6, 2, 4, 5, 2, 4, 5, 2, 7, 7, 2, 5, 2, 5, 4, 6, 1, 3, 6, 1, 2, 2, 5, 1, 2, 5, 7, 5, 1, 6, 5, 2, 7, 4, 3, 1, 2, 4, 6, 1, 2, 3, 4, 5, 7, 2, 3, 4, 5, 7, 2, 3, 4, 5, 7, 1, 4, 5, 6, 3, 1, 5, 1, 6, 3, 7, 2, 5, 5, 1, 6, 3, 6, 1, 2, 1, 2, 3, 4, 5, 6, 3, 7], \"Freq\": [0.22984124720096588, 0.6895237565040588, 0.5974201560020447, 0.2616878151893616, 0.3140254020690918, 0.20935025811195374, 0.20935025811195374, 0.15557169914245605, 0.6222867965698242, 0.10128527879714966, 0.8609248399734497, 0.5861226320266724, 0.7861084342002869, 0.597079336643219, 0.8830468058586121, 0.9254814386367798, 0.46319082379341125, 0.11579770594835281, 0.34739312529563904, 0.23238922655582428, 0.697167694568634, 0.5862542986869812, 0.5967437028884888, 0.1475815623998642, 0.1475815623998642, 0.3443569540977478, 0.1967754065990448, 0.1967754065990448, 0.5972808003425598, 0.144718736410141, 0.43415623903274536, 0.144718736410141, 0.289437472820282, 0.586054801940918, 0.5970978736877441, 0.5941306948661804, 0.8708516955375671, 0.5201439261436462, 0.4161151349544525, 0.5659855008125305, 0.3677574694156647, 0.5516362190246582, 0.5947370529174805, 0.13429611921310425, 0.8057766556739807, 0.15844525396823883, 0.4753357470035553, 0.31689050793647766, 0.9199183583259583, 0.5362645387649536, 0.35750967264175415, 0.8802967667579651, 0.5860621333122253, 0.5960490107536316, 0.5971695780754089, 0.8715856075286865, 0.666350781917572, 0.166587695479393, 0.3096480965614319, 0.15482404828071594, 0.5160801410675049, 0.8924460411071777, 0.8228323459625244, 0.9254790544509888, 0.5973531603813171, 0.5860563516616821, 0.29342737793922424, 0.5868547558784485, 0.5755124688148499, 0.3836749494075775, 0.5659682154655457, 0.7382252812385559, 0.9254743456840515, 0.7878990173339844, 0.6019476652145386, 0.5971598029136658, 0.769362211227417, 0.7219082713127136, 0.14438165724277496, 0.23238201439380646, 0.6971460580825806, 0.7384799122810364, 0.5972086191177368, 0.2885489761829376, 0.5770979523658752, 0.5109891295433044, 0.5109891295433044, 0.7383737564086914, 0.4939786493778229, 0.706268310546875, 0.2354227751493454, 0.5970953702926636, 0.21136991679668427, 0.34876036643981934, 0.10568495839834213, 0.10568495839834213, 0.03170548751950264, 0.19023293256759644, 0.8228400349617004, 0.5776827335357666, 0.11553654819726944, 0.05776827409863472, 0.17330482602119446, 0.8924473524093628, 0.7863653898239136, 0.6020225882530212, 0.7798177599906921, 0.1555105447769165, 0.27991896867752075, 0.03110210970044136, 0.27991896867752075, 0.12440843880176544, 0.12440843880176544, 0.5967141389846802, 0.6270053386688232, 0.26871657371520996, 0.5970953702926636, 0.9389989376068115, 0.120795838534832, 0.7247750163078308, 0.120795838534832, 0.5715811848640442, 0.08165445178747177, 0.3266178071498871, 0.7864034175872803, 0.595982015132904, 0.5711856484413147, 0.38079044222831726, 0.7104291319847107, 0.23680971562862396, 0.8228364586830139, 0.8228399753570557, 0.3896757960319519, 0.5845137238502502, 0.5971265435218811, 0.7878904938697815, 0.787880539894104, 0.7886195182800293, 0.8591486811637878, 0.7863323092460632, 0.7889965176582336, 0.5970944762229919, 0.7360238432884216, 0.5711688995361328, 0.3807792365550995, 0.08945219218730927, 0.8945218920707703, 0.4842749238014221, 0.3874199390411377, 0.6736835837364197, 0.09624051302671432, 0.19248102605342865, 0.3527919352054596, 0.3527919352054596, 0.5971458554267883, 0.2410840094089508, 0.1205420047044754, 0.1205420047044754, 0.1205420047044754, 0.3616260290145874, 0.29173022508621216, 0.5834604501724243, 0.09533409774303436, 0.4766704738140106, 0.38133639097213745, 0.29113924503326416, 0.14556962251663208, 0.14556962251663208, 0.43670886754989624, 0.4987093508243561, 0.33247292041778564, 0.5971435308456421, 0.7697196006774902, 0.8924380540847778, 0.23167909681797028, 0.46335819363594055, 0.5971090793609619, 0.7464154362678528, 0.20356784760951996, 0.8987533450126648, 0.9254879355430603, 0.6314661502838135, 0.31573307514190674, 0.925464391708374, 0.4667273759841919, 0.4667273759841919, 0.257584810256958, 0.643962025642395, 0.5275110602378845, 0.42200884222984314, 0.7886852622032166, 0.38475093245506287, 0.5130012631416321, 0.5961543321609497, 0.48400241136550903, 0.48400241136550903, 0.8451184630393982, 0.10563980787992477, 0.8924287557601929, 0.710162341594696, 0.23672078549861908, 0.5781458616256714, 0.2890729308128357, 0.5973271131515503, 0.9254737496376038, 0.8228354454040527, 0.6431810855865479, 0.8228318095207214, 0.7359988689422607, 0.8924271464347839, 0.11865265667438507, 0.8305686116218567, 0.7386177778244019, 0.6142339110374451, 0.35099080204963684, 0.2184176743030548, 0.6552530527114868, 0.8924551010131836, 0.2917904257774353, 0.5835808515548706, 0.1944839209318161, 0.5834517478942871, 0.9254657030105591, 0.7798053026199341, 0.7639771103858948, 0.0636647567152977, 0.0636647567152977, 0.0636647567152977, 0.5711550116539001, 0.3807700276374817, 0.28589245676994324, 0.14294622838497162, 0.5717849135398865, 0.5970982909202576, 0.2733409106731415, 0.13667045533657074, 0.13667045533657074, 0.410011351108551, 0.07737462222576141, 0.15474924445152283, 0.6963716149330139, 0.24126385152339935, 0.2895166277885437, 0.14475831389427185, 0.2895166277885437, 0.5384230017662048, 0.1346057504415512, 0.2692115008831024, 0.7863588929176331, 0.7801244258880615, 0.8795690536499023, 0.5861296057701111, 0.9352880716323853, 0.5973891019821167, 0.5862913727760315, 0.5971988439559937, 0.6021249890327454, 0.5967193841934204, 0.6545056700706482, 0.3272528350353241, 0.5546841621398926, 0.40340664982795715, 0.2668798565864563, 0.7116795778274536, 0.7351266145706177, 0.8134053349494934, 0.07394593954086304, 0.7353304624557495, 0.5967265963554382, 0.10619208216667175, 0.10619208216667175, 0.2123841643333435, 0.31857624650001526, 0.2123841643333435, 0.5967187285423279, 0.10381671041250229, 0.8564878702163696, 0.025954177603125572, 0.93825763463974, 0.7858820557594299, 0.5970956683158875, 0.8228472471237183, 0.5863131880760193, 0.7886092662811279, 0.9254788756370544, 0.45732495188713074, 0.10553652793169022, 0.42214611172676086, 0.9409460425376892, 0.343278169631958, 0.171639084815979, 0.343278169631958, 0.7416319847106934, 0.1349271684885025, 0.8095629811286926, 0.8590309619903564, 0.5971324443817139, 0.7361336350440979, 0.23272396624088287, 0.6981719136238098, 0.8924400210380554, 0.16535861790180206, 0.4960758686065674, 0.3307172358036041, 0.11982353776693344, 0.8387647271156311, 0.23434314131736755, 0.4686862826347351, 0.4986332654953003, 0.1813211888074875, 0.09066059440374374, 0.04533029720187187, 0.1813211888074875, 0.4842683672904968, 0.38741469383239746, 0.5659803152084351, 0.5953802466392517, 0.9354392886161804, 0.5786536335945129, 0.3857690691947937, 0.23454460501670837, 0.7036338448524475, 0.5201433300971985, 0.4161146879196167, 0.7353579998016357, 0.9254701733589172, 0.9042636752128601, 0.790311336517334, 0.5967403054237366, 0.8644177317619324, 0.9254827499389648, 0.3431010842323303, 0.5489617586135864, 0.5971989631652832, 0.5967215299606323, 0.7116019129753113, 0.14232037961483002, 0.8924539089202881, 0.3395598828792572, 0.5093398094177246, 0.6265190839767456, 0.06594937294721603, 0.29677218198776245, 0.5614816546440125, 0.06605666130781174, 0.36331164836883545, 0.5971737504005432, 0.5860544443130493, 0.5711448788642883, 0.3807632327079773, 0.32920101284980774, 0.16460050642490387, 0.08230025321245193, 0.4115012586116791, 0.5970914959907532, 0.8924545049667358, 0.6792645454406738, 0.20377936959266663, 0.06792645156383514, 0.6020143032073975, 0.785856306552887, 0.5772127509117126, 0.2886063754558563, 0.5489113926887512, 0.05678394064307213, 0.018927980214357376, 0.11356788128614426, 0.0757119208574295, 0.151423841714859, 0.018927980214357376, 0.3858626186847687, 0.19293130934238434, 0.3858626186847687, 0.5797301530838013, 0.34783807396888733, 0.47780391573905945, 0.47780391573905945, 0.8794448971748352, 0.3316170871257782, 0.6632341742515564, 0.7861173748970032, 0.5945077538490295, 0.7788753509521484, 0.6137514114379883, 0.2045838087797165, 0.2440161406993866, 0.20915669202804565, 0.03485944867134094, 0.3137350380420685, 0.1742972433567047, 0.527002215385437, 0.3162013292312622, 0.1054004430770874, 0.34948429465293884, 0.23298951983451843, 0.34948429465293884, 0.7354658246040344, 0.5178169012069702, 0.5178169012069702, 0.601360023021698, 0.34850040078163147, 0.5808339715003967, 0.09705422073602676, 0.8734879493713379, 0.4583284854888916, 0.4583284854888916, 0.5201080441474915, 0.41608643531799316, 0.6394752860069275, 0.3552640676498413, 0.3121863007545471, 0.3121863007545471, 0.10406209528446198, 0.15609315037727356, 0.10406209528446198, 0.19362053275108337, 0.7744821310043335, 0.6115394234657288, 0.3057697117328644, 0.09681705385446548, 0.38726821541786194, 0.4840852618217468, 0.8924518823623657, 0.16553571820259094, 0.4966071546077728, 0.3310714364051819, 0.3311009705066681, 0.3311009705066681, 0.0938369631767273, 0.3753478527069092, 0.5630217790603638, 0.027270523831248283, 0.19089367985725403, 0.10908209532499313, 0.5726810097694397, 0.10908209532499313, 0.5863425135612488, 0.8720747828483582, 0.45417967438697815, 0.5810428261756897, 0.38736188411712646, 0.8458155989646912, 0.4792003631591797, 0.18430782854557037, 0.2580309808254242, 0.07372313737869263, 0.17285828292369843, 0.25928741693496704, 0.43214571475982666, 0.17285828292369843, 0.47562330961227417, 0.0679461881518364, 0.2717847526073456, 0.2038385570049286, 0.29502496123313904, 0.1567320078611374, 0.01843906007707119, 0.2489273101091385, 0.0921953022480011, 0.19361013174057007, 0.5860553979873657, 0.8228384256362915, 0.5956424474716187, 0.8924652934074402, 0.25082239508628845, 0.5016447901725769, 0.5973840355873108, 0.3905056118965149, 0.02789325825870037, 0.5578652024269104, 0.5754087567329407, 0.38360583782196045, 0.5967061519622803, 0.6141862869262695, 0.3509635925292969, 0.5711542367935181, 0.3807694911956787, 0.7363062500953674, 0.7961456775665283, 0.6102982759475708, 0.00938920397311449, 0.375568151473999, 0.8938825130462646, 0.8591035604476929, 0.7117164731025696, 0.14234329760074615, 0.28754544258117676, 0.28754544258117676, 0.09584848582744598, 0.28754544258117676, 0.5971601009368896, 0.5414894819259644, 0.38677820563316345, 0.7887476682662964, 0.5862816572189331, 0.7875930070877075, 0.46616315841674805, 0.596139669418335, 0.6724146008491516, 0.039553798735141754, 0.039553798735141754, 0.23732280731201172, 0.20999929308891296, 0.35999879240989685, 0.11999959498643875, 0.029999898746609688, 0.2399991899728775, 0.029999898746609688, 0.03653853014111519, 0.4019238352775574, 0.2923082411289215, 0.07307706028223038, 0.21923117339611053, 0.2746247947216034, 0.1373123973608017, 0.5492495894432068, 0.788792610168457, 0.59674072265625, 0.4996206760406494, 0.09992413222789764, 0.04996206611394882, 0.34973448514938354, 0.7861133217811584, 0.5150046944618225, 0.5150046944618225, 0.5797286629676819, 0.3478372097015381, 0.24924568831920624, 0.4984913766384125, 0.5711511969566345, 0.38076746463775635, 0.5971543192863464, 0.5944768786430359, 0.8460581302642822, 0.6700465083122253, 0.33502325415611267, 0.5711671113967896, 0.3427002727985382, 0.2932218313217163, 0.27489545941352844, 0.01832636445760727, 0.09163182228803635, 0.20159000158309937, 0.10995818674564362, 0.5814211964607239, 0.3876141309738159], \"Term\": [\"ability\", \"ability\", \"accuracy\", \"achievement_standard\", \"achievement_standard\", \"achievement_standard\", \"achievement_standard\", \"action\", \"action\", \"activity\", \"activity\", \"adaptation\", \"adult\", \"algebra\", \"amount\", \"analyse\", \"angle\", \"angle\", \"angle\", \"answer\", \"answer\", \"appreciation\", \"appropriateness\", \"area\", \"area\", \"area\", \"area\", \"area\", \"arithmetic\", \"aspect\", \"aspect\", \"aspect\", \"aspect\", \"aspiration\", \"atom\", \"attitude\", \"audience\", \"band_planning\", \"band_planning\", \"basis\", \"behaviour\", \"behaviour\", \"belief\", \"benefit\", \"benefit\", \"body\", \"body\", \"body\", \"book\", \"calculation\", \"calculation\", \"career\", \"cause\", \"century\", \"chain\", \"challenge\", \"chance\", \"chance\", \"change\", \"change\", \"change\", \"chapter\", \"chapters_heading\", \"character\", \"circuit\", \"circumstance\", \"class\", \"class\", \"classification\", \"classification\", \"classmate\", \"classroom\", \"clause\", \"collection\", \"combination\", \"commonality\", \"community\", \"community_member\", \"community_member\", \"comparison\", \"comparison\", \"competence\", \"complement\", \"complexity\", \"complexity\", \"component\", \"component\", \"confidence\", \"congruence\", \"connection\", \"connection\", \"conservation\", \"content\", \"content\", \"content\", \"content\", \"content\", \"content\", \"contents_indexe\", \"context\", \"context\", \"context\", \"context\", \"convention\", \"core\", \"counting\", \"culture\", \"curriculum\", \"curriculum\", \"curriculum\", \"curriculum\", \"curriculum\", \"curriculum\", \"data\", \"datum\", \"datum\", \"decay\", \"decimal\", \"decision\", \"decision\", \"decision\", \"description\", \"description\", \"description\", \"design\", \"destination\", \"detail\", \"detail\", \"diagram\", \"diagram\", \"dilemma\", \"discussion\", \"display\", \"display\", \"diversity\", \"division\", \"duration\", \"ecosystem\", \"effect\", \"elaboration\", \"electricity\", \"electron\", \"emotion\", \"endeavour\", \"endeavour\", \"energy\", \"energy\", \"enjoyment\", \"enjoyment\", \"environment\", \"environment\", \"environment\", \"equation\", \"equation\", \"estimate\", \"event\", \"event\", \"event\", \"event\", \"event\", \"evidence\", \"evidence\", \"expectation\", \"expectation\", \"expectation\", \"experience\", \"experience\", \"experience\", \"experience\", \"experiment\", \"experiment\", \"experimentation\", \"exploration\", \"exposition\", \"expression\", \"expression\", \"expressions\", \"face\", \"face\", \"factor\", \"fantasy\", \"feature\", \"feature\", \"fiction\", \"film\", \"film\", \"flow\", \"flow\", \"fluency\", \"fluency\", \"food\", \"force\", \"force\", \"foundation\", \"fraction\", \"fraction\", \"fractions_decimal\", \"fractions_decimal\", \"framework\", \"frequency\", \"frequency\", \"function\", \"function\", \"generation\", \"genre\", \"glossaries_language\", \"graph\", \"graphic\", \"group\", \"happening\", \"health\", \"health\", \"help\", \"idea\", \"idea\", \"identity\", \"identity\", \"illustration\", \"impact\", \"impact\", \"index\", \"index\", \"individuals_group\", \"influence\", \"information\", \"information\", \"information\", \"information\", \"inquiry\", \"inquiry\", \"interaction\", \"interaction\", \"interaction\", \"interdependency\", \"interest\", \"interest\", \"interest\", \"interest\", \"knowledge\", \"knowledge\", \"knowledge\", \"language\", \"language\", \"language\", \"language\", \"learn\", \"learn\", \"learn\", \"learner\", \"leisure\", \"length\", \"light\", \"line\", \"link\", \"liquid\", \"loss\", \"manipulation\", \"map\", \"material\", \"material\", \"mathematic\", \"mathematic\", \"matter\", \"matter\", \"medicine\", \"medium\", \"medium\", \"message\", \"method\", \"model\", \"model\", \"model\", \"model\", \"model\", \"modelling\", \"movement\", \"movement\", \"movement\", \"multiplication\", \"name\", \"neutron\", \"newspaper\", \"night\", \"notion\", \"novel\", \"number\", \"number\", \"number\", \"observation\", \"operation\", \"operation\", \"operation\", \"opportunitie\", \"opportunity\", \"opportunity\", \"option\", \"organ\", \"other\", \"outcome\", \"outcome\", \"page\", \"part\", \"part\", \"part\", \"participation\", \"participation\", \"partitioning\", \"partitioning\", \"pattern\", \"pattern\", \"pattern\", \"pattern\", \"pattern\", \"peers_teacher\", \"peers_teacher\", \"people\", \"people\\u00e2\\u0080\\u0099s\", \"percentage\", \"performance\", \"performance\", \"perimeter\", \"perimeter\", \"period\", \"period\", \"persistence\", \"perspective\", \"phenomena\", \"picture\", \"planning\", \"play\", \"plot\", \"poetry\", \"poetry\", \"population\", \"position\", \"prediction\", \"prediction\", \"print\", \"probability\", \"probability\", \"problem\", \"problem\", \"problem\", \"proficiency\", \"proficiency\", \"proficiency\", \"profit\", \"programming\", \"programs_decision\", \"programs_decision\", \"property\", \"property\", \"property\", \"property\", \"proton\", \"punctuation\", \"purpose\", \"purpose\", \"purpose\", \"push\", \"quantity\", \"question\", \"question\", \"range\", \"range\", \"range\", \"range\", \"range\", \"range\", \"range\", \"ratio\", \"ratio\", \"ratio\", \"reader\", \"reader\", \"reason\", \"reason\", \"reasonableness\", \"reasoning\", \"reasoning\", \"recount\", \"recreation\", \"reference\", \"relation\", \"relation\", \"relationship\", \"relationship\", \"relationship\", \"relationship\", \"relationship\", \"report\", \"report\", \"report\", \"representation\", \"representation\", \"representation\", \"response\", \"result\", \"result\", \"retellings\", \"role\", \"role\", \"safety\", \"safety\", \"scale\", \"scale\", \"schools_teacher\", \"schools_teacher\", \"science\", \"science\", \"sequence\", \"sequence\", \"sequence\", \"sequence\", \"sequence\", \"set\", \"set\", \"setting\", \"setting\", \"shape\", \"shape\", \"shape\", \"sight\", \"significance\", \"significance\", \"significance\", \"similarity\", \"similarity\", \"situation\", \"situation\", \"situation\", \"skill\", \"skill\", \"skill\", \"skill\", \"skill\", \"solid\", \"sport\", \"statement\", \"statistics_probability\", \"statistics_probability\", \"story\", \"strand\", \"strand\", \"strand\", \"strand\", \"strategy\", \"strategy\", \"strategy\", \"strategy\", \"structure\", \"structure\", \"structure\", \"structure\", \"student\", \"student\", \"student\", \"student\", \"student\", \"student\", \"sub\", \"subheadings_table\", \"subtraction\", \"support\", \"surface\", \"surface\", \"survival\", \"system\", \"system\", \"system\", \"table\", \"table\", \"task\", \"teacher\", \"teacher\", \"teaching_learne\", \"teaching_learne\", \"team\", \"technicality\", \"text\", \"text\", \"text\", \"theme\", \"theory\", \"thing\", \"thing\", \"time\", \"time\", \"time\", \"time\", \"timescale\", \"topic\", \"topic\", \"transfer\", \"trend\", \"triangle\", \"trigonometry\", \"turn\", \"type\", \"type\", \"type\", \"type\", \"understand\", \"understand\", \"understand\", \"understand\", \"understand\", \"understand\", \"understanding\", \"understanding\", \"understanding\", \"understanding\", \"understanding\", \"use\", \"use\", \"use\", \"variable\", \"variation\", \"variety\", \"variety\", \"variety\", \"variety\", \"verse\", \"view\", \"view\", \"vocabulary\", \"vocabulary\", \"volume\", \"volume\", \"way_order\", \"way_order\", \"webs\", \"wellbeing\", \"word\", \"work\", \"work\", \"world\", \"world\", \"year\", \"year\", \"year\", \"year\", \"year\", \"year\", \"year_level\", \"year_level\"]}, \"R\": 30, \"lambda.step\": 0.01, \"plot.opts\": {\"xlab\": \"PC1\", \"ylab\": \"PC2\"}, \"topic.order\": [1, 2, 4, 3, 7, 6, 5, 8]};\n",
       "\n",
       "function LDAvis_load_lib(url, callback){\n",
       "  var s = document.createElement('script');\n",
       "  s.src = url;\n",
       "  s.async = true;\n",
       "  s.onreadystatechange = s.onload = callback;\n",
       "  s.onerror = function(){console.warn(\"failed to load library \" + url);};\n",
       "  document.getElementsByTagName(\"head\")[0].appendChild(s);\n",
       "}\n",
       "\n",
       "if(typeof(LDAvis) !== \"undefined\"){\n",
       "   // already loaded: just create the visualization\n",
       "   !function(LDAvis){\n",
       "       new LDAvis(\"#\" + \"ldavis_el8279768819221287103309169\", ldavis_el8279768819221287103309169_data);\n",
       "   }(LDAvis);\n",
       "}else if(typeof define === \"function\" && define.amd){\n",
       "   // require.js is available: use it to load d3/LDAvis\n",
       "   require.config({paths: {d3: \"https://cdnjs.cloudflare.com/ajax/libs/d3/3.5.5/d3.min\"}});\n",
       "   require([\"d3\"], function(d3){\n",
       "      window.d3 = d3;\n",
       "      LDAvis_load_lib(\"https://cdn.rawgit.com/bmabey/pyLDAvis/files/ldavis.v1.0.0.js\", function(){\n",
       "        new LDAvis(\"#\" + \"ldavis_el8279768819221287103309169\", ldavis_el8279768819221287103309169_data);\n",
       "      });\n",
       "    });\n",
       "}else{\n",
       "    // require.js not available: dynamically load d3 & LDAvis\n",
       "    LDAvis_load_lib(\"https://cdnjs.cloudflare.com/ajax/libs/d3/3.5.5/d3.min.js\", function(){\n",
       "         LDAvis_load_lib(\"https://cdn.rawgit.com/bmabey/pyLDAvis/files/ldavis.v1.0.0.js\", function(){\n",
       "                 new LDAvis(\"#\" + \"ldavis_el8279768819221287103309169\", ldavis_el8279768819221287103309169_data);\n",
       "            })\n",
       "         });\n",
       "}\n",
       "</script>"
      ],
      "text/plain": [
       "PreparedData(topic_coordinates=              x         y  topics  cluster       Freq\n",
       "topic                                                \n",
       "0     -0.253924  0.051429       1        1  21.268322\n",
       "1      0.066184 -0.221601       2        1  15.682663\n",
       "3      0.196149  0.122102       3        1  15.207397\n",
       "2     -0.032089 -0.005739       4        1  14.411651\n",
       "6      0.030194 -0.217990       5        1  11.939601\n",
       "5     -0.219398  0.089487       6        1  10.240904\n",
       "4      0.200345  0.146536       7        1  10.232541\n",
       "7      0.012540  0.035775       8        1   1.016924, topic_info=    Category        Freq           Term       Total  loglift  logprob\n",
       "20   Default  106.000000           text  106.000000  30.0000  30.0000\n",
       "119  Default   39.000000       activity   39.000000  29.0000  29.0000\n",
       "132  Default   38.000000       movement   38.000000  28.0000  28.0000\n",
       "349  Default   42.000000        science   42.000000  27.0000  27.0000\n",
       "167  Default   35.000000         system   35.000000  26.0000  26.0000\n",
       "231  Default   54.000000         strand   54.000000  25.0000  25.0000\n",
       "31   Default   94.000000        content   94.000000  24.0000  24.0000\n",
       "19   Default  108.000000        student  108.000000  23.0000  23.0000\n",
       "181  Default   30.000000    proficiency   30.000000  22.0000  22.0000\n",
       "187  Default   30.000000        problem   30.000000  21.0000  21.0000\n",
       "45   Default   28.000000         number   28.000000  20.0000  20.0000\n",
       "12   Default   52.000000          range   52.000000  19.0000  19.0000\n",
       "138  Default   36.000000          skill   36.000000  18.0000  18.0000\n",
       "127  Default   16.000000         health   16.000000  17.0000  17.0000\n",
       "222  Default   19.000000     mathematic   19.000000  16.0000  16.0000\n",
       "219  Default   18.000000        fluency   18.000000  15.0000  15.0000\n",
       "8    Default   20.000000    performance   20.000000  14.0000  14.0000\n",
       "80   Default   13.000000         medium   13.000000  13.0000  13.0000\n",
       "10   Default   14.000000         poetry   14.000000  12.0000  12.0000\n",
       "21   Default   25.000000           type   25.000000  11.0000  11.0000\n",
       "228  Default   14.000000         reason   14.000000  10.0000  10.0000\n",
       "144  Default   19.000000         change   19.000000   9.0000   9.0000\n",
       "373  Default   11.000000         energy   11.000000   8.0000   8.0000\n",
       "140  Default   27.000000  understanding   27.000000   7.0000   7.0000\n",
       "24   Default   54.000000           year   54.000000   6.0000   6.0000\n",
       "345  Default   10.000000    observation   10.000000   5.0000   5.0000\n",
       "22   Default   20.000000        variety   20.000000   4.0000   4.0000\n",
       "137  Default   10.000000         safety   10.000000   3.0000   3.0000\n",
       "366  Default   11.000000         matter   11.000000   2.0000   2.0000\n",
       "323  Default   13.000000          scale   13.000000   1.0000   1.0000\n",
       "..       ...         ...            ...         ...      ...      ...\n",
       "330   Topic8    0.384548   independence    1.162554   3.4821  -4.3367\n",
       "329   Topic8    0.384521        formula    1.162607   3.4820  -4.3367\n",
       "338   Topic8    0.384487       unknowns    1.162668   3.4818  -4.3368\n",
       "334   Topic8    0.384412           step    1.162767   3.4815  -4.3370\n",
       "332   Topic8    0.384181        lengths    1.163159   3.4806  -4.3376\n",
       "335   Topic8    0.384117   substitution    1.163314   3.4803  -4.3378\n",
       "308   Topic8    0.384739     congruence    2.024379   2.9279  -4.3362\n",
       "326   Topic8    0.367782   trigonometry    2.145172   2.8249  -4.3812\n",
       "324   Topic8    0.376616     similarity    3.020227   2.5065  -4.3575\n",
       "16    Topic8    0.269629      statement    2.201772   2.4884  -4.6917\n",
       "321   Topic8    0.361391          graph    3.109544   2.4361  -4.3988\n",
       "325   Topic8    0.369031        surface    3.986885   2.2085  -4.3778\n",
       "161   Topic8    0.381253       relation    4.887972   2.0373  -4.3453\n",
       "303   Topic8    0.227448         volume    4.012105   1.7182  -4.8618\n",
       "43    Topic8    0.373194       interest    7.316871   1.6125  -4.3666\n",
       "257   Topic8    0.135974       fraction    4.132211   1.1743  -5.3763\n",
       "292   Topic8    0.138938     expression    4.316315   1.1523  -5.3547\n",
       "202   Topic8    0.050079     peopleâs    1.679599   1.0757  -6.3751\n",
       "35    Topic8    0.245062          event    8.295863   1.0664  -4.7872\n",
       "192   Topic8    0.048913         belief    1.681415   1.0510  -6.3987\n",
       "203   Topic8    0.048497     recreation    1.682064   1.0421  -6.4072\n",
       "206   Topic8    0.048452      wellbeing    1.682151   1.0411  -6.4082\n",
       "191   Topic8    0.047827       attitude    1.683131   1.0276  -6.4211\n",
       "80    Topic8    0.363188         medium   13.523393   0.9711  -4.3938\n",
       "250   Topic8    0.154679      operation    5.826179   0.9596  -5.2474\n",
       "279   Topic8    0.119648    probability    5.889977   0.6919  -5.5042\n",
       "12    Topic8    0.518011          range   52.831841  -0.0365  -4.0387\n",
       "62    Topic8    0.117736        context   17.310539  -0.4022  -5.5203\n",
       "31    Topic8    0.188032        content   94.620842  -1.6326  -5.0521\n",
       "140   Topic8    0.123950  understanding   27.368370  -0.8089  -5.4688\n",
       "\n",
       "[443 rows x 6 columns], token_table=      Topic      Freq                  Term\n",
       "term                                       \n",
       "117       4  0.229841               ability\n",
       "117       5  0.689524               ability\n",
       "389       5  0.597420              accuracy\n",
       "214       2  0.261688  achievement_standard\n",
       "214       3  0.314025  achievement_standard\n",
       "214       5  0.209350  achievement_standard\n",
       "214       7  0.209350  achievement_standard\n",
       "118       2  0.155572                action\n",
       "118       4  0.622287                action\n",
       "119       1  0.101285              activity\n",
       "119       4  0.860925              activity\n",
       "386       2  0.586123            adaptation\n",
       "0         3  0.786108                 adult\n",
       "304       7  0.597079               algebra\n",
       "398       5  0.883047                amount\n",
       "93        1  0.925481               analyse\n",
       "253       3  0.463191                 angle\n",
       "253       4  0.115798                 angle\n",
       "253       7  0.347393                 angle\n",
       "215       2  0.232389                answer\n",
       "215       3  0.697168                answer\n",
       "370       2  0.586254          appreciation\n",
       "266       7  0.596744       appropriateness\n",
       "28        1  0.147582                  area\n",
       "28        3  0.147582                  area\n",
       "28        4  0.344357                  area\n",
       "28        6  0.196775                  area\n",
       "28        7  0.196775                  area\n",
       "305       7  0.597281            arithmetic\n",
       "216       2  0.144719                aspect\n",
       "...     ...       ...                   ...\n",
       "397       5  0.788793              variable\n",
       "265       7  0.596741             variation\n",
       "22        1  0.499621               variety\n",
       "22        4  0.099924               variety\n",
       "22        5  0.049962               variety\n",
       "22        6  0.349734               variety\n",
       "23        3  0.786113                 verse\n",
       "89        1  0.515005                  view\n",
       "89        5  0.515005                  view\n",
       "58        1  0.579729            vocabulary\n",
       "58        6  0.347837            vocabulary\n",
       "303       3  0.249246                volume\n",
       "303       7  0.498491                volume\n",
       "353       2  0.571151             way_order\n",
       "353       5  0.380767             way_order\n",
       "407       5  0.597154                  webs\n",
       "206       1  0.594477             wellbeing\n",
       "59        6  0.846058                  word\n",
       "60        3  0.670047                  work\n",
       "60        6  0.335023                  work\n",
       "90        1  0.571167                 world\n",
       "90        2  0.342700                 world\n",
       "24        1  0.293222                  year\n",
       "24        2  0.274895                  year\n",
       "24        3  0.018326                  year\n",
       "24        4  0.091632                  year\n",
       "24        5  0.201590                  year\n",
       "24        6  0.109958                  year\n",
       "232       3  0.581421            year_level\n",
       "232       7  0.387614            year_level\n",
       "\n",
       "[546 rows x 3 columns], R=30, lambda_step=0.01, plot_opts={'xlab': 'PC1', 'ylab': 'PC2'}, topic_order=[1, 2, 4, 3, 7, 6, 5, 8])"
      ]
     },
     "execution_count": 44,
     "metadata": {},
     "output_type": "execute_result"
    }
   ],
   "source": [
    "# Visualize the topics\n",
    "pyLDAvis.enable_notebook()\n",
    "vis = pyLDAvis.gensim.prepare(lda_model, corpus, id2word)\n",
    "vis"
   ]
  },
  {
   "cell_type": "markdown",
   "metadata": {},
   "source": [
    "### Find optimal number of topics"
   ]
  },
  {
   "cell_type": "code",
   "execution_count": 23,
   "metadata": {},
   "outputs": [],
   "source": [
    "def compute_coherence_values(dictionary, corpus, texts, limit, start=2, step=3):\n",
    "    \"\"\"\n",
    "    Compute c_v coherence for various number of topics\n",
    "\n",
    "    Parameters:\n",
    "    ----------\n",
    "    dictionary : Gensim dictionary\n",
    "    corpus : Gensim corpus\n",
    "    texts : List of input texts\n",
    "    limit : Max num of topics\n",
    "\n",
    "    Returns:\n",
    "    -------\n",
    "    model_list : List of LDA topic models\n",
    "    coherence_values : Coherence values corresponding to the LDA model with respective number of topics\n",
    "    \"\"\"\n",
    "    coherence_values = []\n",
    "    model_list = []\n",
    "    for num_topics in range(start, limit, step):\n",
    "        model = gensim.models.ldamodel.LdaModel(corpus=corpus,\n",
    "                                        id2word=id2word,\n",
    "                                        num_topics=num_topics, \n",
    "                                       random_state=100,\n",
    "                                       update_every=1,\n",
    "                                       chunksize=100,\n",
    "                                       passes=10,\n",
    "                                       alpha='auto',\n",
    "                                       per_word_topics=True)\n",
    "        model_list.append(model)\n",
    "        coherencemodel = CoherenceModel(model=model, texts=texts, dictionary=dictionary, coherence='c_v')\n",
    "        coherence_values.append(coherencemodel.get_coherence())\n",
    "\n",
    "    return model_list, coherence_values"
   ]
  },
  {
   "cell_type": "code",
   "execution_count": 24,
   "metadata": {},
   "outputs": [],
   "source": [
    "model_list, coherence_values = compute_coherence_values(dictionary=id2word, \n",
    "                                                        corpus=corpus, \n",
    "                                                        texts=data_lemmatized, \n",
    "                                                        start=1, \n",
    "                                                        limit=30, \n",
    "                                                        step=1)"
   ]
  },
  {
   "cell_type": "code",
   "execution_count": 25,
   "metadata": {},
   "outputs": [
    {
     "name": "stdout",
     "output_type": "stream",
     "text": [
      "range(1, 30, 5)\n"
     ]
    }
   ],
   "source": [
    "x = range(1, 30, 5)\n",
    "print (x)"
   ]
  },
  {
   "cell_type": "code",
   "execution_count": 26,
   "metadata": {},
   "outputs": [
    {
     "data": {
      "image/png": "[encoded data removed]",
      "text/plain": [
       "<Figure size 1200x800 with 1 Axes>"
      ]
     },
     "metadata": {
      "needs_background": "light"
     },
     "output_type": "display_data"
    },
    {
     "data": {
      "text/plain": [
       "<Figure size 432x288 with 0 Axes>"
      ]
     },
     "metadata": {},
     "output_type": "display_data"
    }
   ],
   "source": [
    "# Show graph\n",
    "start=1; limit=30; step=1;\n",
    "x = range(start, limit, step)\n",
    "\n",
    "from matplotlib import rc\n",
    "rc('text', usetex=True)\n",
    "\n",
    "plt.figure(dpi=200)\n",
    "plt.plot(x, coherence_values)\n",
    "plt.xlabel(\"Numer of Topics\")\n",
    "plt.ylabel(\"Coherence Score\")\n",
    "plt.show()\n",
    "plt.savefig('coherence')"
   ]
  },
  {
   "cell_type": "code",
   "execution_count": 27,
   "metadata": {},
   "outputs": [
    {
     "name": "stdout",
     "output_type": "stream",
     "text": [
      "Num Topics = 1  has Coherence Value of 0.29\n",
      "Num Topics = 2  has Coherence Value of 0.381\n",
      "Num Topics = 3  has Coherence Value of 0.4918\n",
      "Num Topics = 4  has Coherence Value of 0.6678\n",
      "Num Topics = 5  has Coherence Value of 0.7196\n",
      "Num Topics = 6  has Coherence Value of 0.7274\n",
      "Num Topics = 7  has Coherence Value of 0.6559\n",
      "Num Topics = 8  has Coherence Value of 0.741\n",
      "Num Topics = 9  has Coherence Value of 0.705\n",
      "Num Topics = 10  has Coherence Value of 0.7313\n",
      "Num Topics = 11  has Coherence Value of 0.7952\n",
      "Num Topics = 12  has Coherence Value of 0.6685\n",
      "Num Topics = 13  has Coherence Value of 0.7501\n",
      "Num Topics = 14  has Coherence Value of 0.8574\n",
      "Num Topics = 15  has Coherence Value of 0.838\n",
      "Num Topics = 16  has Coherence Value of 0.7623\n",
      "Num Topics = 17  has Coherence Value of 0.7053\n",
      "Num Topics = 18  has Coherence Value of 0.807\n",
      "Num Topics = 19  has Coherence Value of 0.7065\n",
      "Num Topics = 20  has Coherence Value of 0.752\n",
      "Num Topics = 21  has Coherence Value of 0.7366\n",
      "Num Topics = 22  has Coherence Value of 0.7761\n",
      "Num Topics = 23  has Coherence Value of 0.7734\n",
      "Num Topics = 24  has Coherence Value of 0.7398\n",
      "Num Topics = 25  has Coherence Value of 0.7759\n",
      "Num Topics = 26  has Coherence Value of 0.7652\n",
      "Num Topics = 27  has Coherence Value of 0.746\n",
      "Num Topics = 28  has Coherence Value of 0.7076\n",
      "Num Topics = 29  has Coherence Value of 0.7672\n"
     ]
    }
   ],
   "source": [
    "# Print the coherence scores\n",
    "for m, cv in zip(x, coherence_values):\n",
    "    print(\"Num Topics =\", m, \" has Coherence Value of\", round(cv, 4))"
   ]
  },
  {
   "cell_type": "code",
   "execution_count": 28,
   "metadata": {},
   "outputs": [],
   "source": [
    "optimal_model = model_list[1]\n",
    "model_topics = optimal_model.show_topics(formatted=False)\n",
    "#pprint(optimal_model.print_topics(num_words=10))"
   ]
  },
  {
   "cell_type": "markdown",
   "metadata": {},
   "source": [
    "### Define dominant topics in each sentence"
   ]
  },
  {
   "cell_type": "code",
   "execution_count": 29,
   "metadata": {},
   "outputs": [],
   "source": [
    "def format_topics_sentences(ldamodel=None, corpus=corpus, texts=texts):\n",
    "    sent_topics_df = pd.DataFrame()\n",
    "\n",
    "    # Get main topic in each document\n",
    "    for i, row_list in enumerate(ldamodel[corpus]):\n",
    "        row = row_list[0] if ldamodel.per_word_topics else row_list            \n",
    "        # print(row)\n",
    "        row = sorted(row, key=lambda x: (x[1]), reverse=True)\n",
    "        # Get the Dominant topic, Perc Contribution and Keywords for each document\n",
    "        for j, (topic_num, prop_topic) in enumerate(row):\n",
    "            if j == 0:  # => dominant topic\n",
    "                wp = ldamodel.show_topic(topic_num)\n",
    "                topic_keywords = \", \".join([word for word, prop in wp])\n",
    "                sent_topics_df = sent_topics_df.append(pd.Series([int(topic_num), round(prop_topic,4), topic_keywords]), ignore_index=True)\n",
    "            else:\n",
    "                break\n",
    "    sent_topics_df.columns = ['Dominant_Topic', 'Perc_Contribution', 'Topic_Keywords']\n",
    "\n",
    "    contents = pd.Series(texts)\n",
    "    sent_topics_df = pd.concat([sent_topics_df, contents], axis=1)\n",
    "    return(sent_topics_df)"
   ]
  },
  {
   "cell_type": "code",
   "execution_count": 30,
   "metadata": {},
   "outputs": [
    {
     "data": {
      "text/html": [
       "<div>\n",
       "<style scoped>\n",
       "    .dataframe tbody tr th:only-of-type {\n",
       "        vertical-align: middle;\n",
       "    }\n",
       "\n",
       "    .dataframe tbody tr th {\n",
       "        vertical-align: top;\n",
       "    }\n",
       "\n",
       "    .dataframe thead th {\n",
       "        text-align: right;\n",
       "    }\n",
       "</style>\n",
       "<table border=\"1\" class=\"dataframe\">\n",
       "  <thead>\n",
       "    <tr style=\"text-align: right;\">\n",
       "      <th></th>\n",
       "      <th>Document_No</th>\n",
       "      <th>Dominant_Topic</th>\n",
       "      <th>Topic_Perc_Contrib</th>\n",
       "      <th>Keywords</th>\n",
       "      <th>Text</th>\n",
       "    </tr>\n",
       "  </thead>\n",
       "  <tbody>\n",
       "    <tr>\n",
       "      <th>0</th>\n",
       "      <td>0</td>\n",
       "      <td>3.0</td>\n",
       "      <td>0.9768</td>\n",
       "      <td>text, student, poetry, range, performance, var...</td>\n",
       "      <td>[Foundation, year, students, peers, teachers, ...</td>\n",
       "    </tr>\n",
       "    <tr>\n",
       "      <th>1</th>\n",
       "      <td>1</td>\n",
       "      <td>3.0</td>\n",
       "      <td>0.9733</td>\n",
       "      <td>text, student, poetry, range, performance, var...</td>\n",
       "      <td>[Year, students, peers, teachers, adults, stud...</td>\n",
       "    </tr>\n",
       "    <tr>\n",
       "      <th>2</th>\n",
       "      <td>2</td>\n",
       "      <td>3.0</td>\n",
       "      <td>0.9877</td>\n",
       "      <td>text, student, poetry, range, performance, var...</td>\n",
       "      <td>[Year, students, peers, teachers, students, cl...</td>\n",
       "    </tr>\n",
       "    <tr>\n",
       "      <th>3</th>\n",
       "      <td>3</td>\n",
       "      <td>3.0</td>\n",
       "      <td>0.9895</td>\n",
       "      <td>text, student, poetry, range, performance, var...</td>\n",
       "      <td>[Years, students, contexts, range, contexts, a...</td>\n",
       "    </tr>\n",
       "    <tr>\n",
       "      <th>4</th>\n",
       "      <td>4</td>\n",
       "      <td>3.0</td>\n",
       "      <td>0.9896</td>\n",
       "      <td>text, student, poetry, range, performance, var...</td>\n",
       "      <td>[Years, students, contexts, range, contexts, a...</td>\n",
       "    </tr>\n",
       "  </tbody>\n",
       "</table>\n",
       "</div>"
      ],
      "text/plain": [
       "   Document_No  Dominant_Topic  Topic_Perc_Contrib  \\\n",
       "0            0             3.0              0.9768   \n",
       "1            1             3.0              0.9733   \n",
       "2            2             3.0              0.9877   \n",
       "3            3             3.0              0.9895   \n",
       "4            4             3.0              0.9896   \n",
       "\n",
       "                                            Keywords  \\\n",
       "0  text, student, poetry, range, performance, var...   \n",
       "1  text, student, poetry, range, performance, var...   \n",
       "2  text, student, poetry, range, performance, var...   \n",
       "3  text, student, poetry, range, performance, var...   \n",
       "4  text, student, poetry, range, performance, var...   \n",
       "\n",
       "                                                Text  \n",
       "0  [Foundation, year, students, peers, teachers, ...  \n",
       "1  [Year, students, peers, teachers, adults, stud...  \n",
       "2  [Year, students, peers, teachers, students, cl...  \n",
       "3  [Years, students, contexts, range, contexts, a...  \n",
       "4  [Years, students, contexts, range, contexts, a...  "
      ]
     },
     "execution_count": 30,
     "metadata": {},
     "output_type": "execute_result"
    }
   ],
   "source": [
    "df_topic_sents_keywords = format_topics_sentences(ldamodel=lda_model, corpus=corpus, texts=data_nouns)\n",
    "\n",
    "# Format\n",
    "df_dominant_topic = df_topic_sents_keywords.reset_index()\n",
    "df_dominant_topic.columns = ['Document_No', 'Dominant_Topic', 'Topic_Perc_Contrib', 'Keywords', 'Text']\n",
    "df_dominant_topic.head()"
   ]
  },
  {
   "cell_type": "code",
   "execution_count": 31,
   "metadata": {},
   "outputs": [],
   "source": [
    "# Number of Documents for Each Topic\n",
    "topic_counts = df_topic_sents_keywords['Dominant_Topic'].value_counts()\n",
    "\n",
    "# Percentage of Documents for Each Topic\n",
    "topic_contribution = round(topic_counts/topic_counts.sum(), 4)\n",
    "\n",
    "# Topic Number and Keywords\n",
    "topic_num_keywords = df_topic_sents_keywords[['Dominant_Topic', 'Topic_Keywords']]\n",
    "\n",
    "# Concatenate Column wise\n",
    "df_dominant_topics = pd.concat([topic_num_keywords, topic_counts, topic_contribution], axis=1)\n",
    "\n",
    "# Change Column names\n",
    "df_dominant_topics.columns = ['Dominant_Topic', 'Topic_Keywords', 'Num_Documents', 'Perc_Documents']\n",
    "\n",
    "# Show\n",
    "#df_dominant_topics"
   ]
  },
  {
   "cell_type": "markdown",
   "metadata": {},
   "source": [
    "### Frequency Distribution of Word Counts in Documents"
   ]
  },
  {
   "cell_type": "code",
   "execution_count": 32,
   "metadata": {},
   "outputs": [
    {
     "data": {
      "text/html": [
       "<div>\n",
       "<style scoped>\n",
       "    .dataframe tbody tr th:only-of-type {\n",
       "        vertical-align: middle;\n",
       "    }\n",
       "\n",
       "    .dataframe tbody tr th {\n",
       "        vertical-align: top;\n",
       "    }\n",
       "\n",
       "    .dataframe thead th {\n",
       "        text-align: right;\n",
       "    }\n",
       "</style>\n",
       "<table border=\"1\" class=\"dataframe\">\n",
       "  <thead>\n",
       "    <tr style=\"text-align: right;\">\n",
       "      <th></th>\n",
       "      <th>Topic_Num</th>\n",
       "      <th>Topic_Perc_Contrib</th>\n",
       "      <th>Keywords</th>\n",
       "      <th>Representative Text</th>\n",
       "    </tr>\n",
       "  </thead>\n",
       "  <tbody>\n",
       "    <tr>\n",
       "      <th>0</th>\n",
       "      <td>0.0</td>\n",
       "      <td>0.9921</td>\n",
       "      <td>activity, movement, student, skill, health, year, curriculum, range, relationship, safety</td>\n",
       "      <td>[Year, curriculum, knowledge, understanding, skills, outcomes, classroom, leisure, movement, sit...</td>\n",
       "    </tr>\n",
       "    <tr>\n",
       "      <th>1</th>\n",
       "      <td>1.0</td>\n",
       "      <td>0.9883</td>\n",
       "      <td>science, strand, system, content, student, year, understand, change, scale, pattern</td>\n",
       "      <td>[science, inquiry, skills, science, endeavour, strands, year, band, planning, schools, teachers,...</td>\n",
       "    </tr>\n",
       "    <tr>\n",
       "      <th>2</th>\n",
       "      <td>2.0</td>\n",
       "      <td>0.9788</td>\n",
       "      <td>content, skill, strand, learn, student, knowledge, use, understanding, work, play</td>\n",
       "      <td>[content, year, level, strands, skills, learning, work, career, life, design, strand, turn, stra...</td>\n",
       "    </tr>\n",
       "    <tr>\n",
       "      <th>3</th>\n",
       "      <td>3.0</td>\n",
       "      <td>0.9896</td>\n",
       "      <td>text, student, poetry, range, performance, variety, book, type, year, class</td>\n",
       "      <td>[Years, students, contexts, range, contexts, areas, curriculum, peers, teachers, classes, school...</td>\n",
       "    </tr>\n",
       "    <tr>\n",
       "      <th>4</th>\n",
       "      <td>4.0</td>\n",
       "      <td>0.9885</td>\n",
       "      <td>content, proficiency, problem, number, mathematic, fluency, understanding, reason, language, datum</td>\n",
       "      <td>[proficiency, understanding, fluency, problem, reasoning, part, mathematics, content, content, s...</td>\n",
       "    </tr>\n",
       "    <tr>\n",
       "      <th>5</th>\n",
       "      <td>6.0</td>\n",
       "      <td>0.9905</td>\n",
       "      <td>text, student, range, type, year, medium, information, face, performance, structure</td>\n",
       "      <td>[Years, students, peers, teachers, individuals, groups, community, members, range, face, face, e...</td>\n",
       "    </tr>\n",
       "  </tbody>\n",
       "</table>\n",
       "</div>"
      ],
      "text/plain": [
       "   Topic_Num  Topic_Perc_Contrib  \\\n",
       "0        0.0              0.9921   \n",
       "1        1.0              0.9883   \n",
       "2        2.0              0.9788   \n",
       "3        3.0              0.9896   \n",
       "4        4.0              0.9885   \n",
       "5        6.0              0.9905   \n",
       "\n",
       "                                                                                             Keywords  \\\n",
       "0           activity, movement, student, skill, health, year, curriculum, range, relationship, safety   \n",
       "1                 science, strand, system, content, student, year, understand, change, scale, pattern   \n",
       "2                   content, skill, strand, learn, student, knowledge, use, understanding, work, play   \n",
       "3                         text, student, poetry, range, performance, variety, book, type, year, class   \n",
       "4  content, proficiency, problem, number, mathematic, fluency, understanding, reason, language, datum   \n",
       "5                 text, student, range, type, year, medium, information, face, performance, structure   \n",
       "\n",
       "                                                                                   Representative Text  \n",
       "0  [Year, curriculum, knowledge, understanding, skills, outcomes, classroom, leisure, movement, sit...  \n",
       "1  [science, inquiry, skills, science, endeavour, strands, year, band, planning, schools, teachers,...  \n",
       "2  [content, year, level, strands, skills, learning, work, career, life, design, strand, turn, stra...  \n",
       "3  [Years, students, contexts, range, contexts, areas, curriculum, peers, teachers, classes, school...  \n",
       "4  [proficiency, understanding, fluency, problem, reasoning, part, mathematics, content, content, s...  \n",
       "5  [Years, students, peers, teachers, individuals, groups, community, members, range, face, face, e...  "
      ]
     },
     "execution_count": 32,
     "metadata": {},
     "output_type": "execute_result"
    }
   ],
   "source": [
    "# Display setting to show more characters in column\n",
    "pd.options.display.max_colwidth = 100\n",
    "\n",
    "sent_topics_sorteddf_mallet = pd.DataFrame()\n",
    "sent_topics_outdf_grpd = df_topic_sents_keywords.groupby('Dominant_Topic')\n",
    "\n",
    "for i, grp in sent_topics_outdf_grpd:\n",
    "    sent_topics_sorteddf_mallet = pd.concat([sent_topics_sorteddf_mallet, \n",
    "                                             grp.sort_values(['Perc_Contribution'], ascending=False).head(1)], \n",
    "                                            axis=0)\n",
    "\n",
    "sent_topics_sorteddf_mallet.reset_index(drop=True, inplace=True)\n",
    "sent_topics_sorteddf_mallet.columns = ['Topic_Num', \"Topic_Perc_Contrib\", \"Keywords\", \"Representative Text\"]\n",
    "sent_topics_sorteddf_mallet.head(10)"
   ]
  },
  {
   "cell_type": "code",
   "execution_count": 33,
   "metadata": {},
   "outputs": [
    {
     "data": {
      "image/png": "[encoded data removed]",
      "text/plain": [
       "<Figure size 800x500 with 1 Axes>"
      ]
     },
     "metadata": {
      "needs_background": "light"
     },
     "output_type": "display_data"
    }
   ],
   "source": [
    "doc_lens = [len(d) for d in df_dominant_topic.Text]\n",
    "\n",
    "plt.figure(figsize=(8,5), dpi=100)\n",
    "plt.hist(doc_lens, bins = 50, color='navy')\n",
    "plt.gca().set(xlim=(0, 50), ylabel='Number of Documents', xlabel='Document Word Count')\n",
    "plt.tick_params(size=10)\n",
    "plt.xticks(np.linspace(0,50,9))\n",
    "plt.title('Distribution of Document Word Counts', fontdict=dict(size=10))\n",
    "plt.show()\n"
   ]
  },
  {
   "cell_type": "markdown",
   "metadata": {},
   "source": [
    "### Word Clouds of Top N Keywords in Each Topic"
   ]
  },
  {
   "cell_type": "code",
   "execution_count": 37,
   "metadata": {},
   "outputs": [
    {
     "name": "stderr",
     "output_type": "stream",
     "text": [
      "[nltk_data] Downloading package stopwords to\n",
      "[nltk_data]     /Users/qiusuwang/nltk_data...\n",
      "[nltk_data]   Unzipping corpora/stopwords.zip.\n"
     ]
    }
   ],
   "source": [
    "import matplotlib.pyplot as plt\n",
    "from wordcloud import WordCloud, STOPWORDS\n",
    "import matplotlib.colors as mcolors\n",
    "from nltk.corpus import stopwords\n",
    "import nltk\n",
    "nltk.download('stopwords')\n",
    "stop_words = stopwords.words('english')"
   ]
  },
  {
   "cell_type": "code",
   "execution_count": 45,
   "metadata": {},
   "outputs": [
    {
     "data": {
      "image/png": "[encoded data removed]",
      "text/plain": [
       "<Figure size 1440x720 with 8 Axes>"
      ]
     },
     "metadata": {
      "needs_background": "light"
     },
     "output_type": "display_data"
    }
   ],
   "source": [
    "cols = [color for name, color in mcolors.TABLEAU_COLORS.items()]  # more colors: 'mcolors.XKCD_COLORS'\n",
    "rc('text', usetex=True)\n",
    "cloud = WordCloud(stopwords=stop_words,\n",
    "                  background_color='white',\n",
    "                  width=2000,\n",
    "                  height=1800,\n",
    "                  max_words=8,\n",
    "                  colormap='tab10',\n",
    "                  min_font_size = 150,\n",
    "                  color_func=lambda *args, **kwargs: cols[i],\n",
    "                  prefer_horizontal=1.0)\n",
    "\n",
    "topics = lda_model.show_topics(formatted=False)\n",
    "\n",
    "fig, axes = plt.subplots(2, 4, figsize=(20,10), sharex=True, sharey=True)\n",
    "\n",
    "for i, ax in enumerate(axes.flatten()):\n",
    "    fig.add_subplot(ax)\n",
    "    topic_words = dict(topics[i][1])\n",
    "    cloud.generate_from_frequencies(topic_words, max_font_size=300)\n",
    "    plt.gca().imshow(cloud)\n",
    "    plt.gca().set_title('Topic ' + str(i), fontdict=dict(size=16))\n",
    "    plt.gca().axis('off')\n",
    "\n",
    "plt.subplots_adjust(wspace=0, hspace=0)\n",
    "plt.axis('off')\n",
    "plt.margins(x=0, y=0)\n",
    "plt.tight_layout()\n",
    "plt.show()\n"
   ]
  },
  {
   "cell_type": "code",
   "execution_count": 46,
   "metadata": {},
   "outputs": [
    {
     "data": {
      "text/plain": [
       "<Figure size 432x288 with 0 Axes>"
      ]
     },
     "metadata": {},
     "output_type": "display_data"
    }
   ],
   "source": [
    "plt.savefig('topic.png')"
   ]
  },
  {
   "cell_type": "markdown",
   "metadata": {},
   "source": [
    "### t-SNE Clustering Chart"
   ]
  },
  {
   "cell_type": "code",
   "execution_count": 39,
   "metadata": {},
   "outputs": [],
   "source": [
    "# Get topic weights and dominant topics ------------\n",
    "from sklearn.manifold import TSNE\n",
    "from bokeh.plotting import figure, output_file, show\n",
    "from bokeh.models import Label\n",
    "from bokeh.io import output_notebook"
   ]
  },
  {
   "cell_type": "code",
   "execution_count": 40,
   "metadata": {},
   "outputs": [
    {
     "name": "stdout",
     "output_type": "stream",
     "text": [
      "[t-SNE] Computing 41 nearest neighbors...\n",
      "[t-SNE] Indexed 42 samples in 0.000s...\n",
      "[t-SNE] Computed neighbors for 42 samples in 0.004s...\n",
      "[t-SNE] Computed conditional probabilities for sample 42 / 42\n",
      "[t-SNE] Mean sigma: 0.359498\n",
      "[t-SNE] KL divergence after 250 iterations with early exaggeration: 50.056320\n",
      "[t-SNE] KL divergence after 1000 iterations: 0.344735\n"
     ]
    },
    {
     "data": {
      "text/html": [
       "\n",
       "    <div class=\"bk-root\">\n",
       "        <a href=\"https://bokeh.pydata.org\" target=\"_blank\" class=\"bk-logo bk-logo-small bk-logo-notebook\"></a>\n",
       "        <span id=\"1001\">Loading BokehJS ...</span>\n",
       "    </div>"
      ]
     },
     "metadata": {},
     "output_type": "display_data"
    },
    {
     "data": {
      "application/javascript": [
       "\n",
       "(function(root) {\n",
       "  function now() {\n",
       "    return new Date();\n",
       "  }\n",
       "\n",
       "  var force = true;\n",
       "\n",
       "  if (typeof root._bokeh_onload_callbacks === \"undefined\" || force === true) {\n",
       "    root._bokeh_onload_callbacks = [];\n",
       "    root._bokeh_is_loading = undefined;\n",
       "  }\n",
       "\n",
       "  var JS_MIME_TYPE = 'application/javascript';\n",
       "  var HTML_MIME_TYPE = 'text/html';\n",
       "  var EXEC_MIME_TYPE = 'application/vnd.bokehjs_exec.v0+json';\n",
       "  var CLASS_NAME = 'output_bokeh rendered_html';\n",
       "\n",
       "  /**\n",
       "   * Render data to the DOM node\n",
       "   */\n",
       "  function render(props, node) {\n",
       "    var script = document.createElement(\"script\");\n",
       "    node.appendChild(script);\n",
       "  }\n",
       "\n",
       "  /**\n",
       "   * Handle when an output is cleared or removed\n",
       "   */\n",
       "  function handleClearOutput(event, handle) {\n",
       "    var cell = handle.cell;\n",
       "\n",
       "    var id = cell.output_area._bokeh_element_id;\n",
       "    var server_id = cell.output_area._bokeh_server_id;\n",
       "    // Clean up Bokeh references\n",
       "    if (id != null && id in Bokeh.index) {\n",
       "      Bokeh.index[id].model.document.clear();\n",
       "      delete Bokeh.index[id];\n",
       "    }\n",
       "\n",
       "    if (server_id !== undefined) {\n",
       "      // Clean up Bokeh references\n",
       "      var cmd = \"from bokeh.io.state import curstate; print(curstate().uuid_to_server['\" + server_id + \"'].get_sessions()[0].document.roots[0]._id)\";\n",
       "      cell.notebook.kernel.execute(cmd, {\n",
       "        iopub: {\n",
       "          output: function(msg) {\n",
       "            var id = msg.content.text.trim();\n",
       "            if (id in Bokeh.index) {\n",
       "              Bokeh.index[id].model.document.clear();\n",
       "              delete Bokeh.index[id];\n",
       "            }\n",
       "          }\n",
       "        }\n",
       "      });\n",
       "      // Destroy server and session\n",
       "      var cmd = \"import bokeh.io.notebook as ion; ion.destroy_server('\" + server_id + \"')\";\n",
       "      cell.notebook.kernel.execute(cmd);\n",
       "    }\n",
       "  }\n",
       "\n",
       "  /**\n",
       "   * Handle when a new output is added\n",
       "   */\n",
       "  function handleAddOutput(event, handle) {\n",
       "    var output_area = handle.output_area;\n",
       "    var output = handle.output;\n",
       "\n",
       "    // limit handleAddOutput to display_data with EXEC_MIME_TYPE content only\n",
       "    if ((output.output_type != \"display_data\") || (!output.data.hasOwnProperty(EXEC_MIME_TYPE))) {\n",
       "      return\n",
       "    }\n",
       "\n",
       "    var toinsert = output_area.element.find(\".\" + CLASS_NAME.split(' ')[0]);\n",
       "\n",
       "    if (output.metadata[EXEC_MIME_TYPE][\"id\"] !== undefined) {\n",
       "      toinsert[toinsert.length - 1].firstChild.textContent = output.data[JS_MIME_TYPE];\n",
       "      // store reference to embed id on output_area\n",
       "      output_area._bokeh_element_id = output.metadata[EXEC_MIME_TYPE][\"id\"];\n",
       "    }\n",
       "    if (output.metadata[EXEC_MIME_TYPE][\"server_id\"] !== undefined) {\n",
       "      var bk_div = document.createElement(\"div\");\n",
       "      bk_div.innerHTML = output.data[HTML_MIME_TYPE];\n",
       "      var script_attrs = bk_div.children[0].attributes;\n",
       "      for (var i = 0; i < script_attrs.length; i++) {\n",
       "        toinsert[toinsert.length - 1].firstChild.setAttribute(script_attrs[i].name, script_attrs[i].value);\n",
       "      }\n",
       "      // store reference to server id on output_area\n",
       "      output_area._bokeh_server_id = output.metadata[EXEC_MIME_TYPE][\"server_id\"];\n",
       "    }\n",
       "  }\n",
       "\n",
       "  function register_renderer(events, OutputArea) {\n",
       "\n",
       "    function append_mime(data, metadata, element) {\n",
       "      // create a DOM node to render to\n",
       "      var toinsert = this.create_output_subarea(\n",
       "        metadata,\n",
       "        CLASS_NAME,\n",
       "        EXEC_MIME_TYPE\n",
       "      );\n",
       "      this.keyboard_manager.register_events(toinsert);\n",
       "      // Render to node\n",
       "      var props = {data: data, metadata: metadata[EXEC_MIME_TYPE]};\n",
       "      render(props, toinsert[toinsert.length - 1]);\n",
       "      element.append(toinsert);\n",
       "      return toinsert\n",
       "    }\n",
       "\n",
       "    /* Handle when an output is cleared or removed */\n",
       "    events.on('clear_output.CodeCell', handleClearOutput);\n",
       "    events.on('delete.Cell', handleClearOutput);\n",
       "\n",
       "    /* Handle when a new output is added */\n",
       "    events.on('output_added.OutputArea', handleAddOutput);\n",
       "\n",
       "    /**\n",
       "     * Register the mime type and append_mime function with output_area\n",
       "     */\n",
       "    OutputArea.prototype.register_mime_type(EXEC_MIME_TYPE, append_mime, {\n",
       "      /* Is output safe? */\n",
       "      safe: true,\n",
       "      /* Index of renderer in `output_area.display_order` */\n",
       "      index: 0\n",
       "    });\n",
       "  }\n",
       "\n",
       "  // register the mime type if in Jupyter Notebook environment and previously unregistered\n",
       "  if (root.Jupyter !== undefined) {\n",
       "    var events = require('base/js/events');\n",
       "    var OutputArea = require('notebook/js/outputarea').OutputArea;\n",
       "\n",
       "    if (OutputArea.prototype.mime_types().indexOf(EXEC_MIME_TYPE) == -1) {\n",
       "      register_renderer(events, OutputArea);\n",
       "    }\n",
       "  }\n",
       "\n",
       "  \n",
       "  if (typeof (root._bokeh_timeout) === \"undefined\" || force === true) {\n",
       "    root._bokeh_timeout = Date.now() + 5000;\n",
       "    root._bokeh_failed_load = false;\n",
       "  }\n",
       "\n",
       "  var NB_LOAD_WARNING = {'data': {'text/html':\n",
       "     \"<div style='background-color: #fdd'>\\n\"+\n",
       "     \"<p>\\n\"+\n",
       "     \"BokehJS does not appear to have successfully loaded. If loading BokehJS from CDN, this \\n\"+\n",
       "     \"may be due to a slow or bad network connection. Possible fixes:\\n\"+\n",
       "     \"</p>\\n\"+\n",
       "     \"<ul>\\n\"+\n",
       "     \"<li>re-rerun `output_notebook()` to attempt to load from CDN again, or</li>\\n\"+\n",
       "     \"<li>use INLINE resources instead, as so:</li>\\n\"+\n",
       "     \"</ul>\\n\"+\n",
       "     \"<code>\\n\"+\n",
       "     \"from bokeh.resources import INLINE\\n\"+\n",
       "     \"output_notebook(resources=INLINE)\\n\"+\n",
       "     \"</code>\\n\"+\n",
       "     \"</div>\"}};\n",
       "\n",
       "  function display_loaded() {\n",
       "    var el = document.getElementById(\"1001\");\n",
       "    if (el != null) {\n",
       "      el.textContent = \"BokehJS is loading...\";\n",
       "    }\n",
       "    if (root.Bokeh !== undefined) {\n",
       "      if (el != null) {\n",
       "        el.textContent = \"BokehJS \" + root.Bokeh.version + \" successfully loaded.\";\n",
       "      }\n",
       "    } else if (Date.now() < root._bokeh_timeout) {\n",
       "      setTimeout(display_loaded, 100)\n",
       "    }\n",
       "  }\n",
       "\n",
       "\n",
       "  function run_callbacks() {\n",
       "    try {\n",
       "      root._bokeh_onload_callbacks.forEach(function(callback) {\n",
       "        if (callback != null)\n",
       "          callback();\n",
       "      });\n",
       "    } finally {\n",
       "      delete root._bokeh_onload_callbacks\n",
       "    }\n",
       "    console.debug(\"Bokeh: all callbacks have finished\");\n",
       "  }\n",
       "\n",
       "  function load_libs(css_urls, js_urls, callback) {\n",
       "    if (css_urls == null) css_urls = [];\n",
       "    if (js_urls == null) js_urls = [];\n",
       "\n",
       "    root._bokeh_onload_callbacks.push(callback);\n",
       "    if (root._bokeh_is_loading > 0) {\n",
       "      console.debug(\"Bokeh: BokehJS is being loaded, scheduling callback at\", now());\n",
       "      return null;\n",
       "    }\n",
       "    if (js_urls == null || js_urls.length === 0) {\n",
       "      run_callbacks();\n",
       "      return null;\n",
       "    }\n",
       "    console.debug(\"Bokeh: BokehJS not loaded, scheduling load and callback at\", now());\n",
       "    root._bokeh_is_loading = css_urls.length + js_urls.length;\n",
       "\n",
       "    function on_load() {\n",
       "      root._bokeh_is_loading--;\n",
       "      if (root._bokeh_is_loading === 0) {\n",
       "        console.debug(\"Bokeh: all BokehJS libraries/stylesheets loaded\");\n",
       "        run_callbacks()\n",
       "      }\n",
       "    }\n",
       "\n",
       "    function on_error() {\n",
       "      console.error(\"failed to load \" + url);\n",
       "    }\n",
       "\n",
       "    for (var i = 0; i < css_urls.length; i++) {\n",
       "      var url = css_urls[i];\n",
       "      const element = document.createElement(\"link\");\n",
       "      element.onload = on_load;\n",
       "      element.onerror = on_error;\n",
       "      element.rel = \"stylesheet\";\n",
       "      element.type = \"text/css\";\n",
       "      element.href = url;\n",
       "      console.debug(\"Bokeh: injecting link tag for BokehJS stylesheet: \", url);\n",
       "      document.body.appendChild(element);\n",
       "    }\n",
       "\n",
       "    for (var i = 0; i < js_urls.length; i++) {\n",
       "      var url = js_urls[i];\n",
       "      var element = document.createElement('script');\n",
       "      element.onload = on_load;\n",
       "      element.onerror = on_error;\n",
       "      element.async = false;\n",
       "      element.src = url;\n",
       "      console.debug(\"Bokeh: injecting script tag for BokehJS library: \", url);\n",
       "      document.head.appendChild(element);\n",
       "    }\n",
       "  };var element = document.getElementById(\"1001\");\n",
       "  if (element == null) {\n",
       "    console.error(\"Bokeh: ERROR: autoload.js configured with elementid '1001' but no matching script tag was found. \")\n",
       "    return false;\n",
       "  }\n",
       "\n",
       "  function inject_raw_css(css) {\n",
       "    const element = document.createElement(\"style\");\n",
       "    element.appendChild(document.createTextNode(css));\n",
       "    document.body.appendChild(element);\n",
       "  }\n",
       "\n",
       "  var js_urls = [\"https://cdn.pydata.org/bokeh/release/bokeh-1.3.4.min.js\", \"https://cdn.pydata.org/bokeh/release/bokeh-widgets-1.3.4.min.js\", \"https://cdn.pydata.org/bokeh/release/bokeh-tables-1.3.4.min.js\", \"https://cdn.pydata.org/bokeh/release/bokeh-gl-1.3.4.min.js\"];\n",
       "  var css_urls = [];\n",
       "\n",
       "  var inline_js = [\n",
       "    function(Bokeh) {\n",
       "      Bokeh.set_log_level(\"info\");\n",
       "    },\n",
       "    \n",
       "    function(Bokeh) {\n",
       "      \n",
       "    },\n",
       "    function(Bokeh) {} // ensure no trailing comma for IE\n",
       "  ];\n",
       "\n",
       "  function run_inline_js() {\n",
       "    \n",
       "    if ((root.Bokeh !== undefined) || (force === true)) {\n",
       "      for (var i = 0; i < inline_js.length; i++) {\n",
       "        inline_js[i].call(root, root.Bokeh);\n",
       "      }if (force === true) {\n",
       "        display_loaded();\n",
       "      }} else if (Date.now() < root._bokeh_timeout) {\n",
       "      setTimeout(run_inline_js, 100);\n",
       "    } else if (!root._bokeh_failed_load) {\n",
       "      console.log(\"Bokeh: BokehJS failed to load within specified timeout.\");\n",
       "      root._bokeh_failed_load = true;\n",
       "    } else if (force !== true) {\n",
       "      var cell = $(document.getElementById(\"1001\")).parents('.cell').data().cell;\n",
       "      cell.output_area.append_execute_result(NB_LOAD_WARNING)\n",
       "    }\n",
       "\n",
       "  }\n",
       "\n",
       "  if (root._bokeh_is_loading === 0) {\n",
       "    console.debug(\"Bokeh: BokehJS loaded, going straight to plotting\");\n",
       "    run_inline_js();\n",
       "  } else {\n",
       "    load_libs(css_urls, js_urls, function() {\n",
       "      console.debug(\"Bokeh: BokehJS plotting callback run at\", now());\n",
       "      run_inline_js();\n",
       "    });\n",
       "  }\n",
       "}(window));"
      ],
      "application/vnd.bokehjs_load.v0+json": "\n(function(root) {\n  function now() {\n    return new Date();\n  }\n\n  var force = true;\n\n  if (typeof root._bokeh_onload_callbacks === \"undefined\" || force === true) {\n    root._bokeh_onload_callbacks = [];\n    root._bokeh_is_loading = undefined;\n  }\n\n  \n\n  \n  if (typeof (root._bokeh_timeout) === \"undefined\" || force === true) {\n    root._bokeh_timeout = Date.now() + 5000;\n    root._bokeh_failed_load = false;\n  }\n\n  var NB_LOAD_WARNING = {'data': {'text/html':\n     \"<div style='background-color: #fdd'>\\n\"+\n     \"<p>\\n\"+\n     \"BokehJS does not appear to have successfully loaded. If loading BokehJS from CDN, this \\n\"+\n     \"may be due to a slow or bad network connection. Possible fixes:\\n\"+\n     \"</p>\\n\"+\n     \"<ul>\\n\"+\n     \"<li>re-rerun `output_notebook()` to attempt to load from CDN again, or</li>\\n\"+\n     \"<li>use INLINE resources instead, as so:</li>\\n\"+\n     \"</ul>\\n\"+\n     \"<code>\\n\"+\n     \"from bokeh.resources import INLINE\\n\"+\n     \"output_notebook(resources=INLINE)\\n\"+\n     \"</code>\\n\"+\n     \"</div>\"}};\n\n  function display_loaded() {\n    var el = document.getElementById(\"1001\");\n    if (el != null) {\n      el.textContent = \"BokehJS is loading...\";\n    }\n    if (root.Bokeh !== undefined) {\n      if (el != null) {\n        el.textContent = \"BokehJS \" + root.Bokeh.version + \" successfully loaded.\";\n      }\n    } else if (Date.now() < root._bokeh_timeout) {\n      setTimeout(display_loaded, 100)\n    }\n  }\n\n\n  function run_callbacks() {\n    try {\n      root._bokeh_onload_callbacks.forEach(function(callback) {\n        if (callback != null)\n          callback();\n      });\n    } finally {\n      delete root._bokeh_onload_callbacks\n    }\n    console.debug(\"Bokeh: all callbacks have finished\");\n  }\n\n  function load_libs(css_urls, js_urls, callback) {\n    if (css_urls == null) css_urls = [];\n    if (js_urls == null) js_urls = [];\n\n    root._bokeh_onload_callbacks.push(callback);\n    if (root._bokeh_is_loading > 0) {\n      console.debug(\"Bokeh: BokehJS is being loaded, scheduling callback at\", now());\n      return null;\n    }\n    if (js_urls == null || js_urls.length === 0) {\n      run_callbacks();\n      return null;\n    }\n    console.debug(\"Bokeh: BokehJS not loaded, scheduling load and callback at\", now());\n    root._bokeh_is_loading = css_urls.length + js_urls.length;\n\n    function on_load() {\n      root._bokeh_is_loading--;\n      if (root._bokeh_is_loading === 0) {\n        console.debug(\"Bokeh: all BokehJS libraries/stylesheets loaded\");\n        run_callbacks()\n      }\n    }\n\n    function on_error() {\n      console.error(\"failed to load \" + url);\n    }\n\n    for (var i = 0; i < css_urls.length; i++) {\n      var url = css_urls[i];\n      const element = document.createElement(\"link\");\n      element.onload = on_load;\n      element.onerror = on_error;\n      element.rel = \"stylesheet\";\n      element.type = \"text/css\";\n      element.href = url;\n      console.debug(\"Bokeh: injecting link tag for BokehJS stylesheet: \", url);\n      document.body.appendChild(element);\n    }\n\n    for (var i = 0; i < js_urls.length; i++) {\n      var url = js_urls[i];\n      var element = document.createElement('script');\n      element.onload = on_load;\n      element.onerror = on_error;\n      element.async = false;\n      element.src = url;\n      console.debug(\"Bokeh: injecting script tag for BokehJS library: \", url);\n      document.head.appendChild(element);\n    }\n  };var element = document.getElementById(\"1001\");\n  if (element == null) {\n    console.error(\"Bokeh: ERROR: autoload.js configured with elementid '1001' but no matching script tag was found. \")\n    return false;\n  }\n\n  function inject_raw_css(css) {\n    const element = document.createElement(\"style\");\n    element.appendChild(document.createTextNode(css));\n    document.body.appendChild(element);\n  }\n\n  var js_urls = [\"https://cdn.pydata.org/bokeh/release/bokeh-1.3.4.min.js\", \"https://cdn.pydata.org/bokeh/release/bokeh-widgets-1.3.4.min.js\", \"https://cdn.pydata.org/bokeh/release/bokeh-tables-1.3.4.min.js\", \"https://cdn.pydata.org/bokeh/release/bokeh-gl-1.3.4.min.js\"];\n  var css_urls = [];\n\n  var inline_js = [\n    function(Bokeh) {\n      Bokeh.set_log_level(\"info\");\n    },\n    \n    function(Bokeh) {\n      \n    },\n    function(Bokeh) {} // ensure no trailing comma for IE\n  ];\n\n  function run_inline_js() {\n    \n    if ((root.Bokeh !== undefined) || (force === true)) {\n      for (var i = 0; i < inline_js.length; i++) {\n        inline_js[i].call(root, root.Bokeh);\n      }if (force === true) {\n        display_loaded();\n      }} else if (Date.now() < root._bokeh_timeout) {\n      setTimeout(run_inline_js, 100);\n    } else if (!root._bokeh_failed_load) {\n      console.log(\"Bokeh: BokehJS failed to load within specified timeout.\");\n      root._bokeh_failed_load = true;\n    } else if (force !== true) {\n      var cell = $(document.getElementById(\"1001\")).parents('.cell').data().cell;\n      cell.output_area.append_execute_result(NB_LOAD_WARNING)\n    }\n\n  }\n\n  if (root._bokeh_is_loading === 0) {\n    console.debug(\"Bokeh: BokehJS loaded, going straight to plotting\");\n    run_inline_js();\n  } else {\n    load_libs(css_urls, js_urls, function() {\n      console.debug(\"Bokeh: BokehJS plotting callback run at\", now());\n      run_inline_js();\n    });\n  }\n}(window));"
     },
     "metadata": {},
     "output_type": "display_data"
    },
    {
     "data": {
      "text/html": [
       "\n",
       "\n",
       "\n",
       "\n",
       "\n",
       "\n",
       "  <div class=\"bk-root\" id=\"15d3a45a-1e32-4cee-b38a-eaba574bb498\" data-root-id=\"1002\"></div>\n"
      ]
     },
     "metadata": {},
     "output_type": "display_data"
    },
    {
     "data": {
      "application/javascript": [
       "(function(root) {\n",
       "  function embed_document(root) {\n",
       "    \n",
       "  var docs_json = {\"c0f8c847-5614-4e82-9fc1-4e7c8d8fed67\":{\"roots\":{\"references\":[{\"attributes\":{\"below\":[{\"id\":\"1013\",\"type\":\"LinearAxis\"}],\"center\":[{\"id\":\"1017\",\"type\":\"Grid\"},{\"id\":\"1022\",\"type\":\"Grid\"}],\"left\":[{\"id\":\"1018\",\"type\":\"LinearAxis\"}],\"plot_height\":400,\"plot_width\":500,\"renderers\":[{\"id\":\"1039\",\"type\":\"GlyphRenderer\"}],\"title\":{\"id\":\"1003\",\"type\":\"Title\"},\"toolbar\":{\"id\":\"1029\",\"type\":\"Toolbar\"},\"x_range\":{\"id\":\"1005\",\"type\":\"DataRange1d\"},\"x_scale\":{\"id\":\"1009\",\"type\":\"LinearScale\"},\"y_range\":{\"id\":\"1007\",\"type\":\"DataRange1d\"},\"y_scale\":{\"id\":\"1011\",\"type\":\"LinearScale\"}},\"id\":\"1002\",\"subtype\":\"Figure\",\"type\":\"Plot\"},{\"attributes\":{\"formatter\":{\"id\":\"1042\",\"type\":\"BasicTickFormatter\"},\"ticker\":{\"id\":\"1019\",\"type\":\"BasicTicker\"}},\"id\":\"1018\",\"type\":\"LinearAxis\"},{\"attributes\":{\"dimension\":1,\"ticker\":{\"id\":\"1019\",\"type\":\"BasicTicker\"}},\"id\":\"1022\",\"type\":\"Grid\"},{\"attributes\":{\"fill_color\":{\"field\":\"fill_color\"},\"line_color\":{\"field\":\"line_color\"},\"x\":{\"field\":\"x\"},\"y\":{\"field\":\"y\"}},\"id\":\"1037\",\"type\":\"Scatter\"},{\"attributes\":{},\"id\":\"1011\",\"type\":\"LinearScale\"},{\"attributes\":{},\"id\":\"1044\",\"type\":\"BasicTickFormatter\"},{\"attributes\":{},\"id\":\"1047\",\"type\":\"Selection\"},{\"attributes\":{\"active_drag\":\"auto\",\"active_inspect\":\"auto\",\"active_multi\":null,\"active_scroll\":\"auto\",\"active_tap\":\"auto\",\"tools\":[{\"id\":\"1023\",\"type\":\"PanTool\"},{\"id\":\"1024\",\"type\":\"WheelZoomTool\"},{\"id\":\"1025\",\"type\":\"BoxZoomTool\"},{\"id\":\"1026\",\"type\":\"SaveTool\"},{\"id\":\"1027\",\"type\":\"ResetTool\"},{\"id\":\"1028\",\"type\":\"HelpTool\"}]},\"id\":\"1029\",\"type\":\"Toolbar\"},{\"attributes\":{\"callback\":null},\"id\":\"1007\",\"type\":\"DataRange1d\"},{\"attributes\":{},\"id\":\"1048\",\"type\":\"UnionRenderers\"},{\"attributes\":{\"callback\":null},\"id\":\"1005\",\"type\":\"DataRange1d\"},{\"attributes\":{},\"id\":\"1023\",\"type\":\"PanTool\"},{\"attributes\":{},\"id\":\"1024\",\"type\":\"WheelZoomTool\"},{\"attributes\":{\"overlay\":{\"id\":\"1046\",\"type\":\"BoxAnnotation\"}},\"id\":\"1025\",\"type\":\"BoxZoomTool\"},{\"attributes\":{},\"id\":\"1026\",\"type\":\"SaveTool\"},{\"attributes\":{\"text\":\"t-SNE Clustering of 8 LDA Topics\"},\"id\":\"1003\",\"type\":\"Title\"},{\"attributes\":{},\"id\":\"1027\",\"type\":\"ResetTool\"},{\"attributes\":{\"source\":{\"id\":\"1036\",\"type\":\"ColumnDataSource\"}},\"id\":\"1040\",\"type\":\"CDSView\"},{\"attributes\":{\"fill_alpha\":{\"value\":0.1},\"fill_color\":{\"value\":\"#1f77b4\"},\"line_alpha\":{\"value\":0.1},\"line_color\":{\"value\":\"#1f77b4\"},\"x\":{\"field\":\"x\"},\"y\":{\"field\":\"y\"}},\"id\":\"1038\",\"type\":\"Scatter\"},{\"attributes\":{\"formatter\":{\"id\":\"1044\",\"type\":\"BasicTickFormatter\"},\"ticker\":{\"id\":\"1014\",\"type\":\"BasicTicker\"}},\"id\":\"1013\",\"type\":\"LinearAxis\"},{\"attributes\":{},\"id\":\"1028\",\"type\":\"HelpTool\"},{\"attributes\":{},\"id\":\"1019\",\"type\":\"BasicTicker\"},{\"attributes\":{},\"id\":\"1009\",\"type\":\"LinearScale\"},{\"attributes\":{},\"id\":\"1042\",\"type\":\"BasicTickFormatter\"},{\"attributes\":{\"callback\":null,\"data\":{\"fill_color\":[\"#1f77b4\",\"#1f77b4\",\"#1f77b4\",\"#1f77b4\",\"#1f77b4\",\"#2ca02c\",\"#2ca02c\",\"#1f77b4\",\"#1f77b4\",\"#1f77b4\",\"#1f77b4\",\"#1f77b4\",\"#1f77b4\",\"#1f77b4\",\"#1f77b4\",\"#1f77b4\",\"#1f77b4\",\"#ff7f0e\",\"#1f77b4\",\"#1f77b4\",\"#1f77b4\",\"#1f77b4\",\"#ff7f0e\",\"#ff7f0e\",\"#ff7f0e\",\"#1f77b4\",\"#2ca02c\",\"#1f77b4\",\"#1f77b4\",\"#1f77b4\",\"#1f77b4\",\"#1f77b4\",\"#1f77b4\",\"#1f77b4\",\"#1f77b4\",\"#1f77b4\",\"#1f77b4\",\"#ff7f0e\",\"#1f77b4\",\"#1f77b4\",\"#1f77b4\",\"#ff7f0e\"],\"line_color\":[\"#1f77b4\",\"#1f77b4\",\"#1f77b4\",\"#1f77b4\",\"#1f77b4\",\"#2ca02c\",\"#2ca02c\",\"#1f77b4\",\"#1f77b4\",\"#1f77b4\",\"#1f77b4\",\"#1f77b4\",\"#1f77b4\",\"#1f77b4\",\"#1f77b4\",\"#1f77b4\",\"#1f77b4\",\"#ff7f0e\",\"#1f77b4\",\"#1f77b4\",\"#1f77b4\",\"#1f77b4\",\"#ff7f0e\",\"#ff7f0e\",\"#ff7f0e\",\"#1f77b4\",\"#2ca02c\",\"#1f77b4\",\"#1f77b4\",\"#1f77b4\",\"#1f77b4\",\"#1f77b4\",\"#1f77b4\",\"#1f77b4\",\"#1f77b4\",\"#1f77b4\",\"#1f77b4\",\"#ff7f0e\",\"#1f77b4\",\"#1f77b4\",\"#1f77b4\",\"#ff7f0e\"],\"x\":{\"__ndarray__\":\"D7IRwunlvcGD5YE/U+HGwXaKRcHlMABBirLhv/JsFMHybBTB2BC8QWr0pkDNGuXBaZYPwqZapsF8eyBAsQUUwl+9LsEjB6jBSX06wtGKcUEVl0NAyl2Awd3LFMKtBITB03sawc2OgMCT6htBspayQXSVYMEQ7oBBIR0lwudtAUEK6Ka+KhIiwTeExcES0WzB7zkhwsd94sET141BB6UBwvmr0sElUsTB\",\"dtype\":\"float32\",\"shape\":[42]},\"y\":{\"__ndarray__\":\"gNS4waRzH8JHG5RB8MmIwULdUkHg711CQQM/QiB2pMEgdqTBUlNEwXzqhsGmUhVCAI15QW/73cEzxiDC3lMSwtl0RMJoqqVCezRJwWIJD0FGZN/BpIIIwW0LjELHjHZCbKiRQj1s6sD1xitCFCGDvXduHUDuBxHCvmFFQEWfx8AY5I9Aq+ULwlratkHYrfxBBA/pQVTyaEKlNbXBeHoOwQGd/D/alY5C\",\"dtype\":\"float32\",\"shape\":[42]}},\"selected\":{\"id\":\"1047\",\"type\":\"Selection\"},\"selection_policy\":{\"id\":\"1048\",\"type\":\"UnionRenderers\"}},\"id\":\"1036\",\"type\":\"ColumnDataSource\"},{\"attributes\":{\"bottom_units\":\"screen\",\"fill_alpha\":{\"value\":0.5},\"fill_color\":{\"value\":\"lightgrey\"},\"left_units\":\"screen\",\"level\":\"overlay\",\"line_alpha\":{\"value\":1.0},\"line_color\":{\"value\":\"black\"},\"line_dash\":[4,4],\"line_width\":{\"value\":2},\"render_mode\":\"css\",\"right_units\":\"screen\",\"top_units\":\"screen\"},\"id\":\"1046\",\"type\":\"BoxAnnotation\"},{\"attributes\":{},\"id\":\"1014\",\"type\":\"BasicTicker\"},{\"attributes\":{\"ticker\":{\"id\":\"1014\",\"type\":\"BasicTicker\"}},\"id\":\"1017\",\"type\":\"Grid\"},{\"attributes\":{\"data_source\":{\"id\":\"1036\",\"type\":\"ColumnDataSource\"},\"glyph\":{\"id\":\"1037\",\"type\":\"Scatter\"},\"hover_glyph\":null,\"muted_glyph\":null,\"nonselection_glyph\":{\"id\":\"1038\",\"type\":\"Scatter\"},\"selection_glyph\":null,\"view\":{\"id\":\"1040\",\"type\":\"CDSView\"}},\"id\":\"1039\",\"type\":\"GlyphRenderer\"}],\"root_ids\":[\"1002\"]},\"title\":\"Bokeh Application\",\"version\":\"1.3.4\"}};\n",
       "  var render_items = [{\"docid\":\"c0f8c847-5614-4e82-9fc1-4e7c8d8fed67\",\"roots\":{\"1002\":\"15d3a45a-1e32-4cee-b38a-eaba574bb498\"}}];\n",
       "  root.Bokeh.embed.embed_items_notebook(docs_json, render_items);\n",
       "\n",
       "  }\n",
       "  if (root.Bokeh !== undefined) {\n",
       "    embed_document(root);\n",
       "  } else {\n",
       "    var attempts = 0;\n",
       "    var timer = setInterval(function(root) {\n",
       "      if (root.Bokeh !== undefined) {\n",
       "        embed_document(root);\n",
       "        clearInterval(timer);\n",
       "      }\n",
       "      attempts++;\n",
       "      if (attempts > 100) {\n",
       "        console.log(\"Bokeh: ERROR: Unable to run BokehJS code because BokehJS library is missing\");\n",
       "        clearInterval(timer);\n",
       "      }\n",
       "    }, 10, root)\n",
       "  }\n",
       "})(window);"
      ],
      "application/vnd.bokehjs_exec.v0+json": ""
     },
     "metadata": {
      "application/vnd.bokehjs_exec.v0+json": {
       "id": "1002"
      }
     },
     "output_type": "display_data"
    }
   ],
   "source": [
    "# Get topic weights\n",
    "topic_weights = []\n",
    "for i, row_list in enumerate(lda_model[corpus]):\n",
    "    topic_weights.append([w for i, w in row_list[0]])\n",
    "\n",
    "# Array of topic weights    \n",
    "arr = pd.DataFrame(topic_weights).fillna(0).values\n",
    "\n",
    "# Keep the well separated points \n",
    "arr = arr[np.amax(arr, axis=1) > 0.35]\n",
    "\n",
    "# Dominant topic number in each doc\n",
    "topic_num = np.argmax(arr, axis=1)\n",
    "\n",
    "# tSNE Dimension Reduction\n",
    "tsne_model = TSNE(n_components=2, verbose=1, random_state=0, angle=.99, init='pca')\n",
    "tsne_lda = tsne_model.fit_transform(arr)\n",
    "\n",
    "# Plot the Topic Clusters using Bokeh\n",
    "output_notebook()\n",
    "n_topics = 8\n",
    "mycolors = np.array([color for name, color in mcolors.TABLEAU_COLORS.items()])\n",
    "plot = figure(title=\"t-SNE Clustering of {} LDA Topics\".format(n_topics), \n",
    "              plot_width=500, plot_height=400)\n",
    "plot.scatter(x=tsne_lda[:,0], y=tsne_lda[:,1], color=mycolors[topic_num])\n",
    "show(plot)"
   ]
  },
  {
   "cell_type": "code",
   "execution_count": null,
   "metadata": {},
   "outputs": [],
   "source": []
  },
  {
   "cell_type": "code",
   "execution_count": null,
   "metadata": {},
   "outputs": [],
   "source": []
  }
 ],
 "metadata": {
  "kernelspec": {
   "display_name": "Python 3",
   "language": "python",
   "name": "python3"
  },
  "language_info": {
   "codemirror_mode": {
    "name": "ipython",
    "version": 3
   },
   "file_extension": ".py",
   "mimetype": "text/x-python",
   "name": "python",
   "nbconvert_exporter": "python",
   "pygments_lexer": "ipython3",
   "version": "3.7.6"
  }
 },
 "nbformat": 4,
 "nbformat_minor": 2
}
